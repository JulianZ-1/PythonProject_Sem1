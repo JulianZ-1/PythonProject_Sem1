{
 "cells": [
  {
   "cell_type": "code",
   "execution_count": 18,
   "metadata": {},
   "outputs": [],
   "source": [
    "# inside dm_tools.py\n",
    "# this part of the code is from Week 2 prac\n",
    "import numpy as np\n",
    "import pandas as pd\n",
    "def data_prep():\n",
    " # read the veteran dataset\n",
    " df = pd.read_csv('veteran.csv')\n",
    "\n",
    " # change DemCluster from interval/integer to nominal/str\n",
    " df['DemCluster'] = df['DemCluster'].astype(str)\n",
    "\n",
    " # change DemHomeOwner into binary 0/1 variable\n",
    " dem_home_owner_map = {'U':0, 'H': 1}\n",
    " df['DemHomeOwner'] = df['DemHomeOwner'].map(dem_home_owner_map)\n",
    "\n",
    " # denote errorneous values in DemMidIncome\n",
    " mask = df['DemMedIncome'] < 1\n",
    " df.loc[mask, 'DemMedIncome'] = np.nan\n",
    "\n",
    " # impute missing values in DemAge with its mean\n",
    " df['DemAge'].fillna(df['DemAge'].mean(), inplace=True)\n",
    " # impute med income using mean\n",
    " df['DemMedIncome'].fillna(df['DemMedIncome'].mean(), inplace=True)\n",
    " # impute gift avg card 36 using mean\n",
    " df['GiftAvgCard36'].fillna(df['GiftAvgCard36'].mean(), inplace=True)\n",
    "\n",
    " # drop ID and the unused target variable\n",
    " df.drop(['ID', 'TargetD'], axis=1, inplace=True)\n",
    "\n",
    " # one-hot encoding\n",
    " df = pd.get_dummies(df)\n",
    "\n",
    " return df\n"
   ]
  },
  {
   "cell_type": "code",
   "execution_count": 19,
   "metadata": {},
   "outputs": [],
   "source": [
    "#import our project sapce/Jupyter Notebook\n",
    "from dm_tools import data_prep"
   ]
  },
  {
   "cell_type": "code",
   "execution_count": 20,
   "metadata": {},
   "outputs": [],
   "source": [
    "from sklearn.model_selection import train_test_split"
   ]
  },
  {
   "cell_type": "code",
   "execution_count": 21,
   "metadata": {},
   "outputs": [],
   "source": [
    "#Preprocessing step\n",
    "df = data_prep()\n",
    "#target/input spliot\n",
    "y = df['TargetB']\n",
    "x = df.drop(['TargetB'], axis =1)"
   ]
  },
  {
   "cell_type": "code",
   "execution_count": 26,
   "metadata": {},
   "outputs": [],
   "source": [
    "# setting random state\n",
    "rs = 10\n",
    "\n",
    "# to ignore any future warnings\n",
    "import warnings\n",
    "warnings.filterwarnings(\"ignore\")\n",
    "\n",
    "X_mat = x.values\n",
    "x_train, x_test, y_train, y_test = train_test_split(X_mat, y, test_size=0.3,\n",
    "                                                   stratify=y, random_state=rs)"
   ]
  },
  {
   "cell_type": "code",
   "execution_count": 30,
   "metadata": {},
   "outputs": [
    {
     "data": {
      "text/plain": [
       "{'ccp_alpha': 0.0,\n",
       " 'class_weight': None,\n",
       " 'criterion': 'gini',\n",
       " 'max_depth': None,\n",
       " 'max_features': None,\n",
       " 'max_leaf_nodes': None,\n",
       " 'min_impurity_decrease': 0.0,\n",
       " 'min_impurity_split': None,\n",
       " 'min_samples_leaf': 1,\n",
       " 'min_samples_split': 2,\n",
       " 'min_weight_fraction_leaf': 0.0,\n",
       " 'random_state': 10,\n",
       " 'splitter': 'best'}"
      ]
     },
     "execution_count": 30,
     "metadata": {},
     "output_type": "execute_result"
    }
   ],
   "source": [
    "from sklearn.tree import DecisionTreeClassifier\n",
    "from sklearn.metrics import classification_report, accuracy_score\n",
    "\n",
    "# simple ecision tree training\n",
    "model = DecisionTreeClassifier(random_state=rs)\n",
    "model.fit(x_train, y_train)\n",
    "model.get_params(deep = True)"
   ]
  },
  {
   "cell_type": "code",
   "execution_count": 31,
   "metadata": {},
   "outputs": [
    {
     "name": "stdout",
     "output_type": "stream",
     "text": [
      "Train accuracy: 1.0\n"
     ]
    }
   ],
   "source": [
    "print(\"Train accuracy:\", model.score(x_train,y_train))"
   ]
  },
  {
   "cell_type": "code",
   "execution_count": 33,
   "metadata": {},
   "outputs": [
    {
     "name": "stdout",
     "output_type": "stream",
     "text": [
      "Test accuracy: 0.5216792842395045\n"
     ]
    }
   ],
   "source": [
    "print(\"Test accuracy:\", model.score(x_test,y_test))"
   ]
  },
  {
   "cell_type": "code",
   "execution_count": 34,
   "metadata": {},
   "outputs": [
    {
     "name": "stdout",
     "output_type": "stream",
     "text": [
      "              precision    recall  f1-score   support\n",
      "\n",
      "           0       0.52      0.51      0.52      1453\n",
      "           1       0.52      0.54      0.53      1453\n",
      "\n",
      "    accuracy                           0.52      2906\n",
      "   macro avg       0.52      0.52      0.52      2906\n",
      "weighted avg       0.52      0.52      0.52      2906\n",
      "\n"
     ]
    }
   ],
   "source": [
    "y_pred = model.predict(x_test)\n",
    "print(classification_report(y_test, y_pred))"
   ]
  },
  {
   "cell_type": "code",
   "execution_count": 35,
   "metadata": {},
   "outputs": [
    {
     "name": "stdout",
     "output_type": "stream",
     "text": [
      "DemMedHomeValue : 0.10371353665921498\n",
      "DemMedIncome : 0.07677600801105956\n",
      "GiftAvgAll : 0.06980988595894197\n",
      "DemPctVeterans : 0.06613214928597241\n",
      "DemAge : 0.060750495114459305\n",
      "GiftTimeFirst : 0.04594492638340621\n",
      "GiftAvgLast : 0.039119529776787676\n",
      "GiftAvgCard36 : 0.0380219076090902\n",
      "GiftTimeLast : 0.03754481714205862\n",
      "PromCntAll : 0.03536307758528952\n",
      "PromCnt36 : 0.0344873233968644\n",
      "GiftAvg36 : 0.03333456207629517\n",
      "PromCntCardAll : 0.031160032819215713\n",
      "GiftCntCardAll : 0.029090632497530206\n",
      "GiftCnt36 : 0.02902465415187723\n",
      "GiftCntAll : 0.02844273638690637\n",
      "PromCntCard36 : 0.02602984397479075\n",
      "PromCnt12 : 0.02179582564122642\n",
      "GiftCntCard36 : 0.014245411759881576\n",
      "PromCntCard12 : 0.009727393864117933\n",
      "DemGender_F : 0.00958941080675588\n",
      "DemGender_M : 0.008873219061628999\n",
      "StatusCatStarAll : 0.007669225053432156\n",
      "DemHomeOwner : 0.007207373089501671\n",
      "DemCluster_24 : 0.0057026040183934925\n",
      "DemCluster_12 : 0.005510787850861791\n",
      "DemCluster_45 : 0.005239407634319141\n",
      "DemGender_U : 0.004831437916958211\n",
      "DemCluster_42 : 0.004373462022117502\n",
      "DemCluster_2 : 0.004184384030192792\n",
      "DemCluster_44 : 0.004178702756873852\n",
      "DemCluster_18 : 0.004158597571798918\n",
      "DemCluster_17 : 0.003995590068057416\n",
      "DemCluster_41 : 0.0038201884572073275\n",
      "DemCluster_16 : 0.00381704885638265\n",
      "DemCluster_35 : 0.0037319337993068783\n",
      "DemCluster_49 : 0.0035797166487822702\n",
      "DemCluster_13 : 0.0034093271526899863\n",
      "DemCluster_27 : 0.0033521555702937696\n",
      "DemCluster_14 : 0.003183882957792245\n",
      "DemCluster_23 : 0.0030872209797120067\n",
      "DemCluster_21 : 0.002968837575810838\n",
      "DemCluster_6 : 0.0028289200966192135\n",
      "DemCluster_36 : 0.0028204351070371197\n",
      "DemCluster_40 : 0.0027091959369556036\n",
      "DemCluster_25 : 0.002653565791683152\n",
      "DemCluster_15 : 0.002651296469556776\n",
      "DemCluster_30 : 0.0026136078816974195\n",
      "StatusCat96NK_A : 0.0025063645156052214\n",
      "DemCluster_46 : 0.0024948302615134064\n",
      "DemCluster_43 : 0.0024425029085009984\n",
      "DemCluster_0 : 0.0024316868388458454\n",
      "DemCluster_53 : 0.0023246695532471496\n",
      "DemCluster_38 : 0.0022893553802226163\n",
      "DemCluster_11 : 0.0022253939627903947\n",
      "DemCluster_8 : 0.002038646762993301\n",
      "DemCluster_7 : 0.002014070328229622\n",
      "DemCluster_1 : 0.0018246705053744014\n",
      "DemCluster_10 : 0.0017816984921685867\n",
      "DemCluster_51 : 0.0017414480153185338\n",
      "DemCluster_22 : 0.0016521824743165922\n",
      "DemCluster_28 : 0.001646766868005806\n",
      "DemCluster_9 : 0.0015105849469410379\n",
      "DemCluster_34 : 0.0014819728155196252\n",
      "DemCluster_20 : 0.0013798311523435063\n",
      "StatusCat96NK_N : 0.0013025529560229134\n",
      "DemCluster_26 : 0.0010788032026970088\n",
      "DemCluster_33 : 0.0010406424123238286\n",
      "DemCluster_48 : 0.0010021934800695865\n",
      "DemCluster_31 : 0.0009742622438287249\n",
      "StatusCat96NK_S : 0.0009713655731354849\n",
      "DemCluster_5 : 0.0009379018228575753\n",
      "DemCluster_19 : 0.0008902233459755585\n",
      "DemCluster_50 : 0.0008221475231148005\n",
      "StatusCat96NK_F : 0.0006882989183874141\n",
      "StatusCat96NK_E : 0.0005449862459643553\n",
      "DemCluster_4 : 0.0005241756939637173\n",
      "DemCluster_3 : 0.0005008789964542168\n",
      "StatusCat96NK_L : 0.0004916420845624388\n",
      "DemCluster_39 : 0.00044247787610619485\n",
      "DemCluster_37 : 0.0003933136676499509\n",
      "DemCluster_32 : 0.0003511729175445991\n",
      "DemCluster_52 : 0.0\n",
      "DemCluster_47 : 0.0\n",
      "DemCluster_29 : 0.0\n"
     ]
    }
   ],
   "source": [
    "#grab feature importances from the model and feature name from the original X\n",
    "importances = model.feature_importances_\n",
    "feature_names = x.columns\n",
    "\n",
    "#sort them out in decending order\n",
    "indices = np.argsort(importances)\n",
    "indices = np.flip(indices, axis = 0)\n",
    "\n",
    "#if you want, you can limite the features to 20.\n",
    "#indices = indices[:20]\n",
    "\n",
    "for i in indices:\n",
    "    print(feature_names[i], \":\", importances[i])"
   ]
  },
  {
   "cell_type": "code",
   "execution_count": 39,
   "metadata": {},
   "outputs": [],
   "source": [
    "import pydot\n",
    "from io import StringIO\n",
    "from sklearn.tree import export_graphviz\n",
    "# visualize\n",
    "dotfile = StringIO()\n",
    "export_graphviz(model, out_file=dotfile, feature_names=x.columns)\n",
    "graph = pydot.graph_from_dot_data(dotfile.getvalue())\n",
    "graph[0].write_png(\"week3_dt_viz.png\")\n",
    "# You can find this file saved in the same directory as this notebook."
   ]
  },
  {
   "cell_type": "code",
   "execution_count": 40,
   "metadata": {},
   "outputs": [
    {
     "name": "stdout",
     "output_type": "stream",
     "text": [
      "Train accuracy: 0.5724188790560472\n",
      "Test accuracy: 0.5467997247075017\n",
      "              precision    recall  f1-score   support\n",
      "\n",
      "           0       0.56      0.42      0.48      1453\n",
      "           1       0.54      0.67      0.60      1453\n",
      "\n",
      "    accuracy                           0.55      2906\n",
      "   macro avg       0.55      0.55      0.54      2906\n",
      "weighted avg       0.55      0.55      0.54      2906\n",
      "\n"
     ]
    }
   ],
   "source": [
    "#retrain with a small max_depth limit\n",
    "\n",
    "model = DecisionTreeClassifier(max_depth=3, random_state=rs)\n",
    "model.fit(x_train, y_train)\n",
    "\n",
    "print(\"Train accuracy:\", model.score(x_train, y_train))\n",
    "print(\"Test accuracy:\", model.score(x_test, y_test))\n",
    "\n",
    "y_pred = model.predict(x_test)\n",
    "print(classification_report(y_test, y_pred))"
   ]
  },
  {
   "cell_type": "code",
   "execution_count": 41,
   "metadata": {},
   "outputs": [
    {
     "name": "stdout",
     "output_type": "stream",
     "text": [
      "DemCluster_29 : 0.0\n",
      "DemCluster_47 : 0.0\n",
      "DemCluster_52 : 0.0\n",
      "DemCluster_32 : 0.0\n",
      "DemCluster_37 : 0.0\n",
      "DemCluster_39 : 0.0\n",
      "StatusCat96NK_L : 0.0\n",
      "DemCluster_3 : 0.0\n",
      "DemCluster_4 : 0.0\n",
      "StatusCat96NK_E : 0.0\n",
      "StatusCat96NK_F : 0.0\n",
      "DemCluster_50 : 0.0\n",
      "DemCluster_19 : 0.0\n",
      "DemCluster_5 : 0.0\n",
      "StatusCat96NK_S : 0.0\n",
      "DemCluster_31 : 0.0\n",
      "DemCluster_48 : 0.0\n",
      "DemCluster_33 : 0.0\n",
      "DemCluster_26 : 0.0\n",
      "StatusCat96NK_N : 0.0\n"
     ]
    }
   ],
   "source": [
    "#grab feature importance from the model and feature name from the original X\n",
    "importances = model.feature_importances_\n",
    "feature_names = x.columns\n",
    "\n",
    "#sort them out in decending order\n",
    "indicies = np.argsort(importances)\n",
    "indices = np.flip(indices, axis=0)\n",
    "\n",
    "#if you want, you can limite the features to 20.\n",
    "indices = indices[:20]\n",
    "\n",
    "for i in indices:\n",
    "    print(feature_names[i], \":\", importances[i])\n",
    "    \n",
    "#visualize\n",
    "dotfile = StringIO()\n",
    "export_graphviz(model, out_file=dotfile, feature_names=x.columns)\n",
    "graph = pydot.graph_from_dot_data(dotfile.getvalue())\n",
    "graph[0].write_png(\"week3_dt_viz2.png\")"
   ]
  },
  {
   "cell_type": "code",
   "execution_count": 43,
   "metadata": {},
   "outputs": [],
   "source": [
    "test_score = []\n",
    "train_score = []\n",
    "\n",
    "#check the model erformance for max depth from 2-20\n",
    "for max_depth in range (2, 21):\n",
    "    model = DecisionTreeClassifier(max_depth=max_depth, random_state=rs)\n",
    "    model.fit(x_train, y_train)\n",
    "    \n",
    "    test_score.append(model.score(x_test, y_test))\n",
    "    train_score.append(model.score(x_train,y_train))"
   ]
  },
  {
   "cell_type": "code",
   "execution_count": 44,
   "metadata": {},
   "outputs": [
    {
     "data": {
      "image/png": "[encoded data removed]",
      "text/plain": [
       "<Figure size 432x288 with 1 Axes>"
      ]
     },
     "metadata": {
      "needs_background": "light"
     },
     "output_type": "display_data"
    }
   ],
   "source": [
    "import matplotlib.pyplot as plt\n",
    "\n",
    "#plot amx depth hyperarameter values vs training and test accuracy score\n",
    "plt.plot(range(2, 21), train_score, 'b', range(2,21),test_score, 'r')\n",
    "plt.xlabel('max_depth\\nBlue = training acc. Red = test acc.')\n",
    "plt.ylabel('accuracy')\n",
    "plt.show()"
   ]
  },
  {
   "cell_type": "code",
   "execution_count": 45,
   "metadata": {},
   "outputs": [],
   "source": [
    "from sklearn.model_selection import GridSearchCV"
   ]
  },
  {
   "cell_type": "code",
   "execution_count": 46,
   "metadata": {},
   "outputs": [
    {
     "name": "stdout",
     "output_type": "stream",
     "text": [
      "Train accuracy: 0.5941002949852507\n",
      "Test accuracy: 0.5750172057811425\n",
      "              precision    recall  f1-score   support\n",
      "\n",
      "           0       0.57      0.63      0.60      1453\n",
      "           1       0.58      0.52      0.55      1453\n",
      "\n",
      "    accuracy                           0.58      2906\n",
      "   macro avg       0.58      0.58      0.57      2906\n",
      "weighted avg       0.58      0.58      0.57      2906\n",
      "\n",
      "{'criterion': 'gini', 'max_depth': 5, 'min_samples_leaf': 50}\n"
     ]
    }
   ],
   "source": [
    "params = {'criterion': ['gini', 'entropy'],\n",
    "         'max_depth':range(2,7),\n",
    "         'min_samples_leaf': range(20,60,10)}\n",
    "cv = GridSearchCV(param_grid= params, estimator=\n",
    "                 DecisionTreeClassifier(random_state=rs), cv=10)\n",
    "\n",
    "cv.fit(x_train,y_train)\n",
    "\n",
    "print(\"Train accuracy:\", cv.score(x_train, y_train))\n",
    "print(\"Test accuracy:\", cv.score(x_test, y_test))\n",
    "\n",
    "#test and best model\n",
    "y_pred = cv.predict(x_test)\n",
    "print(classification_report(y_test,y_pred))\n",
    "\n",
    "#print parameters of the best model\n",
    "print(cv.best_params_)"
   ]
  },
  {
   "cell_type": "code",
   "execution_count": 47,
   "metadata": {},
   "outputs": [
    {
     "name": "stdout",
     "output_type": "stream",
     "text": [
      "Train accuracy: 0.5941002949852507\n",
      "Test accuracy: 0.5750172057811425\n",
      "              precision    recall  f1-score   support\n",
      "\n",
      "           0       0.57      0.63      0.60      1453\n",
      "           1       0.58      0.52      0.55      1453\n",
      "\n",
      "    accuracy                           0.58      2906\n",
      "   macro avg       0.58      0.58      0.57      2906\n",
      "weighted avg       0.58      0.58      0.57      2906\n",
      "\n",
      "{'criterion': 'entropy', 'max_depth': 5, 'min_samples_leaf': 52}\n"
     ]
    }
   ],
   "source": [
    "#same thing again but with different settings\n",
    "params = {'criterion': ['gini', 'entropy'],\n",
    "         'max_depth':range(2,6),\n",
    "         'min_samples_leaf': range(45,56)}\n",
    "cv = GridSearchCV(param_grid= params, estimator=\n",
    "                 DecisionTreeClassifier(random_state=rs), cv=10)\n",
    "\n",
    "cv.fit(x_train,y_train)\n",
    "\n",
    "print(\"Train accuracy:\", cv.score(x_train, y_train))\n",
    "print(\"Test accuracy:\", cv.score(x_test, y_test))\n",
    "\n",
    "#test and best model\n",
    "y_pred = cv.predict(x_test)\n",
    "print(classification_report(y_test,y_pred))\n",
    "\n",
    "#print parameters of the best model\n",
    "print(cv.best_params_)"
   ]
  },
  {
   "cell_type": "code",
   "execution_count": 78,
   "metadata": {},
   "outputs": [],
   "source": [
    "#inside 'dm_tools.Py' together with data_prep()\n",
    "def analyse_feature_importance(dm_model, feature_names, n_to_display=20):\n",
    "    #grab feature importances from the model\n",
    "    importances = dm_model.feature_importances_\n",
    "\n",
    "    \n",
    "    #sort them out in decending order\n",
    "    indices = np.argsort(importances)\n",
    "    indices = np.flip(indices, axis=0)\n",
    "    \n",
    "    #limite to 2- features, you can leave this out\n",
    "    indices = indices[:n_to_display]\n",
    "    for i in indices:\n",
    "        print(feature_names[i], ':', importances[i])\n",
    "    \n",
    "def visualize_decision_tree(dm_model, feature_names, save_name):\n",
    "    dotfile = StringIO()\n",
    "    export_graphviz(dm_model, out_file=dotfile, feature_names=feature_names)\n",
    "    graph = pydot.graph_from_dot_data(dotfile.getvalue())\n",
    "    graph[0].write_png(save_name)\n",
    "    #you can find this file in the same dir"
   ]
  },
  {
   "cell_type": "code",
   "execution_count": 81,
   "metadata": {},
   "outputs": [
    {
     "name": "stdout",
     "output_type": "stream",
     "text": [
      "GiftCnt36 : 0.3145747548923073\n",
      "DemMedHomeValue : 0.16686477652838466\n",
      "GiftAvgLast : 0.1363572066419375\n",
      "GiftTimeLast : 0.07734861577872883\n",
      "DemPctVeterans : 0.048858719278719986\n",
      "StatusCatStarAll : 0.04487976794207267\n",
      "GiftCntAll : 0.043629304229231364\n",
      "PromCntCardAll : 0.037608916167442205\n",
      "GiftCntCardAll : 0.034123593488031664\n",
      "PromCnt36 : 0.01910354419233966\n",
      "StatusCat96NK_A : 0.016241872882363267\n",
      "GiftTimeFirst : 0.014949559832823851\n",
      "PromCntCard12 : 0.013663572834417938\n",
      "GiftAvgCard36 : 0.012727191422559615\n",
      "GiftAvgAll : 0.011772716724184033\n",
      "PromCnt12 : 0.007295887164455312\n",
      "DemCluster_14 : 0.0\n",
      "DemCluster_10 : 0.0\n",
      "DemCluster_11 : 0.0\n",
      "DemCluster_12 : 0.0\n"
     ]
    }
   ],
   "source": [
    "from dm_tools import analyse_feature_importance, visualize_decision_tree\n",
    "\n",
    "analyse_feature_importance(cv.best_estimator_, x.columns, 20)\n",
    "visualize_decision_tree(cv.best_estimator_, x.columns, \"optimal_tree.png\")"
   ]
  },
  {
   "cell_type": "code",
   "execution_count": null,
   "metadata": {},
   "outputs": [],
   "source": []
  }
 ],
 "metadata": {
  "kernelspec": {
   "display_name": "Python 3",
   "language": "python",
   "name": "python3"
  },
  "language_info": {
   "codemirror_mode": {
    "name": "ipython",
    "version": 3
   },
   "file_extension": ".py",
   "mimetype": "text/x-python",
   "name": "python",
   "nbconvert_exporter": "python",
   "pygments_lexer": "ipython3",
   "version": "3.8.5"
  }
 },
 "nbformat": 4,
 "nbformat_minor": 4
}
