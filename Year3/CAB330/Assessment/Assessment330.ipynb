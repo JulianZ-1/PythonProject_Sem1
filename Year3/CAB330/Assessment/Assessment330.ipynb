{
 "cells": [
  {
   "cell_type": "code",
   "execution_count": 87,
   "metadata": {},
   "outputs": [],
   "source": [
    "import pandas as pd\n",
    "import matplotlib.pyplot as plt\n",
    "import seaborn as sns\n",
    "import numpy as np\n",
    "import pandas as pd\n",
    "from sklearn.model_selection import train_test_split\n",
    "from sklearn.tree import DecisionTreeClassifier\n",
    "from sklearn.metrics import classification_report, accuracy_score\n",
    "from sklearn.model_selection import GridSearchCV"
   ]
  },
  {
   "cell_type": "code",
   "execution_count": 2,
   "metadata": {},
   "outputs": [
    {
     "name": "stdout",
     "output_type": "stream",
     "text": [
      "<class 'pandas.core.frame.DataFrame'>\n",
      "RangeIndex: 10000 entries, 0 to 9999\n",
      "Data columns (total 17 columns):\n",
      " #   Column                Non-Null Count  Dtype  \n",
      "---  ------                --------------  -----  \n",
      " 0   RowNumber             10000 non-null  int64  \n",
      " 1   CustomerId            10000 non-null  int64  \n",
      " 2   Surname               9914 non-null   object \n",
      " 3   CreditScore           9963 non-null   float64\n",
      " 4   Geography             9963 non-null   object \n",
      " 5   Gender                9963 non-null   object \n",
      " 6   Sex                   9805 non-null   float64\n",
      " 7   Age                   9963 non-null   float64\n",
      " 8   CurrentWorkingStatus  9963 non-null   float64\n",
      " 9   Tenure                9963 non-null   float64\n",
      " 10  Balance               9963 non-null   float64\n",
      " 11  NumOfProducts         9859 non-null   float64\n",
      " 12  ComplaintsLodged      9963 non-null   float64\n",
      " 13  HasCrCard             9963 non-null   float64\n",
      " 14  IsActiveMember        9963 non-null   float64\n",
      " 15  EstimatedSalary       9896 non-null   object \n",
      " 16  Exited                10000 non-null  object \n",
      "dtypes: float64(10), int64(2), object(5)\n",
      "memory usage: 1.3+ MB\n",
      "None\n"
     ]
    }
   ],
   "source": [
    "df = pd.read_csv('churn.csv')\n",
    "print(df.info())"
   ]
  },
  {
   "cell_type": "code",
   "execution_count": 3,
   "metadata": {},
   "outputs": [
    {
     "data": {
      "text/html": [
       "<div>\n",
       "<style scoped>\n",
       "    .dataframe tbody tr th:only-of-type {\n",
       "        vertical-align: middle;\n",
       "    }\n",
       "\n",
       "    .dataframe tbody tr th {\n",
       "        vertical-align: top;\n",
       "    }\n",
       "\n",
       "    .dataframe thead th {\n",
       "        text-align: right;\n",
       "    }\n",
       "</style>\n",
       "<table border=\"1\" class=\"dataframe\">\n",
       "  <thead>\n",
       "    <tr style=\"text-align: right;\">\n",
       "      <th></th>\n",
       "      <th>RowNumber</th>\n",
       "      <th>CustomerId</th>\n",
       "      <th>Surname</th>\n",
       "      <th>CreditScore</th>\n",
       "      <th>Geography</th>\n",
       "      <th>Gender</th>\n",
       "      <th>Sex</th>\n",
       "      <th>Age</th>\n",
       "      <th>CurrentWorkingStatus</th>\n",
       "      <th>Tenure</th>\n",
       "      <th>Balance</th>\n",
       "      <th>NumOfProducts</th>\n",
       "      <th>ComplaintsLodged</th>\n",
       "      <th>HasCrCard</th>\n",
       "      <th>IsActiveMember</th>\n",
       "      <th>EstimatedSalary</th>\n",
       "      <th>Exited</th>\n",
       "    </tr>\n",
       "  </thead>\n",
       "  <tbody>\n",
       "    <tr>\n",
       "      <th>0</th>\n",
       "      <td>1</td>\n",
       "      <td>15634602</td>\n",
       "      <td>Hargrave</td>\n",
       "      <td>619.0</td>\n",
       "      <td>France</td>\n",
       "      <td>Female</td>\n",
       "      <td>1.0</td>\n",
       "      <td>42.0</td>\n",
       "      <td>1.0</td>\n",
       "      <td>2.0</td>\n",
       "      <td>0.00</td>\n",
       "      <td>1.0</td>\n",
       "      <td>1.0</td>\n",
       "      <td>1.0</td>\n",
       "      <td>1.0</td>\n",
       "      <td>101348.88</td>\n",
       "      <td>Yes</td>\n",
       "    </tr>\n",
       "    <tr>\n",
       "      <th>1</th>\n",
       "      <td>2</td>\n",
       "      <td>15647311</td>\n",
       "      <td>Hill</td>\n",
       "      <td>608.0</td>\n",
       "      <td>Spain</td>\n",
       "      <td>Female</td>\n",
       "      <td>1.0</td>\n",
       "      <td>41.0</td>\n",
       "      <td>1.0</td>\n",
       "      <td>1.0</td>\n",
       "      <td>83807.86</td>\n",
       "      <td>1.0</td>\n",
       "      <td>0.0</td>\n",
       "      <td>0.0</td>\n",
       "      <td>1.0</td>\n",
       "      <td>112542.58</td>\n",
       "      <td>No</td>\n",
       "    </tr>\n",
       "    <tr>\n",
       "      <th>2</th>\n",
       "      <td>3</td>\n",
       "      <td>15619304</td>\n",
       "      <td>Onio</td>\n",
       "      <td>502.0</td>\n",
       "      <td>France</td>\n",
       "      <td>Female</td>\n",
       "      <td>1.0</td>\n",
       "      <td>42.0</td>\n",
       "      <td>1.0</td>\n",
       "      <td>8.0</td>\n",
       "      <td>159660.80</td>\n",
       "      <td>3.0</td>\n",
       "      <td>1.0</td>\n",
       "      <td>1.0</td>\n",
       "      <td>0.0</td>\n",
       "      <td>113931.57</td>\n",
       "      <td>Yes</td>\n",
       "    </tr>\n",
       "    <tr>\n",
       "      <th>3</th>\n",
       "      <td>4</td>\n",
       "      <td>15701354</td>\n",
       "      <td>Boni</td>\n",
       "      <td>699.0</td>\n",
       "      <td>France</td>\n",
       "      <td>Female</td>\n",
       "      <td>1.0</td>\n",
       "      <td>39.0</td>\n",
       "      <td>1.0</td>\n",
       "      <td>1.0</td>\n",
       "      <td>0.00</td>\n",
       "      <td>2.0</td>\n",
       "      <td>0.0</td>\n",
       "      <td>0.0</td>\n",
       "      <td>0.0</td>\n",
       "      <td>?</td>\n",
       "      <td>No</td>\n",
       "    </tr>\n",
       "    <tr>\n",
       "      <th>4</th>\n",
       "      <td>5</td>\n",
       "      <td>15737888</td>\n",
       "      <td>Mitchell</td>\n",
       "      <td>850.0</td>\n",
       "      <td>Spain</td>\n",
       "      <td>Female</td>\n",
       "      <td>1.0</td>\n",
       "      <td>43.0</td>\n",
       "      <td>1.0</td>\n",
       "      <td>2.0</td>\n",
       "      <td>125510.82</td>\n",
       "      <td>1.0</td>\n",
       "      <td>0.0</td>\n",
       "      <td>1.0</td>\n",
       "      <td>1.0</td>\n",
       "      <td>79084.1</td>\n",
       "      <td>No</td>\n",
       "    </tr>\n",
       "    <tr>\n",
       "      <th>5</th>\n",
       "      <td>6</td>\n",
       "      <td>15574012</td>\n",
       "      <td>Chu</td>\n",
       "      <td>645.0</td>\n",
       "      <td>Spain</td>\n",
       "      <td>Male</td>\n",
       "      <td>0.0</td>\n",
       "      <td>44.0</td>\n",
       "      <td>1.0</td>\n",
       "      <td>8.0</td>\n",
       "      <td>113755.78</td>\n",
       "      <td>2.0</td>\n",
       "      <td>1.0</td>\n",
       "      <td>1.0</td>\n",
       "      <td>0.0</td>\n",
       "      <td>149756.71</td>\n",
       "      <td>Yes</td>\n",
       "    </tr>\n",
       "    <tr>\n",
       "      <th>6</th>\n",
       "      <td>7</td>\n",
       "      <td>15592531</td>\n",
       "      <td>Bartlett</td>\n",
       "      <td>822.0</td>\n",
       "      <td>France</td>\n",
       "      <td>Male</td>\n",
       "      <td>0.0</td>\n",
       "      <td>-1.0</td>\n",
       "      <td>1.0</td>\n",
       "      <td>7.0</td>\n",
       "      <td>0.00</td>\n",
       "      <td>2.0</td>\n",
       "      <td>0.0</td>\n",
       "      <td>1.0</td>\n",
       "      <td>1.0</td>\n",
       "      <td>10062.8</td>\n",
       "      <td>No</td>\n",
       "    </tr>\n",
       "    <tr>\n",
       "      <th>7</th>\n",
       "      <td>8</td>\n",
       "      <td>15656148</td>\n",
       "      <td>Obinna</td>\n",
       "      <td>376.0</td>\n",
       "      <td>Germany</td>\n",
       "      <td>Female</td>\n",
       "      <td>1.0</td>\n",
       "      <td>29.0</td>\n",
       "      <td>1.0</td>\n",
       "      <td>4.0</td>\n",
       "      <td>115046.74</td>\n",
       "      <td>4.0</td>\n",
       "      <td>1.0</td>\n",
       "      <td>1.0</td>\n",
       "      <td>0.0</td>\n",
       "      <td>119346.88</td>\n",
       "      <td>Yes</td>\n",
       "    </tr>\n",
       "    <tr>\n",
       "      <th>8</th>\n",
       "      <td>9</td>\n",
       "      <td>15792365</td>\n",
       "      <td>He</td>\n",
       "      <td>501.0</td>\n",
       "      <td>France</td>\n",
       "      <td>Male</td>\n",
       "      <td>0.0</td>\n",
       "      <td>44.0</td>\n",
       "      <td>1.0</td>\n",
       "      <td>4.0</td>\n",
       "      <td>142051.07</td>\n",
       "      <td>2.0</td>\n",
       "      <td>0.0</td>\n",
       "      <td>0.0</td>\n",
       "      <td>1.0</td>\n",
       "      <td>74940.5</td>\n",
       "      <td>No</td>\n",
       "    </tr>\n",
       "    <tr>\n",
       "      <th>9</th>\n",
       "      <td>10</td>\n",
       "      <td>15592389</td>\n",
       "      <td>H?</td>\n",
       "      <td>684.0</td>\n",
       "      <td>France</td>\n",
       "      <td>Male</td>\n",
       "      <td>0.0</td>\n",
       "      <td>27.0</td>\n",
       "      <td>1.0</td>\n",
       "      <td>2.0</td>\n",
       "      <td>134603.88</td>\n",
       "      <td>1.0</td>\n",
       "      <td>0.0</td>\n",
       "      <td>1.0</td>\n",
       "      <td>1.0</td>\n",
       "      <td>71725.73</td>\n",
       "      <td>No</td>\n",
       "    </tr>\n",
       "  </tbody>\n",
       "</table>\n",
       "</div>"
      ],
      "text/plain": [
       "   RowNumber  CustomerId   Surname  CreditScore Geography  Gender  Sex   Age  \\\n",
       "0          1    15634602  Hargrave        619.0    France  Female  1.0  42.0   \n",
       "1          2    15647311      Hill        608.0     Spain  Female  1.0  41.0   \n",
       "2          3    15619304      Onio        502.0    France  Female  1.0  42.0   \n",
       "3          4    15701354      Boni        699.0    France  Female  1.0  39.0   \n",
       "4          5    15737888  Mitchell        850.0     Spain  Female  1.0  43.0   \n",
       "5          6    15574012       Chu        645.0     Spain    Male  0.0  44.0   \n",
       "6          7    15592531  Bartlett        822.0    France    Male  0.0  -1.0   \n",
       "7          8    15656148    Obinna        376.0   Germany  Female  1.0  29.0   \n",
       "8          9    15792365        He        501.0    France    Male  0.0  44.0   \n",
       "9         10    15592389        H?        684.0    France    Male  0.0  27.0   \n",
       "\n",
       "   CurrentWorkingStatus  Tenure    Balance  NumOfProducts  ComplaintsLodged  \\\n",
       "0                   1.0     2.0       0.00            1.0               1.0   \n",
       "1                   1.0     1.0   83807.86            1.0               0.0   \n",
       "2                   1.0     8.0  159660.80            3.0               1.0   \n",
       "3                   1.0     1.0       0.00            2.0               0.0   \n",
       "4                   1.0     2.0  125510.82            1.0               0.0   \n",
       "5                   1.0     8.0  113755.78            2.0               1.0   \n",
       "6                   1.0     7.0       0.00            2.0               0.0   \n",
       "7                   1.0     4.0  115046.74            4.0               1.0   \n",
       "8                   1.0     4.0  142051.07            2.0               0.0   \n",
       "9                   1.0     2.0  134603.88            1.0               0.0   \n",
       "\n",
       "   HasCrCard  IsActiveMember EstimatedSalary Exited  \n",
       "0        1.0             1.0       101348.88    Yes  \n",
       "1        0.0             1.0       112542.58     No  \n",
       "2        1.0             0.0       113931.57    Yes  \n",
       "3        0.0             0.0               ?     No  \n",
       "4        1.0             1.0         79084.1     No  \n",
       "5        1.0             0.0       149756.71    Yes  \n",
       "6        1.0             1.0         10062.8     No  \n",
       "7        1.0             0.0       119346.88    Yes  \n",
       "8        0.0             1.0         74940.5     No  \n",
       "9        1.0             1.0        71725.73     No  "
      ]
     },
     "execution_count": 3,
     "metadata": {},
     "output_type": "execute_result"
    }
   ],
   "source": [
    "df.head(10)"
   ]
  },
  {
   "cell_type": "code",
   "execution_count": null,
   "metadata": {},
   "outputs": [],
   "source": []
  },
  {
   "cell_type": "markdown",
   "metadata": {},
   "source": [
    "Task 1: \n",
    "Question 1\n",
    "what is the proportion of customers who exited and stopped using the banking services?"
   ]
  },
  {
   "cell_type": "code",
   "execution_count": 4,
   "metadata": {},
   "outputs": [
    {
     "name": "stdout",
     "output_type": "stream",
     "text": [
      "count     10000\n",
      "unique        2\n",
      "top          No\n",
      "freq       7963\n",
      "Name: Exited, dtype: object\n",
      "No     7963\n",
      "Yes    2037\n",
      "Name: Exited, dtype: int64\n"
     ]
    }
   ],
   "source": [
    "#answer \n",
    "print(df['Exited'].describe())\n",
    "print(df['Exited'].value_counts())"
   ]
  },
  {
   "cell_type": "markdown",
   "metadata": {},
   "source": [
    "There is 2037 people exited from the data base"
   ]
  },
  {
   "cell_type": "markdown",
   "metadata": {},
   "source": [
    "Task 1:\n",
    "Question 2\n",
    "The dataset may include irrelevant and redundant varibles. What varibles did you include in the analysis and what were their roles and measurement leve lset? Justify your choice"
   ]
  },
  {
   "cell_type": "code",
   "execution_count": 5,
   "metadata": {},
   "outputs": [
    {
     "name": "stdout",
     "output_type": "stream",
     "text": [
      "<class 'pandas.core.frame.DataFrame'>\n",
      "RangeIndex: 10000 entries, 0 to 9999\n",
      "Data columns (total 17 columns):\n",
      " #   Column                Non-Null Count  Dtype  \n",
      "---  ------                --------------  -----  \n",
      " 0   RowNumber             10000 non-null  int64  \n",
      " 1   CustomerId            10000 non-null  int64  \n",
      " 2   Surname               9914 non-null   object \n",
      " 3   CreditScore           9963 non-null   float64\n",
      " 4   Geography             9963 non-null   object \n",
      " 5   Gender                9963 non-null   object \n",
      " 6   Sex                   9805 non-null   float64\n",
      " 7   Age                   9963 non-null   float64\n",
      " 8   CurrentWorkingStatus  9963 non-null   float64\n",
      " 9   Tenure                9963 non-null   float64\n",
      " 10  Balance               9963 non-null   float64\n",
      " 11  NumOfProducts         9859 non-null   float64\n",
      " 12  ComplaintsLodged      9963 non-null   float64\n",
      " 13  HasCrCard             9963 non-null   float64\n",
      " 14  IsActiveMember        9963 non-null   float64\n",
      " 15  EstimatedSalary       9896 non-null   object \n",
      " 16  Exited                10000 non-null  object \n",
      "dtypes: float64(10), int64(2), object(5)\n",
      "memory usage: 1.3+ MB\n",
      "None\n"
     ]
    }
   ],
   "source": [
    "print(df.info())"
   ]
  },
  {
   "cell_type": "code",
   "execution_count": 6,
   "metadata": {},
   "outputs": [],
   "source": [
    "# drop those becuase do need them in prediciton\n",
    "df.drop(['RowNumber', 'CustomerId', 'Surname'], axis=1, inplace=True)"
   ]
  },
  {
   "cell_type": "code",
   "execution_count": 7,
   "metadata": {},
   "outputs": [],
   "source": [
    "#drop gender becuse gender and sex are the same thing\n",
    "df.drop(['Gender'], axis=1, inplace = True)"
   ]
  },
  {
   "cell_type": "code",
   "execution_count": 8,
   "metadata": {},
   "outputs": [
    {
     "name": "stdout",
     "output_type": "stream",
     "text": [
      "<class 'pandas.core.frame.DataFrame'>\n",
      "RangeIndex: 10000 entries, 0 to 9999\n",
      "Data columns (total 13 columns):\n",
      " #   Column                Non-Null Count  Dtype  \n",
      "---  ------                --------------  -----  \n",
      " 0   CreditScore           9963 non-null   float64\n",
      " 1   Geography             9963 non-null   object \n",
      " 2   Sex                   9805 non-null   float64\n",
      " 3   Age                   9963 non-null   float64\n",
      " 4   CurrentWorkingStatus  9963 non-null   float64\n",
      " 5   Tenure                9963 non-null   float64\n",
      " 6   Balance               9963 non-null   float64\n",
      " 7   NumOfProducts         9859 non-null   float64\n",
      " 8   ComplaintsLodged      9963 non-null   float64\n",
      " 9   HasCrCard             9963 non-null   float64\n",
      " 10  IsActiveMember        9963 non-null   float64\n",
      " 11  EstimatedSalary       9896 non-null   object \n",
      " 12  Exited                10000 non-null  object \n",
      "dtypes: float64(10), object(3)\n",
      "memory usage: 1015.8+ KB\n",
      "None\n"
     ]
    }
   ],
   "source": [
    "print(df.info())"
   ]
  },
  {
   "cell_type": "markdown",
   "metadata": {},
   "source": [
    "I droped those becuase those are not needed for predciton of exited. dropped gender because sex and gender means the same thing"
   ]
  },
  {
   "cell_type": "markdown",
   "metadata": {},
   "source": [
    "Task 1: Question 3: Did you have to fix any data quality problems? Detail them. Apply the imputation methods to the variables that need it. List the variables that needed it. justify your choice of imputation if needed"
   ]
  },
  {
   "cell_type": "code",
   "execution_count": 9,
   "metadata": {},
   "outputs": [
    {
     "name": "stdout",
     "output_type": "stream",
     "text": [
      "<class 'pandas.core.frame.DataFrame'>\n",
      "RangeIndex: 10000 entries, 0 to 9999\n",
      "Data columns (total 13 columns):\n",
      " #   Column                Non-Null Count  Dtype  \n",
      "---  ------                --------------  -----  \n",
      " 0   CreditScore           9963 non-null   float64\n",
      " 1   Geography             9963 non-null   object \n",
      " 2   Sex                   9805 non-null   float64\n",
      " 3   Age                   9963 non-null   float64\n",
      " 4   CurrentWorkingStatus  9963 non-null   float64\n",
      " 5   Tenure                9963 non-null   float64\n",
      " 6   Balance               9963 non-null   float64\n",
      " 7   NumOfProducts         9859 non-null   float64\n",
      " 8   ComplaintsLodged      9963 non-null   float64\n",
      " 9   HasCrCard             9963 non-null   float64\n",
      " 10  IsActiveMember        9963 non-null   float64\n",
      " 11  EstimatedSalary       9896 non-null   object \n",
      " 12  Exited                10000 non-null  object \n",
      "dtypes: float64(10), object(3)\n",
      "memory usage: 1015.8+ KB\n",
      "None\n"
     ]
    }
   ],
   "source": [
    "print(df.info())"
   ]
  },
  {
   "cell_type": "code",
   "execution_count": 10,
   "metadata": {},
   "outputs": [
    {
     "data": {
      "text/plain": [
       "CreditScore              37\n",
       "Geography                37\n",
       "Sex                     195\n",
       "Age                      37\n",
       "CurrentWorkingStatus     37\n",
       "Tenure                   37\n",
       "Balance                  37\n",
       "NumOfProducts           141\n",
       "ComplaintsLodged         37\n",
       "HasCrCard                37\n",
       "IsActiveMember           37\n",
       "EstimatedSalary         104\n",
       "Exited                    0\n",
       "dtype: int64"
      ]
     },
     "execution_count": 10,
     "metadata": {},
     "output_type": "execute_result"
    }
   ],
   "source": [
    "#first step is to check null values and see how to deal with them\n",
    "df.isnull().sum()"
   ]
  },
  {
   "cell_type": "code",
   "execution_count": 11,
   "metadata": {},
   "outputs": [
    {
     "name": "stdout",
     "output_type": "stream",
     "text": [
      "      CreditScore Geography  Sex   Age  CurrentWorkingStatus  Tenure  \\\n",
      "22            NaN       NaN  NaN   NaN                   NaN     NaN   \n",
      "23            NaN       NaN  NaN   NaN                   NaN     NaN   \n",
      "24            NaN       NaN  NaN   NaN                   NaN     NaN   \n",
      "25            NaN       NaN  NaN   NaN                   NaN     NaN   \n",
      "26            NaN       NaN  NaN   NaN                   NaN     NaN   \n",
      "...           ...       ...  ...   ...                   ...     ...   \n",
      "8987        766.0     Spain  NaN  36.0                   1.0     5.0   \n",
      "8988        634.0    France  NaN  37.0                   1.0     5.0   \n",
      "8989        640.0   Germany  NaN  31.0                   1.0    10.0   \n",
      "8990        784.0   Germany  NaN  28.0                   1.0     2.0   \n",
      "8991        547.0   Germany  NaN  42.0                   1.0     1.0   \n",
      "\n",
      "        Balance  NumOfProducts  ComplaintsLodged  HasCrCard  IsActiveMember  \\\n",
      "22          NaN            NaN               NaN        NaN             NaN   \n",
      "23          NaN            NaN               NaN        NaN             NaN   \n",
      "24          NaN            NaN               NaN        NaN             NaN   \n",
      "25          NaN            NaN               NaN        NaN             NaN   \n",
      "26          NaN            NaN               NaN        NaN             NaN   \n",
      "...         ...            ...               ...        ...             ...   \n",
      "8987   78381.13            1.0               0.0        0.0             1.0   \n",
      "8988  115345.86            2.0               0.0        0.0             0.0   \n",
      "8989  118613.34            1.0               0.0        1.0             0.0   \n",
      "8990  109960.06            2.0               0.0        1.0             1.0   \n",
      "8991  142703.40            1.0               1.0        1.0             0.0   \n",
      "\n",
      "     EstimatedSalary  \n",
      "22               NaN  \n",
      "23               NaN  \n",
      "24               NaN  \n",
      "25               NaN  \n",
      "26               NaN  \n",
      "...              ...  \n",
      "8987        153831.6  \n",
      "8988        168781.8  \n",
      "8989       168469.65  \n",
      "8990       170829.87  \n",
      "8991        86207.49  \n",
      "\n",
      "[357 rows x 12 columns]\n"
     ]
    }
   ],
   "source": [
    "null_columns = df.columns[df.isnull().any()]\n",
    "print(df[df.isnull().any(axis=1)][null_columns])"
   ]
  },
  {
   "cell_type": "markdown",
   "metadata": {},
   "source": [
    "creditsore, georaphy, age, Currentworkingstatus, tenure, balance, complaintslodged, hascrcard, and isactivemember has the same amount nulls. This most likely is becase those users did not fill out their infor correctly. drop them and caulate the mean does the same thing, in this cause we decided to drop them"
   ]
  },
  {
   "cell_type": "code",
   "execution_count": 12,
   "metadata": {},
   "outputs": [
    {
     "data": {
      "text/plain": [
       "0"
      ]
     },
     "execution_count": 12,
     "metadata": {},
     "output_type": "execute_result"
    }
   ],
   "source": [
    "#df = df.dropna(subset=[\"Age\"])\n",
    "mask = df['Age'] < 1\n",
    "df.loc[mask, 'Age'] = np.nan\n",
    "df.loc[mask, 'Age'].count()"
   ]
  },
  {
   "cell_type": "code",
   "execution_count": 13,
   "metadata": {},
   "outputs": [
    {
     "name": "stdout",
     "output_type": "stream",
     "text": [
      "38.92226574269358\n",
      "37.0\n",
      "0    37.0\n",
      "dtype: float64\n"
     ]
    }
   ],
   "source": [
    "print(df['Age'].mean())\n",
    "print(df['Age'].median())\n",
    "print(df['Age'].mode())"
   ]
  },
  {
   "cell_type": "code",
   "execution_count": 14,
   "metadata": {},
   "outputs": [],
   "source": [
    "df['Age'].fillna(df['Age'].mean(), inplace=True)"
   ]
  },
  {
   "cell_type": "code",
   "execution_count": 15,
   "metadata": {},
   "outputs": [
    {
     "data": {
      "text/plain": [
       "CreditScore              37\n",
       "Geography                37\n",
       "Sex                     195\n",
       "Age                       0\n",
       "CurrentWorkingStatus     37\n",
       "Tenure                   37\n",
       "Balance                  37\n",
       "NumOfProducts           141\n",
       "ComplaintsLodged         37\n",
       "HasCrCard                37\n",
       "IsActiveMember           37\n",
       "EstimatedSalary         104\n",
       "Exited                    0\n",
       "dtype: int64"
      ]
     },
     "execution_count": 15,
     "metadata": {},
     "output_type": "execute_result"
    }
   ],
   "source": [
    "df.isnull().sum()"
   ]
  },
  {
   "cell_type": "code",
   "execution_count": 16,
   "metadata": {},
   "outputs": [
    {
     "data": {
      "text/plain": [
       "0"
      ]
     },
     "execution_count": 16,
     "metadata": {},
     "output_type": "execute_result"
    }
   ],
   "source": [
    "mask = df['CreditScore'] < 1\n",
    "df.loc[mask, 'CreditScore'].count() #CreditScore is good"
   ]
  },
  {
   "cell_type": "code",
   "execution_count": 17,
   "metadata": {},
   "outputs": [
    {
     "name": "stdout",
     "output_type": "stream",
     "text": [
      "['France' 'Spain' 'Germany' 'DE' nan 'ES' 'FR']\n"
     ]
    }
   ],
   "source": [
    "print(df['Geography'].unique()) #Geo is good"
   ]
  },
  {
   "cell_type": "code",
   "execution_count": 18,
   "metadata": {},
   "outputs": [
    {
     "name": "stdout",
     "output_type": "stream",
     "text": [
      "[ 1.  0. nan]\n"
     ]
    }
   ],
   "source": [
    "print(df['Sex'].unique()) #There is no way to guess the person sex, so drop the sex that we dont know"
   ]
  },
  {
   "cell_type": "code",
   "execution_count": null,
   "metadata": {},
   "outputs": [],
   "source": []
  },
  {
   "cell_type": "code",
   "execution_count": null,
   "metadata": {},
   "outputs": [],
   "source": []
  },
  {
   "cell_type": "code",
   "execution_count": 19,
   "metadata": {},
   "outputs": [],
   "source": [
    "df = df.dropna(subset=[\"Sex\"])"
   ]
  },
  {
   "cell_type": "code",
   "execution_count": 20,
   "metadata": {},
   "outputs": [
    {
     "data": {
      "text/plain": [
       "CreditScore               0\n",
       "Geography                 0\n",
       "Sex                       0\n",
       "Age                       0\n",
       "CurrentWorkingStatus      0\n",
       "Tenure                    0\n",
       "Balance                   0\n",
       "NumOfProducts           104\n",
       "ComplaintsLodged          0\n",
       "HasCrCard                 0\n",
       "IsActiveMember            0\n",
       "EstimatedSalary          67\n",
       "Exited                    0\n",
       "dtype: int64"
      ]
     },
     "execution_count": 20,
     "metadata": {},
     "output_type": "execute_result"
    }
   ],
   "source": [
    "df.isnull().sum()"
   ]
  },
  {
   "cell_type": "code",
   "execution_count": 21,
   "metadata": {},
   "outputs": [
    {
     "data": {
      "text/plain": [
       "3561"
      ]
     },
     "execution_count": 21,
     "metadata": {},
     "output_type": "execute_result"
    }
   ],
   "source": [
    "mask = df['Balance'] < 1\n",
    "df.loc[mask, 'Balance'].count() #what the fuck do I do with this shit?"
   ]
  },
  {
   "cell_type": "code",
   "execution_count": 22,
   "metadata": {},
   "outputs": [
    {
     "data": {
      "text/plain": [
       "CreditScore               0\n",
       "Geography                 0\n",
       "Sex                       0\n",
       "Age                       0\n",
       "CurrentWorkingStatus      0\n",
       "Tenure                    0\n",
       "Balance                   0\n",
       "NumOfProducts           104\n",
       "ComplaintsLodged          0\n",
       "HasCrCard                 0\n",
       "IsActiveMember            0\n",
       "EstimatedSalary          67\n",
       "Exited                    0\n",
       "dtype: int64"
      ]
     },
     "execution_count": 22,
     "metadata": {},
     "output_type": "execute_result"
    }
   ],
   "source": [
    "df.isnull().sum()"
   ]
  },
  {
   "cell_type": "code",
   "execution_count": 23,
   "metadata": {},
   "outputs": [
    {
     "name": "stdout",
     "output_type": "stream",
     "text": [
      "      CreditScore Geography  Sex   Age  CurrentWorkingStatus  Tenure  \\\n",
      "86          750.0     Spain  0.0  22.0                   1.0     3.0   \n",
      "87          729.0    France  0.0  30.0                   1.0     9.0   \n",
      "88          646.0    France  1.0  46.0                   1.0     4.0   \n",
      "89          635.0        DE  1.0  28.0                   1.0     3.0   \n",
      "90          647.0     Spain  1.0  44.0                   1.0     5.0   \n",
      "...           ...       ...  ...   ...                   ...     ...   \n",
      "3816        664.0    France  1.0  31.0                   1.0     9.0   \n",
      "3817        682.0   Germany  1.0  29.0                   1.0     6.0   \n",
      "3818        725.0    France  1.0  44.0                   1.0    10.0   \n",
      "3819        553.0   Germany  0.0  46.0                   1.0     3.0   \n",
      "3820        576.0    France  0.0  39.0                   1.0     9.0   \n",
      "\n",
      "        Balance  NumOfProducts  ComplaintsLodged  HasCrCard  IsActiveMember  \\\n",
      "86    121681.82            NaN               1.0        1.0             0.0   \n",
      "87         0.00            NaN               0.0        1.0             0.0   \n",
      "88         0.00            NaN               1.0        1.0             0.0   \n",
      "89     81623.67            NaN               0.0        1.0             1.0   \n",
      "90         0.00            NaN               1.0        1.0             1.0   \n",
      "...         ...            ...               ...        ...             ...   \n",
      "3816  114519.57            NaN               0.0        0.0             1.0   \n",
      "3817  101012.77            NaN               0.0        0.0             0.0   \n",
      "3818       0.00            NaN               0.0        0.0             1.0   \n",
      "3819   82291.10            NaN               1.0        1.0             0.0   \n",
      "3820   84719.98            NaN               0.0        0.0             0.0   \n",
      "\n",
      "     EstimatedSalary  \n",
      "86         128643.35  \n",
      "87         151869.35  \n",
      "88          93251.42  \n",
      "89         156791.36  \n",
      "90         174205.22  \n",
      "...              ...  \n",
      "3816        79222.02  \n",
      "3817        32589.89  \n",
      "3818        93777.61  \n",
      "3819       112549.99  \n",
      "3820       191063.36  \n",
      "\n",
      "[104 rows x 12 columns]\n"
     ]
    }
   ],
   "source": [
    "print(df[df[\"NumOfProducts\"].isnull()][null_columns]) #a 1 years old baby dont have any salary dorp"
   ]
  },
  {
   "cell_type": "code",
   "execution_count": 24,
   "metadata": {},
   "outputs": [
    {
     "name": "stdout",
     "output_type": "stream",
     "text": [
      "1.5319039274301618\n",
      "1.0\n",
      "0    1.0\n",
      "dtype: float64\n"
     ]
    }
   ],
   "source": [
    "print(df['NumOfProducts'].mean())\n",
    "print(df['NumOfProducts'].median())\n",
    "print(df['NumOfProducts'].mode())"
   ]
  },
  {
   "cell_type": "code",
   "execution_count": 25,
   "metadata": {},
   "outputs": [],
   "source": [
    "df['NumOfProducts'].fillna(df['NumOfProducts'].mean(), inplace=True)"
   ]
  },
  {
   "cell_type": "code",
   "execution_count": 26,
   "metadata": {},
   "outputs": [
    {
     "data": {
      "text/plain": [
       "CreditScore              0\n",
       "Geography                0\n",
       "Sex                      0\n",
       "Age                      0\n",
       "CurrentWorkingStatus     0\n",
       "Tenure                   0\n",
       "Balance                  0\n",
       "NumOfProducts            0\n",
       "ComplaintsLodged         0\n",
       "HasCrCard                0\n",
       "IsActiveMember           0\n",
       "EstimatedSalary         67\n",
       "Exited                   0\n",
       "dtype: int64"
      ]
     },
     "execution_count": 26,
     "metadata": {},
     "output_type": "execute_result"
    }
   ],
   "source": [
    "df.isnull().sum()"
   ]
  },
  {
   "cell_type": "code",
   "execution_count": 27,
   "metadata": {},
   "outputs": [
    {
     "data": {
      "text/plain": [
       "count     9738\n",
       "unique    9674\n",
       "top          ?\n",
       "freq        64\n",
       "Name: EstimatedSalary, dtype: object"
      ]
     },
     "execution_count": 27,
     "metadata": {},
     "output_type": "execute_result"
    }
   ],
   "source": [
    "df['EstimatedSalary'].describe()"
   ]
  },
  {
   "cell_type": "code",
   "execution_count": 28,
   "metadata": {},
   "outputs": [],
   "source": [
    "df1 = df"
   ]
  },
  {
   "cell_type": "code",
   "execution_count": 29,
   "metadata": {},
   "outputs": [
    {
     "data": {
      "text/plain": [
       "CreditScore              0\n",
       "Geography                0\n",
       "Sex                      0\n",
       "Age                      0\n",
       "CurrentWorkingStatus     0\n",
       "Tenure                   0\n",
       "Balance                  0\n",
       "NumOfProducts            0\n",
       "ComplaintsLodged         0\n",
       "HasCrCard                0\n",
       "IsActiveMember           0\n",
       "EstimatedSalary         67\n",
       "Exited                   0\n",
       "dtype: int64"
      ]
     },
     "execution_count": 29,
     "metadata": {},
     "output_type": "execute_result"
    }
   ],
   "source": [
    "df1.isnull().sum()"
   ]
  },
  {
   "cell_type": "code",
   "execution_count": 30,
   "metadata": {},
   "outputs": [],
   "source": [
    "df1['EstimatedSalary'].apply(lambda x: np.nan if x == '?' else x) \n",
    "df['EstimatedSalary'] = df['EstimatedSalary'].apply(lambda x: np.nan if x == '?' else x) "
   ]
  },
  {
   "cell_type": "code",
   "execution_count": 31,
   "metadata": {},
   "outputs": [
    {
     "data": {
      "text/plain": [
       "CreditScore               0\n",
       "Geography                 0\n",
       "Sex                       0\n",
       "Age                       0\n",
       "CurrentWorkingStatus      0\n",
       "Tenure                    0\n",
       "Balance                   0\n",
       "NumOfProducts             0\n",
       "ComplaintsLodged          0\n",
       "HasCrCard                 0\n",
       "IsActiveMember            0\n",
       "EstimatedSalary         131\n",
       "Exited                    0\n",
       "dtype: int64"
      ]
     },
     "execution_count": 31,
     "metadata": {},
     "output_type": "execute_result"
    }
   ],
   "source": [
    "df1.isnull().sum()"
   ]
  },
  {
   "cell_type": "code",
   "execution_count": 32,
   "metadata": {},
   "outputs": [],
   "source": [
    "df1 = df1.dropna(subset=[\"EstimatedSalary\"])"
   ]
  },
  {
   "cell_type": "code",
   "execution_count": 33,
   "metadata": {},
   "outputs": [
    {
     "data": {
      "text/plain": [
       "CreditScore             0\n",
       "Geography               0\n",
       "Sex                     0\n",
       "Age                     0\n",
       "CurrentWorkingStatus    0\n",
       "Tenure                  0\n",
       "Balance                 0\n",
       "NumOfProducts           0\n",
       "ComplaintsLodged        0\n",
       "HasCrCard               0\n",
       "IsActiveMember          0\n",
       "EstimatedSalary         0\n",
       "Exited                  0\n",
       "dtype: int64"
      ]
     },
     "execution_count": 33,
     "metadata": {},
     "output_type": "execute_result"
    }
   ],
   "source": [
    "df1.isnull().sum()"
   ]
  },
  {
   "cell_type": "code",
   "execution_count": 34,
   "metadata": {},
   "outputs": [
    {
     "name": "stdout",
     "output_type": "stream",
     "text": [
      "<class 'pandas.core.frame.DataFrame'>\n",
      "Int64Index: 9674 entries, 0 to 9999\n",
      "Data columns (total 13 columns):\n",
      " #   Column                Non-Null Count  Dtype  \n",
      "---  ------                --------------  -----  \n",
      " 0   CreditScore           9674 non-null   float64\n",
      " 1   Geography             9674 non-null   object \n",
      " 2   Sex                   9674 non-null   float64\n",
      " 3   Age                   9674 non-null   float64\n",
      " 4   CurrentWorkingStatus  9674 non-null   float64\n",
      " 5   Tenure                9674 non-null   float64\n",
      " 6   Balance               9674 non-null   float64\n",
      " 7   NumOfProducts         9674 non-null   float64\n",
      " 8   ComplaintsLodged      9674 non-null   float64\n",
      " 9   HasCrCard             9674 non-null   float64\n",
      " 10  IsActiveMember        9674 non-null   float64\n",
      " 11  EstimatedSalary       9674 non-null   object \n",
      " 12  Exited                9674 non-null   object \n",
      "dtypes: float64(10), object(3)\n",
      "memory usage: 1.0+ MB\n",
      "None\n"
     ]
    }
   ],
   "source": [
    "print(df1.info())"
   ]
  },
  {
   "cell_type": "code",
   "execution_count": 35,
   "metadata": {},
   "outputs": [
    {
     "name": "stderr",
     "output_type": "stream",
     "text": [
      "<ipython-input-35-79b2996b8c11>:1: SettingWithCopyWarning: \n",
      "A value is trying to be set on a copy of a slice from a DataFrame.\n",
      "Try using .loc[row_indexer,col_indexer] = value instead\n",
      "\n",
      "See the caveats in the documentation: https://pandas.pydata.org/pandas-docs/stable/user_guide/indexing.html#returning-a-view-versus-a-copy\n",
      "  df1['EstimatedSalary'] = df1['EstimatedSalary'].astype(float)\n"
     ]
    }
   ],
   "source": [
    "df1['EstimatedSalary'] = df1['EstimatedSalary'].astype(float)"
   ]
  },
  {
   "cell_type": "code",
   "execution_count": 36,
   "metadata": {},
   "outputs": [
    {
     "name": "stdout",
     "output_type": "stream",
     "text": [
      "<class 'pandas.core.frame.DataFrame'>\n",
      "Int64Index: 9674 entries, 0 to 9999\n",
      "Data columns (total 13 columns):\n",
      " #   Column                Non-Null Count  Dtype  \n",
      "---  ------                --------------  -----  \n",
      " 0   CreditScore           9674 non-null   float64\n",
      " 1   Geography             9674 non-null   object \n",
      " 2   Sex                   9674 non-null   float64\n",
      " 3   Age                   9674 non-null   float64\n",
      " 4   CurrentWorkingStatus  9674 non-null   float64\n",
      " 5   Tenure                9674 non-null   float64\n",
      " 6   Balance               9674 non-null   float64\n",
      " 7   NumOfProducts         9674 non-null   float64\n",
      " 8   ComplaintsLodged      9674 non-null   float64\n",
      " 9   HasCrCard             9674 non-null   float64\n",
      " 10  IsActiveMember        9674 non-null   float64\n",
      " 11  EstimatedSalary       9674 non-null   float64\n",
      " 12  Exited                9674 non-null   object \n",
      "dtypes: float64(11), object(2)\n",
      "memory usage: 1.0+ MB\n",
      "None\n"
     ]
    }
   ],
   "source": [
    "print(df1.info())"
   ]
  },
  {
   "cell_type": "code",
   "execution_count": 37,
   "metadata": {},
   "outputs": [
    {
     "data": {
      "text/plain": [
       "0       1.0\n",
       "1       1.0\n",
       "2       1.0\n",
       "4       1.0\n",
       "5       0.0\n",
       "       ... \n",
       "9995    0.0\n",
       "9996    0.0\n",
       "9997    1.0\n",
       "9998    0.0\n",
       "9999    1.0\n",
       "Name: Sex, Length: 9674, dtype: float64"
      ]
     },
     "execution_count": 37,
     "metadata": {},
     "output_type": "execute_result"
    }
   ],
   "source": [
    "df1['Sex']"
   ]
  },
  {
   "cell_type": "code",
   "execution_count": 38,
   "metadata": {},
   "outputs": [
    {
     "name": "stdout",
     "output_type": "stream",
     "text": [
      "<class 'pandas.core.frame.DataFrame'>\n",
      "Int64Index: 9674 entries, 0 to 9999\n",
      "Data columns (total 13 columns):\n",
      " #   Column                Non-Null Count  Dtype  \n",
      "---  ------                --------------  -----  \n",
      " 0   CreditScore           9674 non-null   float64\n",
      " 1   Geography             9674 non-null   object \n",
      " 2   Sex                   9674 non-null   float64\n",
      " 3   Age                   9674 non-null   float64\n",
      " 4   CurrentWorkingStatus  9674 non-null   float64\n",
      " 5   Tenure                9674 non-null   float64\n",
      " 6   Balance               9674 non-null   float64\n",
      " 7   NumOfProducts         9674 non-null   float64\n",
      " 8   ComplaintsLodged      9674 non-null   float64\n",
      " 9   HasCrCard             9674 non-null   float64\n",
      " 10  IsActiveMember        9674 non-null   float64\n",
      " 11  EstimatedSalary       9674 non-null   float64\n",
      " 12  Exited                9674 non-null   object \n",
      "dtypes: float64(11), object(2)\n",
      "memory usage: 1.0+ MB\n"
     ]
    }
   ],
   "source": [
    "df1.info()"
   ]
  },
  {
   "cell_type": "code",
   "execution_count": 39,
   "metadata": {},
   "outputs": [
    {
     "name": "stderr",
     "output_type": "stream",
     "text": [
      "<ipython-input-39-5276929bb3a8>:1: SettingWithCopyWarning: \n",
      "A value is trying to be set on a copy of a slice from a DataFrame.\n",
      "Try using .loc[row_indexer,col_indexer] = value instead\n",
      "\n",
      "See the caveats in the documentation: https://pandas.pydata.org/pandas-docs/stable/user_guide/indexing.html#returning-a-view-versus-a-copy\n",
      "  df1['Sex'] = df1['Sex'].astype('category')\n"
     ]
    }
   ],
   "source": [
    "df1['Sex'] = df1['Sex'].astype('category')"
   ]
  },
  {
   "cell_type": "code",
   "execution_count": 40,
   "metadata": {},
   "outputs": [
    {
     "name": "stdout",
     "output_type": "stream",
     "text": [
      "<class 'pandas.core.frame.DataFrame'>\n",
      "Int64Index: 9674 entries, 0 to 9999\n",
      "Data columns (total 13 columns):\n",
      " #   Column                Non-Null Count  Dtype   \n",
      "---  ------                --------------  -----   \n",
      " 0   CreditScore           9674 non-null   float64 \n",
      " 1   Geography             9674 non-null   object  \n",
      " 2   Sex                   9674 non-null   category\n",
      " 3   Age                   9674 non-null   float64 \n",
      " 4   CurrentWorkingStatus  9674 non-null   float64 \n",
      " 5   Tenure                9674 non-null   float64 \n",
      " 6   Balance               9674 non-null   float64 \n",
      " 7   NumOfProducts         9674 non-null   float64 \n",
      " 8   ComplaintsLodged      9674 non-null   float64 \n",
      " 9   HasCrCard             9674 non-null   float64 \n",
      " 10  IsActiveMember        9674 non-null   float64 \n",
      " 11  EstimatedSalary       9674 non-null   float64 \n",
      " 12  Exited                9674 non-null   object  \n",
      "dtypes: category(1), float64(10), object(2)\n",
      "memory usage: 992.1+ KB\n"
     ]
    }
   ],
   "source": [
    "df1.info()"
   ]
  },
  {
   "cell_type": "code",
   "execution_count": 41,
   "metadata": {},
   "outputs": [
    {
     "name": "stdout",
     "output_type": "stream",
     "text": [
      "0    1.0\n",
      "1    1.0\n",
      "2    1.0\n",
      "4    1.0\n",
      "5    0.0\n",
      "Name: Sex, dtype: category\n",
      "Categories (2, float64): [0.0, 1.0]\n"
     ]
    }
   ],
   "source": [
    "print(df1['Sex'].head(5))"
   ]
  },
  {
   "cell_type": "code",
   "execution_count": 42,
   "metadata": {},
   "outputs": [
    {
     "name": "stdout",
     "output_type": "stream",
     "text": [
      "<class 'pandas.core.frame.DataFrame'>\n",
      "Int64Index: 9674 entries, 0 to 9999\n",
      "Data columns (total 13 columns):\n",
      " #   Column                Non-Null Count  Dtype   \n",
      "---  ------                --------------  -----   \n",
      " 0   CreditScore           9674 non-null   float64 \n",
      " 1   Geography             9674 non-null   object  \n",
      " 2   Sex                   9674 non-null   category\n",
      " 3   Age                   9674 non-null   float64 \n",
      " 4   CurrentWorkingStatus  9674 non-null   float64 \n",
      " 5   Tenure                9674 non-null   float64 \n",
      " 6   Balance               9674 non-null   float64 \n",
      " 7   NumOfProducts         9674 non-null   float64 \n",
      " 8   ComplaintsLodged      9674 non-null   float64 \n",
      " 9   HasCrCard             9674 non-null   float64 \n",
      " 10  IsActiveMember        9674 non-null   float64 \n",
      " 11  EstimatedSalary       9674 non-null   float64 \n",
      " 12  Exited                9674 non-null   object  \n",
      "dtypes: category(1), float64(10), object(2)\n",
      "memory usage: 992.1+ KB\n"
     ]
    }
   ],
   "source": [
    "df1.info()"
   ]
  },
  {
   "cell_type": "code",
   "execution_count": 43,
   "metadata": {},
   "outputs": [],
   "source": [
    "exited_map = {'Yes':0, 'No': 1}"
   ]
  },
  {
   "cell_type": "code",
   "execution_count": 44,
   "metadata": {},
   "outputs": [],
   "source": [
    "df2 = df1"
   ]
  },
  {
   "cell_type": "code",
   "execution_count": 45,
   "metadata": {},
   "outputs": [
    {
     "name": "stderr",
     "output_type": "stream",
     "text": [
      "<ipython-input-45-7f597a3165c7>:1: SettingWithCopyWarning: \n",
      "A value is trying to be set on a copy of a slice from a DataFrame.\n",
      "Try using .loc[row_indexer,col_indexer] = value instead\n",
      "\n",
      "See the caveats in the documentation: https://pandas.pydata.org/pandas-docs/stable/user_guide/indexing.html#returning-a-view-versus-a-copy\n",
      "  df2['Exited'] = df['Exited'].map(exited_map)\n"
     ]
    }
   ],
   "source": [
    "df2['Exited'] = df['Exited'].map(exited_map)"
   ]
  },
  {
   "cell_type": "code",
   "execution_count": 46,
   "metadata": {},
   "outputs": [
    {
     "name": "stdout",
     "output_type": "stream",
     "text": [
      "<class 'pandas.core.frame.DataFrame'>\n",
      "Int64Index: 9674 entries, 0 to 9999\n",
      "Data columns (total 13 columns):\n",
      " #   Column                Non-Null Count  Dtype   \n",
      "---  ------                --------------  -----   \n",
      " 0   CreditScore           9674 non-null   float64 \n",
      " 1   Geography             9674 non-null   object  \n",
      " 2   Sex                   9674 non-null   category\n",
      " 3   Age                   9674 non-null   float64 \n",
      " 4   CurrentWorkingStatus  9674 non-null   float64 \n",
      " 5   Tenure                9674 non-null   float64 \n",
      " 6   Balance               9674 non-null   float64 \n",
      " 7   NumOfProducts         9674 non-null   float64 \n",
      " 8   ComplaintsLodged      9674 non-null   float64 \n",
      " 9   HasCrCard             9674 non-null   float64 \n",
      " 10  IsActiveMember        9674 non-null   float64 \n",
      " 11  EstimatedSalary       9674 non-null   float64 \n",
      " 12  Exited                9674 non-null   int64   \n",
      "dtypes: category(1), float64(10), int64(1), object(1)\n",
      "memory usage: 992.1+ KB\n"
     ]
    }
   ],
   "source": [
    "df1.info()"
   ]
  },
  {
   "cell_type": "code",
   "execution_count": 47,
   "metadata": {},
   "outputs": [
    {
     "name": "stdout",
     "output_type": "stream",
     "text": [
      "<class 'pandas.core.frame.DataFrame'>\n",
      "Int64Index: 9674 entries, 0 to 9999\n",
      "Data columns (total 13 columns):\n",
      " #   Column                Non-Null Count  Dtype   \n",
      "---  ------                --------------  -----   \n",
      " 0   CreditScore           9674 non-null   float64 \n",
      " 1   Geography             9674 non-null   object  \n",
      " 2   Sex                   9674 non-null   category\n",
      " 3   Age                   9674 non-null   float64 \n",
      " 4   CurrentWorkingStatus  9674 non-null   float64 \n",
      " 5   Tenure                9674 non-null   float64 \n",
      " 6   Balance               9674 non-null   float64 \n",
      " 7   NumOfProducts         9674 non-null   float64 \n",
      " 8   ComplaintsLodged      9674 non-null   float64 \n",
      " 9   HasCrCard             9674 non-null   float64 \n",
      " 10  IsActiveMember        9674 non-null   float64 \n",
      " 11  EstimatedSalary       9674 non-null   float64 \n",
      " 12  Exited                9674 non-null   int64   \n",
      "dtypes: category(1), float64(10), int64(1), object(1)\n",
      "memory usage: 992.1+ KB\n"
     ]
    }
   ],
   "source": [
    "df2.info()"
   ]
  },
  {
   "cell_type": "code",
   "execution_count": 48,
   "metadata": {},
   "outputs": [
    {
     "name": "stderr",
     "output_type": "stream",
     "text": [
      "<ipython-input-48-76a3fd07d2f7>:1: SettingWithCopyWarning: \n",
      "A value is trying to be set on a copy of a slice from a DataFrame.\n",
      "Try using .loc[row_indexer,col_indexer] = value instead\n",
      "\n",
      "See the caveats in the documentation: https://pandas.pydata.org/pandas-docs/stable/user_guide/indexing.html#returning-a-view-versus-a-copy\n",
      "  df2['Exited'] = df2['Exited'].astype('category')\n"
     ]
    }
   ],
   "source": [
    "df2['Exited'] = df2['Exited'].astype('category')"
   ]
  },
  {
   "cell_type": "code",
   "execution_count": 49,
   "metadata": {},
   "outputs": [
    {
     "name": "stdout",
     "output_type": "stream",
     "text": [
      "<class 'pandas.core.frame.DataFrame'>\n",
      "Int64Index: 9674 entries, 0 to 9999\n",
      "Data columns (total 13 columns):\n",
      " #   Column                Non-Null Count  Dtype   \n",
      "---  ------                --------------  -----   \n",
      " 0   CreditScore           9674 non-null   float64 \n",
      " 1   Geography             9674 non-null   object  \n",
      " 2   Sex                   9674 non-null   category\n",
      " 3   Age                   9674 non-null   float64 \n",
      " 4   CurrentWorkingStatus  9674 non-null   float64 \n",
      " 5   Tenure                9674 non-null   float64 \n",
      " 6   Balance               9674 non-null   float64 \n",
      " 7   NumOfProducts         9674 non-null   float64 \n",
      " 8   ComplaintsLodged      9674 non-null   float64 \n",
      " 9   HasCrCard             9674 non-null   float64 \n",
      " 10  IsActiveMember        9674 non-null   float64 \n",
      " 11  EstimatedSalary       9674 non-null   float64 \n",
      " 12  Exited                9674 non-null   category\n",
      "dtypes: category(2), float64(10), object(1)\n",
      "memory usage: 926.0+ KB\n"
     ]
    }
   ],
   "source": [
    "df2.info()"
   ]
  },
  {
   "cell_type": "code",
   "execution_count": 50,
   "metadata": {},
   "outputs": [
    {
     "data": {
      "text/html": [
       "<div>\n",
       "<style scoped>\n",
       "    .dataframe tbody tr th:only-of-type {\n",
       "        vertical-align: middle;\n",
       "    }\n",
       "\n",
       "    .dataframe tbody tr th {\n",
       "        vertical-align: top;\n",
       "    }\n",
       "\n",
       "    .dataframe thead th {\n",
       "        text-align: right;\n",
       "    }\n",
       "</style>\n",
       "<table border=\"1\" class=\"dataframe\">\n",
       "  <thead>\n",
       "    <tr style=\"text-align: right;\">\n",
       "      <th></th>\n",
       "      <th>CreditScore</th>\n",
       "      <th>Geography</th>\n",
       "      <th>Sex</th>\n",
       "      <th>Age</th>\n",
       "      <th>CurrentWorkingStatus</th>\n",
       "      <th>Tenure</th>\n",
       "      <th>Balance</th>\n",
       "      <th>NumOfProducts</th>\n",
       "      <th>ComplaintsLodged</th>\n",
       "      <th>HasCrCard</th>\n",
       "      <th>IsActiveMember</th>\n",
       "      <th>EstimatedSalary</th>\n",
       "      <th>Exited</th>\n",
       "    </tr>\n",
       "  </thead>\n",
       "  <tbody>\n",
       "    <tr>\n",
       "      <th>0</th>\n",
       "      <td>619.0</td>\n",
       "      <td>France</td>\n",
       "      <td>1.0</td>\n",
       "      <td>42.0</td>\n",
       "      <td>1.0</td>\n",
       "      <td>2.0</td>\n",
       "      <td>0.00</td>\n",
       "      <td>1.0</td>\n",
       "      <td>1.0</td>\n",
       "      <td>1.0</td>\n",
       "      <td>1.0</td>\n",
       "      <td>101348.88</td>\n",
       "      <td>0</td>\n",
       "    </tr>\n",
       "    <tr>\n",
       "      <th>1</th>\n",
       "      <td>608.0</td>\n",
       "      <td>Spain</td>\n",
       "      <td>1.0</td>\n",
       "      <td>41.0</td>\n",
       "      <td>1.0</td>\n",
       "      <td>1.0</td>\n",
       "      <td>83807.86</td>\n",
       "      <td>1.0</td>\n",
       "      <td>0.0</td>\n",
       "      <td>0.0</td>\n",
       "      <td>1.0</td>\n",
       "      <td>112542.58</td>\n",
       "      <td>1</td>\n",
       "    </tr>\n",
       "    <tr>\n",
       "      <th>2</th>\n",
       "      <td>502.0</td>\n",
       "      <td>France</td>\n",
       "      <td>1.0</td>\n",
       "      <td>42.0</td>\n",
       "      <td>1.0</td>\n",
       "      <td>8.0</td>\n",
       "      <td>159660.80</td>\n",
       "      <td>3.0</td>\n",
       "      <td>1.0</td>\n",
       "      <td>1.0</td>\n",
       "      <td>0.0</td>\n",
       "      <td>113931.57</td>\n",
       "      <td>0</td>\n",
       "    </tr>\n",
       "    <tr>\n",
       "      <th>4</th>\n",
       "      <td>850.0</td>\n",
       "      <td>Spain</td>\n",
       "      <td>1.0</td>\n",
       "      <td>43.0</td>\n",
       "      <td>1.0</td>\n",
       "      <td>2.0</td>\n",
       "      <td>125510.82</td>\n",
       "      <td>1.0</td>\n",
       "      <td>0.0</td>\n",
       "      <td>1.0</td>\n",
       "      <td>1.0</td>\n",
       "      <td>79084.10</td>\n",
       "      <td>1</td>\n",
       "    </tr>\n",
       "    <tr>\n",
       "      <th>5</th>\n",
       "      <td>645.0</td>\n",
       "      <td>Spain</td>\n",
       "      <td>0.0</td>\n",
       "      <td>44.0</td>\n",
       "      <td>1.0</td>\n",
       "      <td>8.0</td>\n",
       "      <td>113755.78</td>\n",
       "      <td>2.0</td>\n",
       "      <td>1.0</td>\n",
       "      <td>1.0</td>\n",
       "      <td>0.0</td>\n",
       "      <td>149756.71</td>\n",
       "      <td>0</td>\n",
       "    </tr>\n",
       "    <tr>\n",
       "      <th>...</th>\n",
       "      <td>...</td>\n",
       "      <td>...</td>\n",
       "      <td>...</td>\n",
       "      <td>...</td>\n",
       "      <td>...</td>\n",
       "      <td>...</td>\n",
       "      <td>...</td>\n",
       "      <td>...</td>\n",
       "      <td>...</td>\n",
       "      <td>...</td>\n",
       "      <td>...</td>\n",
       "      <td>...</td>\n",
       "      <td>...</td>\n",
       "    </tr>\n",
       "    <tr>\n",
       "      <th>9995</th>\n",
       "      <td>771.0</td>\n",
       "      <td>France</td>\n",
       "      <td>0.0</td>\n",
       "      <td>39.0</td>\n",
       "      <td>1.0</td>\n",
       "      <td>5.0</td>\n",
       "      <td>0.00</td>\n",
       "      <td>2.0</td>\n",
       "      <td>0.0</td>\n",
       "      <td>1.0</td>\n",
       "      <td>0.0</td>\n",
       "      <td>96270.64</td>\n",
       "      <td>1</td>\n",
       "    </tr>\n",
       "    <tr>\n",
       "      <th>9996</th>\n",
       "      <td>516.0</td>\n",
       "      <td>France</td>\n",
       "      <td>0.0</td>\n",
       "      <td>35.0</td>\n",
       "      <td>1.0</td>\n",
       "      <td>10.0</td>\n",
       "      <td>57369.61</td>\n",
       "      <td>1.0</td>\n",
       "      <td>0.0</td>\n",
       "      <td>1.0</td>\n",
       "      <td>1.0</td>\n",
       "      <td>101699.77</td>\n",
       "      <td>1</td>\n",
       "    </tr>\n",
       "    <tr>\n",
       "      <th>9997</th>\n",
       "      <td>709.0</td>\n",
       "      <td>France</td>\n",
       "      <td>1.0</td>\n",
       "      <td>36.0</td>\n",
       "      <td>1.0</td>\n",
       "      <td>7.0</td>\n",
       "      <td>0.00</td>\n",
       "      <td>1.0</td>\n",
       "      <td>1.0</td>\n",
       "      <td>0.0</td>\n",
       "      <td>1.0</td>\n",
       "      <td>42085.58</td>\n",
       "      <td>0</td>\n",
       "    </tr>\n",
       "    <tr>\n",
       "      <th>9998</th>\n",
       "      <td>772.0</td>\n",
       "      <td>Germany</td>\n",
       "      <td>0.0</td>\n",
       "      <td>42.0</td>\n",
       "      <td>1.0</td>\n",
       "      <td>3.0</td>\n",
       "      <td>75075.31</td>\n",
       "      <td>2.0</td>\n",
       "      <td>1.0</td>\n",
       "      <td>1.0</td>\n",
       "      <td>0.0</td>\n",
       "      <td>92888.52</td>\n",
       "      <td>0</td>\n",
       "    </tr>\n",
       "    <tr>\n",
       "      <th>9999</th>\n",
       "      <td>792.0</td>\n",
       "      <td>France</td>\n",
       "      <td>1.0</td>\n",
       "      <td>28.0</td>\n",
       "      <td>1.0</td>\n",
       "      <td>4.0</td>\n",
       "      <td>130142.79</td>\n",
       "      <td>1.0</td>\n",
       "      <td>0.0</td>\n",
       "      <td>1.0</td>\n",
       "      <td>0.0</td>\n",
       "      <td>38190.78</td>\n",
       "      <td>1</td>\n",
       "    </tr>\n",
       "  </tbody>\n",
       "</table>\n",
       "<p>9674 rows × 13 columns</p>\n",
       "</div>"
      ],
      "text/plain": [
       "      CreditScore Geography  Sex   Age  CurrentWorkingStatus  Tenure  \\\n",
       "0           619.0    France  1.0  42.0                   1.0     2.0   \n",
       "1           608.0     Spain  1.0  41.0                   1.0     1.0   \n",
       "2           502.0    France  1.0  42.0                   1.0     8.0   \n",
       "4           850.0     Spain  1.0  43.0                   1.0     2.0   \n",
       "5           645.0     Spain  0.0  44.0                   1.0     8.0   \n",
       "...           ...       ...  ...   ...                   ...     ...   \n",
       "9995        771.0    France  0.0  39.0                   1.0     5.0   \n",
       "9996        516.0    France  0.0  35.0                   1.0    10.0   \n",
       "9997        709.0    France  1.0  36.0                   1.0     7.0   \n",
       "9998        772.0   Germany  0.0  42.0                   1.0     3.0   \n",
       "9999        792.0    France  1.0  28.0                   1.0     4.0   \n",
       "\n",
       "        Balance  NumOfProducts  ComplaintsLodged  HasCrCard  IsActiveMember  \\\n",
       "0          0.00            1.0               1.0        1.0             1.0   \n",
       "1      83807.86            1.0               0.0        0.0             1.0   \n",
       "2     159660.80            3.0               1.0        1.0             0.0   \n",
       "4     125510.82            1.0               0.0        1.0             1.0   \n",
       "5     113755.78            2.0               1.0        1.0             0.0   \n",
       "...         ...            ...               ...        ...             ...   \n",
       "9995       0.00            2.0               0.0        1.0             0.0   \n",
       "9996   57369.61            1.0               0.0        1.0             1.0   \n",
       "9997       0.00            1.0               1.0        0.0             1.0   \n",
       "9998   75075.31            2.0               1.0        1.0             0.0   \n",
       "9999  130142.79            1.0               0.0        1.0             0.0   \n",
       "\n",
       "      EstimatedSalary Exited  \n",
       "0           101348.88      0  \n",
       "1           112542.58      1  \n",
       "2           113931.57      0  \n",
       "4            79084.10      1  \n",
       "5           149756.71      0  \n",
       "...               ...    ...  \n",
       "9995         96270.64      1  \n",
       "9996        101699.77      1  \n",
       "9997         42085.58      0  \n",
       "9998         92888.52      0  \n",
       "9999         38190.78      1  \n",
       "\n",
       "[9674 rows x 13 columns]"
      ]
     },
     "execution_count": 50,
     "metadata": {},
     "output_type": "execute_result"
    }
   ],
   "source": [
    "df2"
   ]
  },
  {
   "cell_type": "code",
   "execution_count": 52,
   "metadata": {},
   "outputs": [
    {
     "name": "stderr",
     "output_type": "stream",
     "text": [
      "<ipython-input-52-14fecefe4a98>:1: SettingWithCopyWarning: \n",
      "A value is trying to be set on a copy of a slice from a DataFrame.\n",
      "Try using .loc[row_indexer,col_indexer] = value instead\n",
      "\n",
      "See the caveats in the documentation: https://pandas.pydata.org/pandas-docs/stable/user_guide/indexing.html#returning-a-view-versus-a-copy\n",
      "  df2['IsActiveMember'] = df2['IsActiveMember'].astype('category')\n"
     ]
    }
   ],
   "source": [
    "df2['IsActiveMember'] = df2['IsActiveMember'].astype('category')"
   ]
  },
  {
   "cell_type": "code",
   "execution_count": 53,
   "metadata": {},
   "outputs": [
    {
     "name": "stderr",
     "output_type": "stream",
     "text": [
      "<ipython-input-53-184934321d85>:1: SettingWithCopyWarning: \n",
      "A value is trying to be set on a copy of a slice from a DataFrame.\n",
      "Try using .loc[row_indexer,col_indexer] = value instead\n",
      "\n",
      "See the caveats in the documentation: https://pandas.pydata.org/pandas-docs/stable/user_guide/indexing.html#returning-a-view-versus-a-copy\n",
      "  df2['HasCrCard'] = df2['HasCrCard'].astype('category')\n"
     ]
    }
   ],
   "source": [
    "df2['HasCrCard'] = df2['HasCrCard'].astype('category')"
   ]
  },
  {
   "cell_type": "code",
   "execution_count": 54,
   "metadata": {},
   "outputs": [
    {
     "name": "stderr",
     "output_type": "stream",
     "text": [
      "<ipython-input-54-3a27ebefea22>:1: SettingWithCopyWarning: \n",
      "A value is trying to be set on a copy of a slice from a DataFrame.\n",
      "Try using .loc[row_indexer,col_indexer] = value instead\n",
      "\n",
      "See the caveats in the documentation: https://pandas.pydata.org/pandas-docs/stable/user_guide/indexing.html#returning-a-view-versus-a-copy\n",
      "  df2['ComplaintsLodged'] = df2['ComplaintsLodged'].astype('category')\n"
     ]
    }
   ],
   "source": [
    "df2['ComplaintsLodged'] = df2['ComplaintsLodged'].astype('category')"
   ]
  },
  {
   "cell_type": "code",
   "execution_count": 55,
   "metadata": {},
   "outputs": [
    {
     "name": "stderr",
     "output_type": "stream",
     "text": [
      "<ipython-input-55-92e1487cac5c>:1: SettingWithCopyWarning: \n",
      "A value is trying to be set on a copy of a slice from a DataFrame.\n",
      "Try using .loc[row_indexer,col_indexer] = value instead\n",
      "\n",
      "See the caveats in the documentation: https://pandas.pydata.org/pandas-docs/stable/user_guide/indexing.html#returning-a-view-versus-a-copy\n",
      "  df2['CurrentWorkingStatus'] = df2['CurrentWorkingStatus'].astype('category')\n"
     ]
    }
   ],
   "source": [
    "df2['CurrentWorkingStatus'] = df2['CurrentWorkingStatus'].astype('category')"
   ]
  },
  {
   "cell_type": "code",
   "execution_count": 57,
   "metadata": {},
   "outputs": [
    {
     "data": {
      "text/plain": [
       "CreditScore             0\n",
       "Geography               0\n",
       "Sex                     0\n",
       "Age                     0\n",
       "CurrentWorkingStatus    0\n",
       "Tenure                  0\n",
       "Balance                 0\n",
       "NumOfProducts           0\n",
       "ComplaintsLodged        0\n",
       "HasCrCard               0\n",
       "IsActiveMember          0\n",
       "EstimatedSalary         0\n",
       "Exited                  0\n",
       "dtype: int64"
      ]
     },
     "execution_count": 57,
     "metadata": {},
     "output_type": "execute_result"
    }
   ],
   "source": [
    "df2.isnull().sum()"
   ]
  },
  {
   "cell_type": "code",
   "execution_count": 61,
   "metadata": {},
   "outputs": [
    {
     "name": "stderr",
     "output_type": "stream",
     "text": [
      "D:\\ana\\file\\lib\\site-packages\\pandas\\core\\indexing.py:965: SettingWithCopyWarning: \n",
      "A value is trying to be set on a copy of a slice from a DataFrame.\n",
      "Try using .loc[row_indexer,col_indexer] = value instead\n",
      "\n",
      "See the caveats in the documentation: https://pandas.pydata.org/pandas-docs/stable/user_guide/indexing.html#returning-a-view-versus-a-copy\n",
      "  self.obj[item] = s\n"
     ]
    }
   ],
   "source": [
    "mask = df2['Balance'] < 1\n",
    "df2.loc[mask, 'Balance'].count() #what the fuck do I do with this shit?\n",
    "df2.loc[mask, 'Balance'] = np.nan"
   ]
  },
  {
   "cell_type": "code",
   "execution_count": 62,
   "metadata": {},
   "outputs": [
    {
     "data": {
      "text/plain": [
       "CreditScore                0\n",
       "Geography                  0\n",
       "Sex                        0\n",
       "Age                        0\n",
       "CurrentWorkingStatus       0\n",
       "Tenure                     0\n",
       "Balance                 3510\n",
       "NumOfProducts              0\n",
       "ComplaintsLodged           0\n",
       "HasCrCard                  0\n",
       "IsActiveMember             0\n",
       "EstimatedSalary            0\n",
       "Exited                     0\n",
       "dtype: int64"
      ]
     },
     "execution_count": 62,
     "metadata": {},
     "output_type": "execute_result"
    }
   ],
   "source": [
    "df2.isnull().sum()"
   ]
  },
  {
   "cell_type": "code",
   "execution_count": 63,
   "metadata": {},
   "outputs": [
    {
     "name": "stderr",
     "output_type": "stream",
     "text": [
      "D:\\ana\\file\\lib\\site-packages\\pandas\\core\\generic.py:6245: SettingWithCopyWarning: \n",
      "A value is trying to be set on a copy of a slice from a DataFrame\n",
      "\n",
      "See the caveats in the documentation: https://pandas.pydata.org/pandas-docs/stable/user_guide/indexing.html#returning-a-view-versus-a-copy\n",
      "  self._update_inplace(new_data)\n"
     ]
    }
   ],
   "source": [
    "df2['Balance'].fillna(df['Balance'].mean(), inplace=True)"
   ]
  },
  {
   "cell_type": "code",
   "execution_count": 64,
   "metadata": {},
   "outputs": [
    {
     "data": {
      "text/plain": [
       "CreditScore             0\n",
       "Geography               0\n",
       "Sex                     0\n",
       "Age                     0\n",
       "CurrentWorkingStatus    0\n",
       "Tenure                  0\n",
       "Balance                 0\n",
       "NumOfProducts           0\n",
       "ComplaintsLodged        0\n",
       "HasCrCard               0\n",
       "IsActiveMember          0\n",
       "EstimatedSalary         0\n",
       "Exited                  0\n",
       "dtype: int64"
      ]
     },
     "execution_count": 64,
     "metadata": {},
     "output_type": "execute_result"
    }
   ],
   "source": [
    "df2.isnull().sum()"
   ]
  },
  {
   "cell_type": "code",
   "execution_count": 74,
   "metadata": {},
   "outputs": [
    {
     "name": "stderr",
     "output_type": "stream",
     "text": [
      "D:\\ana\\file\\lib\\site-packages\\seaborn\\distributions.py:2551: FutureWarning: `distplot` is a deprecated function and will be removed in a future version. Please adapt your code to use either `displot` (a figure-level function with similar flexibility) or `histplot` (an axes-level function for histograms).\n",
      "  warnings.warn(msg, FutureWarning)\n"
     ]
    },
    {
     "data": {
      "image/png": "[encoded data removed]",
      "text/plain": [
       "<Figure size 432x288 with 1 Axes>"
      ]
     },
     "metadata": {
      "needs_background": "light"
     },
     "output_type": "display_data"
    }
   ],
   "source": [
    "dg = sns.distplot(df2['Balance'].dropna())\n",
    "plt.show()"
   ]
  },
  {
   "cell_type": "code",
   "execution_count": 76,
   "metadata": {},
   "outputs": [
    {
     "data": {
      "text/plain": [
       "array(['France', 'Spain', 'Germany', 'DE', 'ES', 'FR'], dtype=object)"
      ]
     },
     "execution_count": 76,
     "metadata": {},
     "output_type": "execute_result"
    }
   ],
   "source": [
    "df2['Geography'].unique()"
   ]
  },
  {
   "cell_type": "code",
   "execution_count": 77,
   "metadata": {},
   "outputs": [],
   "source": [
    "geo_map = {'France':0, 'Spain': 1,'Germany':3, 'DE':4, 'ES':5, \"FR\":6}"
   ]
  },
  {
   "cell_type": "code",
   "execution_count": 78,
   "metadata": {},
   "outputs": [
    {
     "name": "stderr",
     "output_type": "stream",
     "text": [
      "<ipython-input-78-5d774437fc6f>:1: SettingWithCopyWarning: \n",
      "A value is trying to be set on a copy of a slice from a DataFrame.\n",
      "Try using .loc[row_indexer,col_indexer] = value instead\n",
      "\n",
      "See the caveats in the documentation: https://pandas.pydata.org/pandas-docs/stable/user_guide/indexing.html#returning-a-view-versus-a-copy\n",
      "  df2['Geography'] = df2['Geography'].map(geo_map)\n"
     ]
    }
   ],
   "source": [
    "df2['Geography'] = df2['Geography'].map(geo_map)"
   ]
  },
  {
   "cell_type": "code",
   "execution_count": 79,
   "metadata": {},
   "outputs": [
    {
     "data": {
      "text/html": [
       "<div>\n",
       "<style scoped>\n",
       "    .dataframe tbody tr th:only-of-type {\n",
       "        vertical-align: middle;\n",
       "    }\n",
       "\n",
       "    .dataframe tbody tr th {\n",
       "        vertical-align: top;\n",
       "    }\n",
       "\n",
       "    .dataframe thead th {\n",
       "        text-align: right;\n",
       "    }\n",
       "</style>\n",
       "<table border=\"1\" class=\"dataframe\">\n",
       "  <thead>\n",
       "    <tr style=\"text-align: right;\">\n",
       "      <th></th>\n",
       "      <th>CreditScore</th>\n",
       "      <th>Geography</th>\n",
       "      <th>Sex</th>\n",
       "      <th>Age</th>\n",
       "      <th>CurrentWorkingStatus</th>\n",
       "      <th>Tenure</th>\n",
       "      <th>Balance</th>\n",
       "      <th>NumOfProducts</th>\n",
       "      <th>ComplaintsLodged</th>\n",
       "      <th>HasCrCard</th>\n",
       "      <th>IsActiveMember</th>\n",
       "      <th>EstimatedSalary</th>\n",
       "      <th>Exited</th>\n",
       "    </tr>\n",
       "  </thead>\n",
       "  <tbody>\n",
       "    <tr>\n",
       "      <th>0</th>\n",
       "      <td>619.0</td>\n",
       "      <td>0</td>\n",
       "      <td>1.0</td>\n",
       "      <td>42.0</td>\n",
       "      <td>1.0</td>\n",
       "      <td>2.0</td>\n",
       "      <td>76369.59169</td>\n",
       "      <td>1.0</td>\n",
       "      <td>1.0</td>\n",
       "      <td>1.0</td>\n",
       "      <td>1.0</td>\n",
       "      <td>101348.88</td>\n",
       "      <td>0</td>\n",
       "    </tr>\n",
       "    <tr>\n",
       "      <th>1</th>\n",
       "      <td>608.0</td>\n",
       "      <td>1</td>\n",
       "      <td>1.0</td>\n",
       "      <td>41.0</td>\n",
       "      <td>1.0</td>\n",
       "      <td>1.0</td>\n",
       "      <td>83807.86000</td>\n",
       "      <td>1.0</td>\n",
       "      <td>0.0</td>\n",
       "      <td>0.0</td>\n",
       "      <td>1.0</td>\n",
       "      <td>112542.58</td>\n",
       "      <td>1</td>\n",
       "    </tr>\n",
       "    <tr>\n",
       "      <th>2</th>\n",
       "      <td>502.0</td>\n",
       "      <td>0</td>\n",
       "      <td>1.0</td>\n",
       "      <td>42.0</td>\n",
       "      <td>1.0</td>\n",
       "      <td>8.0</td>\n",
       "      <td>159660.80000</td>\n",
       "      <td>3.0</td>\n",
       "      <td>1.0</td>\n",
       "      <td>1.0</td>\n",
       "      <td>0.0</td>\n",
       "      <td>113931.57</td>\n",
       "      <td>0</td>\n",
       "    </tr>\n",
       "    <tr>\n",
       "      <th>4</th>\n",
       "      <td>850.0</td>\n",
       "      <td>1</td>\n",
       "      <td>1.0</td>\n",
       "      <td>43.0</td>\n",
       "      <td>1.0</td>\n",
       "      <td>2.0</td>\n",
       "      <td>125510.82000</td>\n",
       "      <td>1.0</td>\n",
       "      <td>0.0</td>\n",
       "      <td>1.0</td>\n",
       "      <td>1.0</td>\n",
       "      <td>79084.10</td>\n",
       "      <td>1</td>\n",
       "    </tr>\n",
       "    <tr>\n",
       "      <th>5</th>\n",
       "      <td>645.0</td>\n",
       "      <td>1</td>\n",
       "      <td>0.0</td>\n",
       "      <td>44.0</td>\n",
       "      <td>1.0</td>\n",
       "      <td>8.0</td>\n",
       "      <td>113755.78000</td>\n",
       "      <td>2.0</td>\n",
       "      <td>1.0</td>\n",
       "      <td>1.0</td>\n",
       "      <td>0.0</td>\n",
       "      <td>149756.71</td>\n",
       "      <td>0</td>\n",
       "    </tr>\n",
       "    <tr>\n",
       "      <th>...</th>\n",
       "      <td>...</td>\n",
       "      <td>...</td>\n",
       "      <td>...</td>\n",
       "      <td>...</td>\n",
       "      <td>...</td>\n",
       "      <td>...</td>\n",
       "      <td>...</td>\n",
       "      <td>...</td>\n",
       "      <td>...</td>\n",
       "      <td>...</td>\n",
       "      <td>...</td>\n",
       "      <td>...</td>\n",
       "      <td>...</td>\n",
       "    </tr>\n",
       "    <tr>\n",
       "      <th>9995</th>\n",
       "      <td>771.0</td>\n",
       "      <td>0</td>\n",
       "      <td>0.0</td>\n",
       "      <td>39.0</td>\n",
       "      <td>1.0</td>\n",
       "      <td>5.0</td>\n",
       "      <td>76369.59169</td>\n",
       "      <td>2.0</td>\n",
       "      <td>0.0</td>\n",
       "      <td>1.0</td>\n",
       "      <td>0.0</td>\n",
       "      <td>96270.64</td>\n",
       "      <td>1</td>\n",
       "    </tr>\n",
       "    <tr>\n",
       "      <th>9996</th>\n",
       "      <td>516.0</td>\n",
       "      <td>0</td>\n",
       "      <td>0.0</td>\n",
       "      <td>35.0</td>\n",
       "      <td>1.0</td>\n",
       "      <td>10.0</td>\n",
       "      <td>57369.61000</td>\n",
       "      <td>1.0</td>\n",
       "      <td>0.0</td>\n",
       "      <td>1.0</td>\n",
       "      <td>1.0</td>\n",
       "      <td>101699.77</td>\n",
       "      <td>1</td>\n",
       "    </tr>\n",
       "    <tr>\n",
       "      <th>9997</th>\n",
       "      <td>709.0</td>\n",
       "      <td>0</td>\n",
       "      <td>1.0</td>\n",
       "      <td>36.0</td>\n",
       "      <td>1.0</td>\n",
       "      <td>7.0</td>\n",
       "      <td>76369.59169</td>\n",
       "      <td>1.0</td>\n",
       "      <td>1.0</td>\n",
       "      <td>0.0</td>\n",
       "      <td>1.0</td>\n",
       "      <td>42085.58</td>\n",
       "      <td>0</td>\n",
       "    </tr>\n",
       "    <tr>\n",
       "      <th>9998</th>\n",
       "      <td>772.0</td>\n",
       "      <td>3</td>\n",
       "      <td>0.0</td>\n",
       "      <td>42.0</td>\n",
       "      <td>1.0</td>\n",
       "      <td>3.0</td>\n",
       "      <td>75075.31000</td>\n",
       "      <td>2.0</td>\n",
       "      <td>1.0</td>\n",
       "      <td>1.0</td>\n",
       "      <td>0.0</td>\n",
       "      <td>92888.52</td>\n",
       "      <td>0</td>\n",
       "    </tr>\n",
       "    <tr>\n",
       "      <th>9999</th>\n",
       "      <td>792.0</td>\n",
       "      <td>0</td>\n",
       "      <td>1.0</td>\n",
       "      <td>28.0</td>\n",
       "      <td>1.0</td>\n",
       "      <td>4.0</td>\n",
       "      <td>130142.79000</td>\n",
       "      <td>1.0</td>\n",
       "      <td>0.0</td>\n",
       "      <td>1.0</td>\n",
       "      <td>0.0</td>\n",
       "      <td>38190.78</td>\n",
       "      <td>1</td>\n",
       "    </tr>\n",
       "  </tbody>\n",
       "</table>\n",
       "<p>9674 rows × 13 columns</p>\n",
       "</div>"
      ],
      "text/plain": [
       "      CreditScore  Geography  Sex   Age CurrentWorkingStatus  Tenure  \\\n",
       "0           619.0          0  1.0  42.0                  1.0     2.0   \n",
       "1           608.0          1  1.0  41.0                  1.0     1.0   \n",
       "2           502.0          0  1.0  42.0                  1.0     8.0   \n",
       "4           850.0          1  1.0  43.0                  1.0     2.0   \n",
       "5           645.0          1  0.0  44.0                  1.0     8.0   \n",
       "...           ...        ...  ...   ...                  ...     ...   \n",
       "9995        771.0          0  0.0  39.0                  1.0     5.0   \n",
       "9996        516.0          0  0.0  35.0                  1.0    10.0   \n",
       "9997        709.0          0  1.0  36.0                  1.0     7.0   \n",
       "9998        772.0          3  0.0  42.0                  1.0     3.0   \n",
       "9999        792.0          0  1.0  28.0                  1.0     4.0   \n",
       "\n",
       "           Balance  NumOfProducts ComplaintsLodged HasCrCard IsActiveMember  \\\n",
       "0      76369.59169            1.0              1.0       1.0            1.0   \n",
       "1      83807.86000            1.0              0.0       0.0            1.0   \n",
       "2     159660.80000            3.0              1.0       1.0            0.0   \n",
       "4     125510.82000            1.0              0.0       1.0            1.0   \n",
       "5     113755.78000            2.0              1.0       1.0            0.0   \n",
       "...            ...            ...              ...       ...            ...   \n",
       "9995   76369.59169            2.0              0.0       1.0            0.0   \n",
       "9996   57369.61000            1.0              0.0       1.0            1.0   \n",
       "9997   76369.59169            1.0              1.0       0.0            1.0   \n",
       "9998   75075.31000            2.0              1.0       1.0            0.0   \n",
       "9999  130142.79000            1.0              0.0       1.0            0.0   \n",
       "\n",
       "      EstimatedSalary Exited  \n",
       "0           101348.88      0  \n",
       "1           112542.58      1  \n",
       "2           113931.57      0  \n",
       "4            79084.10      1  \n",
       "5           149756.71      0  \n",
       "...               ...    ...  \n",
       "9995         96270.64      1  \n",
       "9996        101699.77      1  \n",
       "9997         42085.58      0  \n",
       "9998         92888.52      0  \n",
       "9999         38190.78      1  \n",
       "\n",
       "[9674 rows x 13 columns]"
      ]
     },
     "execution_count": 79,
     "metadata": {},
     "output_type": "execute_result"
    }
   ],
   "source": [
    "df2"
   ]
  },
  {
   "cell_type": "code",
   "execution_count": null,
   "metadata": {},
   "outputs": [],
   "source": []
  },
  {
   "cell_type": "code",
   "execution_count": 81,
   "metadata": {},
   "outputs": [],
   "source": [
    "y = df2['Exited']\n",
    "X = df2.drop(['Exited'], axis=1)\n"
   ]
  },
  {
   "cell_type": "code",
   "execution_count": 82,
   "metadata": {},
   "outputs": [],
   "source": [
    "rs = 10\n",
    "X_mat = X.values\n",
    "X_train, X_test, y_train, y_test = train_test_split(X_mat, y, test_size=0.3,\n",
    " stratify=y, random_state=rs)"
   ]
  },
  {
   "cell_type": "code",
   "execution_count": 83,
   "metadata": {},
   "outputs": [
    {
     "data": {
      "text/plain": [
       "{'ccp_alpha': 0.0,\n",
       " 'class_weight': None,\n",
       " 'criterion': 'gini',\n",
       " 'max_depth': None,\n",
       " 'max_features': None,\n",
       " 'max_leaf_nodes': None,\n",
       " 'min_impurity_decrease': 0.0,\n",
       " 'min_impurity_split': None,\n",
       " 'min_samples_leaf': 1,\n",
       " 'min_samples_split': 2,\n",
       " 'min_weight_fraction_leaf': 0.0,\n",
       " 'random_state': 10,\n",
       " 'splitter': 'best'}"
      ]
     },
     "execution_count": 83,
     "metadata": {},
     "output_type": "execute_result"
    }
   ],
   "source": [
    "model = DecisionTreeClassifier(random_state=rs)\n",
    "model.fit(X_train, y_train)\n",
    "model.get_params(deep=True)"
   ]
  },
  {
   "cell_type": "code",
   "execution_count": 84,
   "metadata": {},
   "outputs": [
    {
     "name": "stdout",
     "output_type": "stream",
     "text": [
      "Train accuracy: 1.0\n"
     ]
    }
   ],
   "source": [
    "print(\"Train accuracy:\", model.score(X_train, y_train))\n"
   ]
  },
  {
   "cell_type": "code",
   "execution_count": 85,
   "metadata": {},
   "outputs": [
    {
     "name": "stdout",
     "output_type": "stream",
     "text": [
      "Test accuracy: 0.9435067171891147\n"
     ]
    }
   ],
   "source": [
    "print(\"Test accuracy:\", model.score(X_test, y_test))"
   ]
  },
  {
   "cell_type": "code",
   "execution_count": 86,
   "metadata": {},
   "outputs": [
    {
     "name": "stdout",
     "output_type": "stream",
     "text": [
      "Train accuracy: 1.0\n",
      "Test accuracy: 0.9435067171891147\n",
      "              precision    recall  f1-score   support\n",
      "\n",
      "           0       0.87      0.85      0.86       591\n",
      "           1       0.96      0.97      0.96      2312\n",
      "\n",
      "    accuracy                           0.94      2903\n",
      "   macro avg       0.92      0.91      0.91      2903\n",
      "weighted avg       0.94      0.94      0.94      2903\n",
      "\n"
     ]
    }
   ],
   "source": [
    "model = DecisionTreeClassifier( random_state=rs)\n",
    "model.fit(X_train, y_train)\n",
    "print(\"Train accuracy:\", model.score(X_train, y_train))\n",
    "print(\"Test accuracy:\", model.score(X_test, y_test))\n",
    "y_pred = model.predict(X_test)\n",
    "print(classification_report(y_test, y_pred))"
   ]
  },
  {
   "cell_type": "code",
   "execution_count": 88,
   "metadata": {},
   "outputs": [
    {
     "name": "stdout",
     "output_type": "stream",
     "text": [
      "Train accuracy: 0.9714960862501846\n",
      "Test accuracy: 0.9686531174646917\n",
      "              precision    recall  f1-score   support\n",
      "\n",
      "           0       0.94      0.91      0.92       591\n",
      "           1       0.98      0.98      0.98      2312\n",
      "\n",
      "    accuracy                           0.97      2903\n",
      "   macro avg       0.96      0.95      0.95      2903\n",
      "weighted avg       0.97      0.97      0.97      2903\n",
      "\n",
      "{'criterion': 'entropy', 'max_depth': 5, 'min_samples_leaf': 40}\n"
     ]
    }
   ],
   "source": [
    "# grid search CV\n",
    "params = {'criterion': ['gini', 'entropy'],\n",
    " 'max_depth': range(2, 7),\n",
    " 'min_samples_leaf': range(20, 60, 10)}\n",
    "cv = GridSearchCV(param_grid=params, estimator=\n",
    " DecisionTreeClassifier(random_state=rs), cv=10)\n",
    "cv.fit(X_train, y_train)\n",
    "print(\"Train accuracy:\", cv.score(X_train, y_train))\n",
    "print(\"Test accuracy:\", cv.score(X_test, y_test))\n",
    "# test the best model\n",
    "y_pred = cv.predict(X_test)\n",
    "print(classification_report(y_test, y_pred))\n",
    "# print parameters of the best model\n",
    "print(cv.best_params_)"
   ]
  },
  {
   "cell_type": "code",
   "execution_count": 90,
   "metadata": {},
   "outputs": [
    {
     "name": "stdout",
     "output_type": "stream",
     "text": [
      "Train accuracy: 0.9714960862501846\n",
      "Test accuracy: 0.9686531174646917\n",
      "              precision    recall  f1-score   support\n",
      "\n",
      "           0       0.94      0.91      0.92       591\n",
      "           1       0.98      0.98      0.98      2312\n",
      "\n",
      "    accuracy                           0.97      2903\n",
      "   macro avg       0.96      0.95      0.95      2903\n",
      "weighted avg       0.97      0.97      0.97      2903\n",
      "\n",
      "{'criterion': 'entropy', 'max_depth': 5, 'min_samples_leaf': 36}\n"
     ]
    }
   ],
   "source": [
    "# grid search CV #2\n",
    "params = {'criterion': ['gini', 'entropy'],\n",
    " 'max_depth': range(2, 6),\n",
    " 'min_samples_leaf': range(35, 45)}\n",
    "cv = GridSearchCV(param_grid=params, estimator=\n",
    " DecisionTreeClassifier(random_state=rs), cv=10)\n",
    "cv.fit(X_train, y_train)\n",
    "print(\"Train accuracy:\", cv.score(X_train, y_train))\n",
    "print(\"Test accuracy:\", cv.score(X_test, y_test))\n",
    "# test the best model\n",
    "y_pred = cv.predict(X_test)\n",
    "print(classification_report(y_test, y_pred))\n",
    "# print parameters of the best model\n",
    "print(cv.best_params_)"
   ]
  },
  {
   "cell_type": "code",
   "execution_count": null,
   "metadata": {},
   "outputs": [],
   "source": []
  },
  {
   "cell_type": "code",
   "execution_count": null,
   "metadata": {},
   "outputs": [],
   "source": []
  }
 ],
 "metadata": {
  "kernelspec": {
   "display_name": "Python 3 (ipykernel)",
   "language": "python",
   "name": "python3"
  },
  "language_info": {
   "codemirror_mode": {
    "name": "ipython",
    "version": 3
   },
   "file_extension": ".py",
   "mimetype": "text/x-python",
   "name": "python",
   "nbconvert_exporter": "python",
   "pygments_lexer": "ipython3",
   "version": "3.8.5"
  }
 },
 "nbformat": 4,
 "nbformat_minor": 4
}
