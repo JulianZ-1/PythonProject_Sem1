{
 "cells": [
  {
   "cell_type": "code",
   "execution_count": 1,
   "metadata": {},
   "outputs": [],
   "source": [
    "import pandas as pd\n",
    "import matplotlib.pyplot as plt\n",
    "import seaborn as sns"
   ]
  },
  {
   "cell_type": "code",
   "execution_count": 7,
   "metadata": {},
   "outputs": [
    {
     "name": "stdout",
     "output_type": "stream",
     "text": [
      "<class 'pandas.core.frame.DataFrame'>\n",
      "RangeIndex: 10000 entries, 0 to 9999\n",
      "Data columns (total 17 columns):\n",
      " #   Column                Non-Null Count  Dtype  \n",
      "---  ------                --------------  -----  \n",
      " 0   RowNumber             10000 non-null  int64  \n",
      " 1   CustomerId            10000 non-null  int64  \n",
      " 2   Surname               9914 non-null   object \n",
      " 3   CreditScore           9963 non-null   float64\n",
      " 4   Geography             9963 non-null   object \n",
      " 5   Gender                9963 non-null   object \n",
      " 6   Sex                   9805 non-null   float64\n",
      " 7   Age                   9963 non-null   float64\n",
      " 8   CurrentWorkingStatus  9963 non-null   float64\n",
      " 9   Tenure                9963 non-null   float64\n",
      " 10  Balance               9963 non-null   float64\n",
      " 11  NumOfProducts         9859 non-null   float64\n",
      " 12  ComplaintsLodged      9963 non-null   float64\n",
      " 13  HasCrCard             9963 non-null   float64\n",
      " 14  IsActiveMember        9963 non-null   float64\n",
      " 15  EstimatedSalary       9896 non-null   object \n",
      " 16  Exited                10000 non-null  object \n",
      "dtypes: float64(10), int64(2), object(5)\n",
      "memory usage: 1.3+ MB\n",
      "None\n"
     ]
    }
   ],
   "source": [
    "df = pd.read_csv('churn.csv')\n",
    "print(df.info())"
   ]
  },
  {
   "cell_type": "markdown",
   "metadata": {},
   "source": [
    "Question 1\n",
    "what is the proportion of customers who exited and stopped using the banking services?"
   ]
  },
  {
   "cell_type": "code",
   "execution_count": 6,
   "metadata": {},
   "outputs": [
    {
     "name": "stdout",
     "output_type": "stream",
     "text": [
      "count     10000\n",
      "unique        2\n",
      "top          No\n",
      "freq       7963\n",
      "Name: Exited, dtype: object\n",
      "No     7963\n",
      "Yes    2037\n",
      "Name: Exited, dtype: int64\n"
     ]
    }
   ],
   "source": [
    "#answer \n",
    "print(df['Exited'].describe())\n",
    "print(df['Exited'].value_counts())"
   ]
  },
  {
   "cell_type": "markdown",
   "metadata": {},
   "source": [
    "There is 2037 people exited from the data base"
   ]
  },
  {
   "cell_type": "markdown",
   "metadata": {},
   "source": [
    "Question 2\n",
    "The dataset may include irrelevant and redundant varibles. What varibles did you include in the analysis and what were their roles and measurement leve lset? Justify your choice"
   ]
  },
  {
   "cell_type": "code",
   "execution_count": 52,
   "metadata": {},
   "outputs": [
    {
     "data": {
      "text/plain": [
       "CreditScore               0\n",
       "Geography                 0\n",
       "Gender                    0\n",
       "Sex                     158\n",
       "Age                       0\n",
       "CurrentWorkingStatus      0\n",
       "Tenure                    0\n",
       "Balance                   0\n",
       "NumOfProducts           104\n",
       "ComplaintsLodged          0\n",
       "HasCrCard                 0\n",
       "IsActiveMember            0\n",
       "EstimatedSalary          67\n",
       "Exited                    0\n",
       "dtype: int64"
      ]
     },
     "execution_count": 52,
     "metadata": {},
     "output_type": "execute_result"
    }
   ],
   "source": [
    "df.isnull().sum()"
   ]
  },
  {
   "cell_type": "code",
   "execution_count": 34,
   "metadata": {},
   "outputs": [
    {
     "name": "stdout",
     "output_type": "stream",
     "text": [
      "<class 'pandas.core.frame.DataFrame'>\n",
      "RangeIndex: 10000 entries, 0 to 9999\n",
      "Data columns (total 14 columns):\n",
      " #   Column                Non-Null Count  Dtype  \n",
      "---  ------                --------------  -----  \n",
      " 0   CreditScore           9963 non-null   float64\n",
      " 1   Geography             9963 non-null   object \n",
      " 2   Gender                9963 non-null   float64\n",
      " 3   Sex                   9805 non-null   float64\n",
      " 4   Age                   9963 non-null   float64\n",
      " 5   CurrentWorkingStatus  9963 non-null   float64\n",
      " 6   Tenure                9963 non-null   float64\n",
      " 7   Balance               9963 non-null   float64\n",
      " 8   NumOfProducts         9859 non-null   float64\n",
      " 9   ComplaintsLodged      9963 non-null   float64\n",
      " 10  HasCrCard             9963 non-null   float64\n",
      " 11  IsActiveMember        9963 non-null   float64\n",
      " 12  EstimatedSalary       9896 non-null   object \n",
      " 13  Exited                10000 non-null  object \n",
      "dtypes: float64(11), object(3)\n",
      "memory usage: 1.1+ MB\n",
      "None\n"
     ]
    }
   ],
   "source": [
    "print(df.info())"
   ]
  },
  {
   "cell_type": "code",
   "execution_count": 17,
   "metadata": {},
   "outputs": [
    {
     "data": {
      "text/plain": [
       "Male      5439\n",
       "Female    4524\n",
       "Name: Gender, dtype: int64"
      ]
     },
     "execution_count": 17,
     "metadata": {},
     "output_type": "execute_result"
    }
   ],
   "source": [
    "df['Gender'].value_counts()"
   ]
  },
  {
   "cell_type": "code",
   "execution_count": 18,
   "metadata": {},
   "outputs": [],
   "source": [
    "#change Gender into binary 0/1 varible\n",
    "Gender = {'Male':0, \"Female\": 1}\n",
    "df['Gender'] = df['Gender'].map(Gender)"
   ]
  },
  {
   "cell_type": "code",
   "execution_count": 19,
   "metadata": {},
   "outputs": [
    {
     "data": {
      "text/plain": [
       "0.0    5439\n",
       "1.0    4524\n",
       "Name: Gender, dtype: int64"
      ]
     },
     "execution_count": 19,
     "metadata": {},
     "output_type": "execute_result"
    }
   ],
   "source": [
    "df['Gender'].value_counts()"
   ]
  },
  {
   "cell_type": "code",
   "execution_count": 20,
   "metadata": {},
   "outputs": [
    {
     "data": {
      "text/plain": [
       "France     4963\n",
       "Germany    2484\n",
       "Spain      2457\n",
       "FR           35\n",
       "ES           13\n",
       "DE           11\n",
       "Name: Geography, dtype: int64"
      ]
     },
     "execution_count": 20,
     "metadata": {},
     "output_type": "execute_result"
    }
   ],
   "source": [
    "df['Geography'].value_counts()"
   ]
  },
  {
   "cell_type": "code",
   "execution_count": 33,
   "metadata": {},
   "outputs": [],
   "source": [
    "df.drop(['RowNumber', 'CustomerId', 'Surname'], axis=1, inplace=True)\n",
    "df.drop(['Surname'], axis=1, inplace=True)"
   ]
  },
  {
   "cell_type": "code",
   "execution_count": 37,
   "metadata": {},
   "outputs": [],
   "source": [
    "# impute missing values in DemAge with its mean\n",
    "df['Age'].fillna(df['Age'].mean(), inplace=True)"
   ]
  },
  {
   "cell_type": "code",
   "execution_count": 46,
   "metadata": {},
   "outputs": [
    {
     "data": {
      "text/plain": [
       "array([1., 0.])"
      ]
     },
     "execution_count": 46,
     "metadata": {},
     "output_type": "execute_result"
    }
   ],
   "source": [
    "df['Gender'].unique() "
   ]
  },
  {
   "cell_type": "code",
   "execution_count": 45,
   "metadata": {},
   "outputs": [],
   "source": [
    "df.dropna(subset = [\"Gender\"], inplace=True)"
   ]
  },
  {
   "cell_type": "code",
   "execution_count": null,
   "metadata": {},
   "outputs": [],
   "source": [
    "print(df.groupby(['Exited'])['Sex'].mean())"
   ]
  }
 ],
 "metadata": {
  "kernelspec": {
   "display_name": "Python 3",
   "language": "python",
   "name": "python3"
  },
  "language_info": {
   "codemirror_mode": {
    "name": "ipython",
    "version": 3
   },
   "file_extension": ".py",
   "mimetype": "text/x-python",
   "name": "python",
   "nbconvert_exporter": "python",
   "pygments_lexer": "ipython3",
   "version": "3.8.5"
  }
 },
 "nbformat": 4,
 "nbformat_minor": 4
}
