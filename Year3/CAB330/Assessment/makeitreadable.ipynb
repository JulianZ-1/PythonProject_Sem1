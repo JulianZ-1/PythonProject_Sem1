{
 "cells": [
  {
   "cell_type": "code",
   "execution_count": 126,
   "metadata": {},
   "outputs": [],
   "source": [
    "import pandas as pd\n",
    "import matplotlib.pyplot as plt\n",
    "import seaborn as sns\n",
    "import numpy as np\n",
    "from sklearn.model_selection import train_test_split\n",
    "from sklearn.tree import DecisionTreeClassifier\n",
    "from sklearn.metrics import classification_report, accuracy_score\n",
    "from sklearn.model_selection import GridSearchCV\n"
   ]
  },
  {
   "cell_type": "code",
   "execution_count": 2,
   "metadata": {},
   "outputs": [
    {
     "name": "stdout",
     "output_type": "stream",
     "text": [
      "<class 'pandas.core.frame.DataFrame'>\n",
      "RangeIndex: 10000 entries, 0 to 9999\n",
      "Data columns (total 17 columns):\n",
      " #   Column                Non-Null Count  Dtype  \n",
      "---  ------                --------------  -----  \n",
      " 0   RowNumber             10000 non-null  int64  \n",
      " 1   CustomerId            10000 non-null  int64  \n",
      " 2   Surname               9914 non-null   object \n",
      " 3   CreditScore           9963 non-null   float64\n",
      " 4   Geography             9963 non-null   object \n",
      " 5   Gender                9963 non-null   object \n",
      " 6   Sex                   9805 non-null   float64\n",
      " 7   Age                   9963 non-null   float64\n",
      " 8   CurrentWorkingStatus  9963 non-null   float64\n",
      " 9   Tenure                9963 non-null   float64\n",
      " 10  Balance               9963 non-null   float64\n",
      " 11  NumOfProducts         9859 non-null   float64\n",
      " 12  ComplaintsLodged      9963 non-null   float64\n",
      " 13  HasCrCard             9963 non-null   float64\n",
      " 14  IsActiveMember        9963 non-null   float64\n",
      " 15  EstimatedSalary       9896 non-null   object \n",
      " 16  Exited                10000 non-null  object \n",
      "dtypes: float64(10), int64(2), object(5)\n",
      "memory usage: 1.3+ MB\n",
      "None\n"
     ]
    }
   ],
   "source": [
    "df = pd.read_csv('churn.csv')\n",
    "print(df.info())"
   ]
  },
  {
   "cell_type": "code",
   "execution_count": 6,
   "metadata": {},
   "outputs": [
    {
     "data": {
      "text/html": [
       "<div>\n",
       "<style scoped>\n",
       "    .dataframe tbody tr th:only-of-type {\n",
       "        vertical-align: middle;\n",
       "    }\n",
       "\n",
       "    .dataframe tbody tr th {\n",
       "        vertical-align: top;\n",
       "    }\n",
       "\n",
       "    .dataframe thead th {\n",
       "        text-align: right;\n",
       "    }\n",
       "</style>\n",
       "<table border=\"1\" class=\"dataframe\">\n",
       "  <thead>\n",
       "    <tr style=\"text-align: right;\">\n",
       "      <th></th>\n",
       "      <th>RowNumber</th>\n",
       "      <th>CustomerId</th>\n",
       "      <th>Surname</th>\n",
       "      <th>CreditScore</th>\n",
       "      <th>Geography</th>\n",
       "      <th>Gender</th>\n",
       "      <th>Sex</th>\n",
       "      <th>Age</th>\n",
       "      <th>CurrentWorkingStatus</th>\n",
       "      <th>Tenure</th>\n",
       "      <th>Balance</th>\n",
       "      <th>NumOfProducts</th>\n",
       "      <th>ComplaintsLodged</th>\n",
       "      <th>HasCrCard</th>\n",
       "      <th>IsActiveMember</th>\n",
       "      <th>EstimatedSalary</th>\n",
       "      <th>Exited</th>\n",
       "    </tr>\n",
       "  </thead>\n",
       "  <tbody>\n",
       "    <tr>\n",
       "      <th>0</th>\n",
       "      <td>1</td>\n",
       "      <td>15634602</td>\n",
       "      <td>Hargrave</td>\n",
       "      <td>619.0</td>\n",
       "      <td>France</td>\n",
       "      <td>Female</td>\n",
       "      <td>1.0</td>\n",
       "      <td>42.0</td>\n",
       "      <td>1.0</td>\n",
       "      <td>2.0</td>\n",
       "      <td>0.00</td>\n",
       "      <td>1.0</td>\n",
       "      <td>1.0</td>\n",
       "      <td>1.0</td>\n",
       "      <td>1.0</td>\n",
       "      <td>101348.88</td>\n",
       "      <td>Yes</td>\n",
       "    </tr>\n",
       "    <tr>\n",
       "      <th>1</th>\n",
       "      <td>2</td>\n",
       "      <td>15647311</td>\n",
       "      <td>Hill</td>\n",
       "      <td>608.0</td>\n",
       "      <td>Spain</td>\n",
       "      <td>Female</td>\n",
       "      <td>1.0</td>\n",
       "      <td>41.0</td>\n",
       "      <td>1.0</td>\n",
       "      <td>1.0</td>\n",
       "      <td>83807.86</td>\n",
       "      <td>1.0</td>\n",
       "      <td>0.0</td>\n",
       "      <td>0.0</td>\n",
       "      <td>1.0</td>\n",
       "      <td>112542.58</td>\n",
       "      <td>No</td>\n",
       "    </tr>\n",
       "    <tr>\n",
       "      <th>2</th>\n",
       "      <td>3</td>\n",
       "      <td>15619304</td>\n",
       "      <td>Onio</td>\n",
       "      <td>502.0</td>\n",
       "      <td>France</td>\n",
       "      <td>Female</td>\n",
       "      <td>1.0</td>\n",
       "      <td>42.0</td>\n",
       "      <td>1.0</td>\n",
       "      <td>8.0</td>\n",
       "      <td>159660.80</td>\n",
       "      <td>3.0</td>\n",
       "      <td>1.0</td>\n",
       "      <td>1.0</td>\n",
       "      <td>0.0</td>\n",
       "      <td>113931.57</td>\n",
       "      <td>Yes</td>\n",
       "    </tr>\n",
       "    <tr>\n",
       "      <th>3</th>\n",
       "      <td>4</td>\n",
       "      <td>15701354</td>\n",
       "      <td>Boni</td>\n",
       "      <td>699.0</td>\n",
       "      <td>France</td>\n",
       "      <td>Female</td>\n",
       "      <td>1.0</td>\n",
       "      <td>39.0</td>\n",
       "      <td>1.0</td>\n",
       "      <td>1.0</td>\n",
       "      <td>0.00</td>\n",
       "      <td>2.0</td>\n",
       "      <td>0.0</td>\n",
       "      <td>0.0</td>\n",
       "      <td>0.0</td>\n",
       "      <td>?</td>\n",
       "      <td>No</td>\n",
       "    </tr>\n",
       "    <tr>\n",
       "      <th>4</th>\n",
       "      <td>5</td>\n",
       "      <td>15737888</td>\n",
       "      <td>Mitchell</td>\n",
       "      <td>850.0</td>\n",
       "      <td>Spain</td>\n",
       "      <td>Female</td>\n",
       "      <td>1.0</td>\n",
       "      <td>43.0</td>\n",
       "      <td>1.0</td>\n",
       "      <td>2.0</td>\n",
       "      <td>125510.82</td>\n",
       "      <td>1.0</td>\n",
       "      <td>0.0</td>\n",
       "      <td>1.0</td>\n",
       "      <td>1.0</td>\n",
       "      <td>79084.1</td>\n",
       "      <td>No</td>\n",
       "    </tr>\n",
       "    <tr>\n",
       "      <th>5</th>\n",
       "      <td>6</td>\n",
       "      <td>15574012</td>\n",
       "      <td>Chu</td>\n",
       "      <td>645.0</td>\n",
       "      <td>Spain</td>\n",
       "      <td>Male</td>\n",
       "      <td>0.0</td>\n",
       "      <td>44.0</td>\n",
       "      <td>1.0</td>\n",
       "      <td>8.0</td>\n",
       "      <td>113755.78</td>\n",
       "      <td>2.0</td>\n",
       "      <td>1.0</td>\n",
       "      <td>1.0</td>\n",
       "      <td>0.0</td>\n",
       "      <td>149756.71</td>\n",
       "      <td>Yes</td>\n",
       "    </tr>\n",
       "    <tr>\n",
       "      <th>6</th>\n",
       "      <td>7</td>\n",
       "      <td>15592531</td>\n",
       "      <td>Bartlett</td>\n",
       "      <td>822.0</td>\n",
       "      <td>France</td>\n",
       "      <td>Male</td>\n",
       "      <td>0.0</td>\n",
       "      <td>-1.0</td>\n",
       "      <td>1.0</td>\n",
       "      <td>7.0</td>\n",
       "      <td>0.00</td>\n",
       "      <td>2.0</td>\n",
       "      <td>0.0</td>\n",
       "      <td>1.0</td>\n",
       "      <td>1.0</td>\n",
       "      <td>10062.8</td>\n",
       "      <td>No</td>\n",
       "    </tr>\n",
       "    <tr>\n",
       "      <th>7</th>\n",
       "      <td>8</td>\n",
       "      <td>15656148</td>\n",
       "      <td>Obinna</td>\n",
       "      <td>376.0</td>\n",
       "      <td>Germany</td>\n",
       "      <td>Female</td>\n",
       "      <td>1.0</td>\n",
       "      <td>29.0</td>\n",
       "      <td>1.0</td>\n",
       "      <td>4.0</td>\n",
       "      <td>115046.74</td>\n",
       "      <td>4.0</td>\n",
       "      <td>1.0</td>\n",
       "      <td>1.0</td>\n",
       "      <td>0.0</td>\n",
       "      <td>119346.88</td>\n",
       "      <td>Yes</td>\n",
       "    </tr>\n",
       "    <tr>\n",
       "      <th>8</th>\n",
       "      <td>9</td>\n",
       "      <td>15792365</td>\n",
       "      <td>He</td>\n",
       "      <td>501.0</td>\n",
       "      <td>France</td>\n",
       "      <td>Male</td>\n",
       "      <td>0.0</td>\n",
       "      <td>44.0</td>\n",
       "      <td>1.0</td>\n",
       "      <td>4.0</td>\n",
       "      <td>142051.07</td>\n",
       "      <td>2.0</td>\n",
       "      <td>0.0</td>\n",
       "      <td>0.0</td>\n",
       "      <td>1.0</td>\n",
       "      <td>74940.5</td>\n",
       "      <td>No</td>\n",
       "    </tr>\n",
       "    <tr>\n",
       "      <th>9</th>\n",
       "      <td>10</td>\n",
       "      <td>15592389</td>\n",
       "      <td>H?</td>\n",
       "      <td>684.0</td>\n",
       "      <td>France</td>\n",
       "      <td>Male</td>\n",
       "      <td>0.0</td>\n",
       "      <td>27.0</td>\n",
       "      <td>1.0</td>\n",
       "      <td>2.0</td>\n",
       "      <td>134603.88</td>\n",
       "      <td>1.0</td>\n",
       "      <td>0.0</td>\n",
       "      <td>1.0</td>\n",
       "      <td>1.0</td>\n",
       "      <td>71725.73</td>\n",
       "      <td>No</td>\n",
       "    </tr>\n",
       "  </tbody>\n",
       "</table>\n",
       "</div>"
      ],
      "text/plain": [
       "   RowNumber  CustomerId   Surname  CreditScore Geography  Gender  Sex   Age  \\\n",
       "0          1    15634602  Hargrave        619.0    France  Female  1.0  42.0   \n",
       "1          2    15647311      Hill        608.0     Spain  Female  1.0  41.0   \n",
       "2          3    15619304      Onio        502.0    France  Female  1.0  42.0   \n",
       "3          4    15701354      Boni        699.0    France  Female  1.0  39.0   \n",
       "4          5    15737888  Mitchell        850.0     Spain  Female  1.0  43.0   \n",
       "5          6    15574012       Chu        645.0     Spain    Male  0.0  44.0   \n",
       "6          7    15592531  Bartlett        822.0    France    Male  0.0  -1.0   \n",
       "7          8    15656148    Obinna        376.0   Germany  Female  1.0  29.0   \n",
       "8          9    15792365        He        501.0    France    Male  0.0  44.0   \n",
       "9         10    15592389        H?        684.0    France    Male  0.0  27.0   \n",
       "\n",
       "   CurrentWorkingStatus  Tenure    Balance  NumOfProducts  ComplaintsLodged  \\\n",
       "0                   1.0     2.0       0.00            1.0               1.0   \n",
       "1                   1.0     1.0   83807.86            1.0               0.0   \n",
       "2                   1.0     8.0  159660.80            3.0               1.0   \n",
       "3                   1.0     1.0       0.00            2.0               0.0   \n",
       "4                   1.0     2.0  125510.82            1.0               0.0   \n",
       "5                   1.0     8.0  113755.78            2.0               1.0   \n",
       "6                   1.0     7.0       0.00            2.0               0.0   \n",
       "7                   1.0     4.0  115046.74            4.0               1.0   \n",
       "8                   1.0     4.0  142051.07            2.0               0.0   \n",
       "9                   1.0     2.0  134603.88            1.0               0.0   \n",
       "\n",
       "   HasCrCard  IsActiveMember EstimatedSalary Exited  \n",
       "0        1.0             1.0       101348.88    Yes  \n",
       "1        0.0             1.0       112542.58     No  \n",
       "2        1.0             0.0       113931.57    Yes  \n",
       "3        0.0             0.0               ?     No  \n",
       "4        1.0             1.0         79084.1     No  \n",
       "5        1.0             0.0       149756.71    Yes  \n",
       "6        1.0             1.0         10062.8     No  \n",
       "7        1.0             0.0       119346.88    Yes  \n",
       "8        0.0             1.0         74940.5     No  \n",
       "9        1.0             1.0        71725.73     No  "
      ]
     },
     "execution_count": 6,
     "metadata": {},
     "output_type": "execute_result"
    }
   ],
   "source": [
    "df.head(10)"
   ]
  },
  {
   "cell_type": "markdown",
   "metadata": {},
   "source": [
    "Task 1:\n",
    "What is the proportion of customers who ecited and stoppped using the banking services\n"
   ]
  },
  {
   "cell_type": "code",
   "execution_count": 5,
   "metadata": {},
   "outputs": [
    {
     "name": "stdout",
     "output_type": "stream",
     "text": [
      "No     7963\n",
      "Yes    2037\n",
      "Name: Exited, dtype: int64\n"
     ]
    }
   ],
   "source": [
    "\n",
    "print(df['Exited'].value_counts())\n",
    "#answer: 7963"
   ]
  },
  {
   "cell_type": "markdown",
   "metadata": {},
   "source": [
    "The dataset may include irrelevant and redundant varibles. What varibles did you include in the analysis and what were their roles and measurement levelset Justify your choice."
   ]
  },
  {
   "cell_type": "code",
   "execution_count": 9,
   "metadata": {},
   "outputs": [
    {
     "name": "stdout",
     "output_type": "stream",
     "text": [
      "<class 'pandas.core.frame.DataFrame'>\n",
      "RangeIndex: 10000 entries, 0 to 9999\n",
      "Data columns (total 17 columns):\n",
      " #   Column                Non-Null Count  Dtype  \n",
      "---  ------                --------------  -----  \n",
      " 0   RowNumber             10000 non-null  int64  \n",
      " 1   CustomerId            10000 non-null  int64  \n",
      " 2   Surname               9914 non-null   object \n",
      " 3   CreditScore           9963 non-null   float64\n",
      " 4   Geography             9963 non-null   object \n",
      " 5   Gender                9963 non-null   object \n",
      " 6   Sex                   9805 non-null   float64\n",
      " 7   Age                   9963 non-null   float64\n",
      " 8   CurrentWorkingStatus  9963 non-null   float64\n",
      " 9   Tenure                9963 non-null   float64\n",
      " 10  Balance               9963 non-null   float64\n",
      " 11  NumOfProducts         9859 non-null   float64\n",
      " 12  ComplaintsLodged      9963 non-null   float64\n",
      " 13  HasCrCard             9963 non-null   float64\n",
      " 14  IsActiveMember        9963 non-null   float64\n",
      " 15  EstimatedSalary       9896 non-null   object \n",
      " 16  Exited                10000 non-null  object \n",
      "dtypes: float64(10), int64(2), object(5)\n",
      "memory usage: 1.3+ MB\n",
      "None\n"
     ]
    }
   ],
   "source": [
    "print(df.info())"
   ]
  },
  {
   "cell_type": "code",
   "execution_count": 10,
   "metadata": {},
   "outputs": [],
   "source": [
    "df.drop(['RowNumber', 'CustomerId', 'Surname', 'Gender'], axis=1, inplace=True)\n",
    "# drop those because its useless, and sex is better than gender."
   ]
  },
  {
   "cell_type": "code",
   "execution_count": 11,
   "metadata": {},
   "outputs": [
    {
     "name": "stdout",
     "output_type": "stream",
     "text": [
      "<class 'pandas.core.frame.DataFrame'>\n",
      "RangeIndex: 10000 entries, 0 to 9999\n",
      "Data columns (total 13 columns):\n",
      " #   Column                Non-Null Count  Dtype  \n",
      "---  ------                --------------  -----  \n",
      " 0   CreditScore           9963 non-null   float64\n",
      " 1   Geography             9963 non-null   object \n",
      " 2   Sex                   9805 non-null   float64\n",
      " 3   Age                   9963 non-null   float64\n",
      " 4   CurrentWorkingStatus  9963 non-null   float64\n",
      " 5   Tenure                9963 non-null   float64\n",
      " 6   Balance               9963 non-null   float64\n",
      " 7   NumOfProducts         9859 non-null   float64\n",
      " 8   ComplaintsLodged      9963 non-null   float64\n",
      " 9   HasCrCard             9963 non-null   float64\n",
      " 10  IsActiveMember        9963 non-null   float64\n",
      " 11  EstimatedSalary       9896 non-null   object \n",
      " 12  Exited                10000 non-null  object \n",
      "dtypes: float64(10), object(3)\n",
      "memory usage: 1015.8+ KB\n",
      "None\n"
     ]
    }
   ],
   "source": [
    "#have look at the dataset again\n",
    "print(df.info())"
   ]
  },
  {
   "cell_type": "code",
   "execution_count": 12,
   "metadata": {},
   "outputs": [
    {
     "data": {
      "text/html": [
       "<div>\n",
       "<style scoped>\n",
       "    .dataframe tbody tr th:only-of-type {\n",
       "        vertical-align: middle;\n",
       "    }\n",
       "\n",
       "    .dataframe tbody tr th {\n",
       "        vertical-align: top;\n",
       "    }\n",
       "\n",
       "    .dataframe thead th {\n",
       "        text-align: right;\n",
       "    }\n",
       "</style>\n",
       "<table border=\"1\" class=\"dataframe\">\n",
       "  <thead>\n",
       "    <tr style=\"text-align: right;\">\n",
       "      <th></th>\n",
       "      <th>CreditScore</th>\n",
       "      <th>Geography</th>\n",
       "      <th>Sex</th>\n",
       "      <th>Age</th>\n",
       "      <th>CurrentWorkingStatus</th>\n",
       "      <th>Tenure</th>\n",
       "      <th>Balance</th>\n",
       "      <th>NumOfProducts</th>\n",
       "      <th>ComplaintsLodged</th>\n",
       "      <th>HasCrCard</th>\n",
       "      <th>IsActiveMember</th>\n",
       "      <th>EstimatedSalary</th>\n",
       "      <th>Exited</th>\n",
       "    </tr>\n",
       "  </thead>\n",
       "  <tbody>\n",
       "    <tr>\n",
       "      <th>0</th>\n",
       "      <td>619.0</td>\n",
       "      <td>France</td>\n",
       "      <td>1.0</td>\n",
       "      <td>42.0</td>\n",
       "      <td>1.0</td>\n",
       "      <td>2.0</td>\n",
       "      <td>0.00</td>\n",
       "      <td>1.0</td>\n",
       "      <td>1.0</td>\n",
       "      <td>1.0</td>\n",
       "      <td>1.0</td>\n",
       "      <td>101348.88</td>\n",
       "      <td>Yes</td>\n",
       "    </tr>\n",
       "    <tr>\n",
       "      <th>1</th>\n",
       "      <td>608.0</td>\n",
       "      <td>Spain</td>\n",
       "      <td>1.0</td>\n",
       "      <td>41.0</td>\n",
       "      <td>1.0</td>\n",
       "      <td>1.0</td>\n",
       "      <td>83807.86</td>\n",
       "      <td>1.0</td>\n",
       "      <td>0.0</td>\n",
       "      <td>0.0</td>\n",
       "      <td>1.0</td>\n",
       "      <td>112542.58</td>\n",
       "      <td>No</td>\n",
       "    </tr>\n",
       "    <tr>\n",
       "      <th>2</th>\n",
       "      <td>502.0</td>\n",
       "      <td>France</td>\n",
       "      <td>1.0</td>\n",
       "      <td>42.0</td>\n",
       "      <td>1.0</td>\n",
       "      <td>8.0</td>\n",
       "      <td>159660.80</td>\n",
       "      <td>3.0</td>\n",
       "      <td>1.0</td>\n",
       "      <td>1.0</td>\n",
       "      <td>0.0</td>\n",
       "      <td>113931.57</td>\n",
       "      <td>Yes</td>\n",
       "    </tr>\n",
       "    <tr>\n",
       "      <th>3</th>\n",
       "      <td>699.0</td>\n",
       "      <td>France</td>\n",
       "      <td>1.0</td>\n",
       "      <td>39.0</td>\n",
       "      <td>1.0</td>\n",
       "      <td>1.0</td>\n",
       "      <td>0.00</td>\n",
       "      <td>2.0</td>\n",
       "      <td>0.0</td>\n",
       "      <td>0.0</td>\n",
       "      <td>0.0</td>\n",
       "      <td>?</td>\n",
       "      <td>No</td>\n",
       "    </tr>\n",
       "    <tr>\n",
       "      <th>4</th>\n",
       "      <td>850.0</td>\n",
       "      <td>Spain</td>\n",
       "      <td>1.0</td>\n",
       "      <td>43.0</td>\n",
       "      <td>1.0</td>\n",
       "      <td>2.0</td>\n",
       "      <td>125510.82</td>\n",
       "      <td>1.0</td>\n",
       "      <td>0.0</td>\n",
       "      <td>1.0</td>\n",
       "      <td>1.0</td>\n",
       "      <td>79084.1</td>\n",
       "      <td>No</td>\n",
       "    </tr>\n",
       "    <tr>\n",
       "      <th>5</th>\n",
       "      <td>645.0</td>\n",
       "      <td>Spain</td>\n",
       "      <td>0.0</td>\n",
       "      <td>44.0</td>\n",
       "      <td>1.0</td>\n",
       "      <td>8.0</td>\n",
       "      <td>113755.78</td>\n",
       "      <td>2.0</td>\n",
       "      <td>1.0</td>\n",
       "      <td>1.0</td>\n",
       "      <td>0.0</td>\n",
       "      <td>149756.71</td>\n",
       "      <td>Yes</td>\n",
       "    </tr>\n",
       "    <tr>\n",
       "      <th>6</th>\n",
       "      <td>822.0</td>\n",
       "      <td>France</td>\n",
       "      <td>0.0</td>\n",
       "      <td>-1.0</td>\n",
       "      <td>1.0</td>\n",
       "      <td>7.0</td>\n",
       "      <td>0.00</td>\n",
       "      <td>2.0</td>\n",
       "      <td>0.0</td>\n",
       "      <td>1.0</td>\n",
       "      <td>1.0</td>\n",
       "      <td>10062.8</td>\n",
       "      <td>No</td>\n",
       "    </tr>\n",
       "    <tr>\n",
       "      <th>7</th>\n",
       "      <td>376.0</td>\n",
       "      <td>Germany</td>\n",
       "      <td>1.0</td>\n",
       "      <td>29.0</td>\n",
       "      <td>1.0</td>\n",
       "      <td>4.0</td>\n",
       "      <td>115046.74</td>\n",
       "      <td>4.0</td>\n",
       "      <td>1.0</td>\n",
       "      <td>1.0</td>\n",
       "      <td>0.0</td>\n",
       "      <td>119346.88</td>\n",
       "      <td>Yes</td>\n",
       "    </tr>\n",
       "    <tr>\n",
       "      <th>8</th>\n",
       "      <td>501.0</td>\n",
       "      <td>France</td>\n",
       "      <td>0.0</td>\n",
       "      <td>44.0</td>\n",
       "      <td>1.0</td>\n",
       "      <td>4.0</td>\n",
       "      <td>142051.07</td>\n",
       "      <td>2.0</td>\n",
       "      <td>0.0</td>\n",
       "      <td>0.0</td>\n",
       "      <td>1.0</td>\n",
       "      <td>74940.5</td>\n",
       "      <td>No</td>\n",
       "    </tr>\n",
       "    <tr>\n",
       "      <th>9</th>\n",
       "      <td>684.0</td>\n",
       "      <td>France</td>\n",
       "      <td>0.0</td>\n",
       "      <td>27.0</td>\n",
       "      <td>1.0</td>\n",
       "      <td>2.0</td>\n",
       "      <td>134603.88</td>\n",
       "      <td>1.0</td>\n",
       "      <td>0.0</td>\n",
       "      <td>1.0</td>\n",
       "      <td>1.0</td>\n",
       "      <td>71725.73</td>\n",
       "      <td>No</td>\n",
       "    </tr>\n",
       "  </tbody>\n",
       "</table>\n",
       "</div>"
      ],
      "text/plain": [
       "   CreditScore Geography  Sex   Age  CurrentWorkingStatus  Tenure    Balance  \\\n",
       "0        619.0    France  1.0  42.0                   1.0     2.0       0.00   \n",
       "1        608.0     Spain  1.0  41.0                   1.0     1.0   83807.86   \n",
       "2        502.0    France  1.0  42.0                   1.0     8.0  159660.80   \n",
       "3        699.0    France  1.0  39.0                   1.0     1.0       0.00   \n",
       "4        850.0     Spain  1.0  43.0                   1.0     2.0  125510.82   \n",
       "5        645.0     Spain  0.0  44.0                   1.0     8.0  113755.78   \n",
       "6        822.0    France  0.0  -1.0                   1.0     7.0       0.00   \n",
       "7        376.0   Germany  1.0  29.0                   1.0     4.0  115046.74   \n",
       "8        501.0    France  0.0  44.0                   1.0     4.0  142051.07   \n",
       "9        684.0    France  0.0  27.0                   1.0     2.0  134603.88   \n",
       "\n",
       "   NumOfProducts  ComplaintsLodged  HasCrCard  IsActiveMember EstimatedSalary  \\\n",
       "0            1.0               1.0        1.0             1.0       101348.88   \n",
       "1            1.0               0.0        0.0             1.0       112542.58   \n",
       "2            3.0               1.0        1.0             0.0       113931.57   \n",
       "3            2.0               0.0        0.0             0.0               ?   \n",
       "4            1.0               0.0        1.0             1.0         79084.1   \n",
       "5            2.0               1.0        1.0             0.0       149756.71   \n",
       "6            2.0               0.0        1.0             1.0         10062.8   \n",
       "7            4.0               1.0        1.0             0.0       119346.88   \n",
       "8            2.0               0.0        0.0             1.0         74940.5   \n",
       "9            1.0               0.0        1.0             1.0        71725.73   \n",
       "\n",
       "  Exited  \n",
       "0    Yes  \n",
       "1     No  \n",
       "2    Yes  \n",
       "3     No  \n",
       "4     No  \n",
       "5    Yes  \n",
       "6     No  \n",
       "7    Yes  \n",
       "8     No  \n",
       "9     No  "
      ]
     },
     "execution_count": 12,
     "metadata": {},
     "output_type": "execute_result"
    }
   ],
   "source": [
    "df.head(10)"
   ]
  },
  {
   "cell_type": "markdown",
   "metadata": {},
   "source": [
    "Did you have to fix any data quality problems? Detail them"
   ]
  },
  {
   "cell_type": "code",
   "execution_count": 14,
   "metadata": {},
   "outputs": [
    {
     "name": "stdout",
     "output_type": "stream",
     "text": [
      "<class 'pandas.core.frame.DataFrame'>\n",
      "RangeIndex: 10000 entries, 0 to 9999\n",
      "Data columns (total 13 columns):\n",
      " #   Column                Non-Null Count  Dtype  \n",
      "---  ------                --------------  -----  \n",
      " 0   CreditScore           9963 non-null   float64\n",
      " 1   Geography             9963 non-null   object \n",
      " 2   Sex                   9805 non-null   float64\n",
      " 3   Age                   9963 non-null   float64\n",
      " 4   CurrentWorkingStatus  9963 non-null   float64\n",
      " 5   Tenure                9963 non-null   float64\n",
      " 6   Balance               9963 non-null   float64\n",
      " 7   NumOfProducts         9859 non-null   float64\n",
      " 8   ComplaintsLodged      9963 non-null   float64\n",
      " 9   HasCrCard             9963 non-null   float64\n",
      " 10  IsActiveMember        9963 non-null   float64\n",
      " 11  EstimatedSalary       9896 non-null   object \n",
      " 12  Exited                10000 non-null  object \n",
      "dtypes: float64(10), object(3)\n",
      "memory usage: 1015.8+ KB\n"
     ]
    }
   ],
   "source": [
    "#check cloumn by column\n",
    "df.info()"
   ]
  },
  {
   "cell_type": "code",
   "execution_count": 20,
   "metadata": {},
   "outputs": [
    {
     "data": {
      "text/plain": [
       "CreditScore              37\n",
       "Geography                37\n",
       "Sex                     195\n",
       "Age                      37\n",
       "CurrentWorkingStatus     37\n",
       "Tenure                   37\n",
       "Balance                  37\n",
       "NumOfProducts           141\n",
       "ComplaintsLodged         37\n",
       "HasCrCard                37\n",
       "IsActiveMember           37\n",
       "EstimatedSalary         104\n",
       "Exited                    0\n",
       "dtype: int64"
      ]
     },
     "execution_count": 20,
     "metadata": {},
     "output_type": "execute_result"
    }
   ],
   "source": [
    "df.isnull().sum()"
   ]
  },
  {
   "cell_type": "code",
   "execution_count": 24,
   "metadata": {},
   "outputs": [
    {
     "name": "stdout",
     "output_type": "stream",
     "text": [
      "0       619.0\n",
      "1       608.0\n",
      "2       502.0\n",
      "3       699.0\n",
      "4       850.0\n",
      "        ...  \n",
      "9995    771.0\n",
      "9996    516.0\n",
      "9997    709.0\n",
      "9998    772.0\n",
      "9999    792.0\n",
      "Name: CreditScore, Length: 10000, dtype: float64\n"
     ]
    }
   ],
   "source": [
    "#checking creditscore\n",
    "print(df['CreditScore'])\n",
    "#only 37 missing values, drop them shouldnt make a big different to the dataset\n",
    "df = df.dropna(subset=[\"CreditScore\"])"
   ]
  },
  {
   "cell_type": "code",
   "execution_count": 28,
   "metadata": {},
   "outputs": [
    {
     "data": {
      "text/plain": [
       "CreditScore               0\n",
       "Geography                 0\n",
       "Sex                     158\n",
       "Age                       0\n",
       "CurrentWorkingStatus      0\n",
       "Tenure                    0\n",
       "Balance                   0\n",
       "NumOfProducts           104\n",
       "ComplaintsLodged          0\n",
       "HasCrCard                 0\n",
       "IsActiveMember            0\n",
       "EstimatedSalary          67\n",
       "Exited                    0\n",
       "dtype: int64"
      ]
     },
     "execution_count": 28,
     "metadata": {},
     "output_type": "execute_result"
    }
   ],
   "source": [
    "#check again after dropping\n",
    "df.isnull().sum()"
   ]
  },
  {
   "cell_type": "code",
   "execution_count": null,
   "metadata": {},
   "outputs": [],
   "source": []
  },
  {
   "cell_type": "code",
   "execution_count": 27,
   "metadata": {},
   "outputs": [
    {
     "name": "stderr",
     "output_type": "stream",
     "text": [
      "C:\\Users\\zhuju\\anaconda3\\lib\\site-packages\\pandas\\core\\indexing.py:1765: SettingWithCopyWarning: \n",
      "A value is trying to be set on a copy of a slice from a DataFrame.\n",
      "Try using .loc[row_indexer,col_indexer] = value instead\n",
      "\n",
      "See the caveats in the documentation: https://pandas.pydata.org/pandas-docs/stable/user_guide/indexing.html#returning-a-view-versus-a-copy\n",
      "  isetter(loc, value)\n"
     ]
    },
    {
     "data": {
      "text/plain": [
       "0"
      ]
     },
     "execution_count": 27,
     "metadata": {},
     "output_type": "execute_result"
    }
   ],
   "source": [
    "#check if there is any 0s in score\n",
    "mask = df['CreditScore'] < 1\n",
    "df.loc[mask, 'CreditScore'] = np.nan\n",
    "df.loc[mask, 'CreditScore'].count()\n",
    "#CreditScore is good now"
   ]
  },
  {
   "cell_type": "code",
   "execution_count": 29,
   "metadata": {},
   "outputs": [
    {
     "data": {
      "text/plain": [
       "array(['France', 'Spain', 'Germany', 'DE', 'ES', 'FR'], dtype=object)"
      ]
     },
     "execution_count": 29,
     "metadata": {},
     "output_type": "execute_result"
    }
   ],
   "source": [
    "#check Geo\n",
    "df['Geography'].unique()"
   ]
  },
  {
   "cell_type": "code",
   "execution_count": 32,
   "metadata": {},
   "outputs": [
    {
     "data": {
      "text/plain": [
       "0"
      ]
     },
     "execution_count": 32,
     "metadata": {},
     "output_type": "execute_result"
    }
   ],
   "source": [
    "df['Geography'].isnull().sum()\n"
   ]
  },
  {
   "cell_type": "code",
   "execution_count": 35,
   "metadata": {},
   "outputs": [],
   "source": [
    "#change geo to int\n",
    "geo_map = {'France':0, 'Spain': 1,'Germany':2, 'DE':3, 'ES':4, 'FR':5}"
   ]
  },
  {
   "cell_type": "code",
   "execution_count": 36,
   "metadata": {},
   "outputs": [
    {
     "name": "stderr",
     "output_type": "stream",
     "text": [
      "<ipython-input-36-37789519d2be>:1: SettingWithCopyWarning: \n",
      "A value is trying to be set on a copy of a slice from a DataFrame.\n",
      "Try using .loc[row_indexer,col_indexer] = value instead\n",
      "\n",
      "See the caveats in the documentation: https://pandas.pydata.org/pandas-docs/stable/user_guide/indexing.html#returning-a-view-versus-a-copy\n",
      "  df['Geography'] = df['Geography'].map(geo_map)\n"
     ]
    }
   ],
   "source": [
    "df['Geography'] = df['Geography'].map(geo_map)"
   ]
  },
  {
   "cell_type": "code",
   "execution_count": 38,
   "metadata": {},
   "outputs": [
    {
     "name": "stdout",
     "output_type": "stream",
     "text": [
      "<class 'pandas.core.frame.DataFrame'>\n",
      "Int64Index: 9963 entries, 0 to 9999\n",
      "Data columns (total 13 columns):\n",
      " #   Column                Non-Null Count  Dtype  \n",
      "---  ------                --------------  -----  \n",
      " 0   CreditScore           9963 non-null   float64\n",
      " 1   Geography             9963 non-null   int64  \n",
      " 2   Sex                   9805 non-null   float64\n",
      " 3   Age                   9963 non-null   float64\n",
      " 4   CurrentWorkingStatus  9963 non-null   float64\n",
      " 5   Tenure                9963 non-null   float64\n",
      " 6   Balance               9963 non-null   float64\n",
      " 7   NumOfProducts         9859 non-null   float64\n",
      " 8   ComplaintsLodged      9963 non-null   float64\n",
      " 9   HasCrCard             9963 non-null   float64\n",
      " 10  IsActiveMember        9963 non-null   float64\n",
      " 11  EstimatedSalary       9896 non-null   object \n",
      " 12  Exited                9963 non-null   object \n",
      "dtypes: float64(10), int64(1), object(2)\n",
      "memory usage: 1.1+ MB\n"
     ]
    }
   ],
   "source": [
    "#check after change\n",
    "df.info()"
   ]
  },
  {
   "cell_type": "code",
   "execution_count": 41,
   "metadata": {},
   "outputs": [
    {
     "data": {
      "text/plain": [
       "0    0\n",
       "1    1\n",
       "2    0\n",
       "3    0\n",
       "4    1\n",
       "5    1\n",
       "6    0\n",
       "7    2\n",
       "8    0\n",
       "9    0\n",
       "Name: Geography, dtype: int64"
      ]
     },
     "execution_count": 41,
     "metadata": {},
     "output_type": "execute_result"
    }
   ],
   "source": [
    "df['Geography'].head(10)"
   ]
  },
  {
   "cell_type": "code",
   "execution_count": 44,
   "metadata": {},
   "outputs": [
    {
     "data": {
      "text/plain": [
       "CreditScore               0\n",
       "Geography                 0\n",
       "Sex                     158\n",
       "Age                       0\n",
       "CurrentWorkingStatus      0\n",
       "Tenure                    0\n",
       "Balance                   0\n",
       "NumOfProducts           104\n",
       "ComplaintsLodged          0\n",
       "HasCrCard                 0\n",
       "IsActiveMember            0\n",
       "EstimatedSalary          67\n",
       "Exited                    0\n",
       "dtype: int64"
      ]
     },
     "execution_count": 44,
     "metadata": {},
     "output_type": "execute_result"
    }
   ],
   "source": [
    "#check sex\n",
    "df['Sex'].isnull().sum()\n",
    "df.isnull().sum()"
   ]
  },
  {
   "cell_type": "code",
   "execution_count": 45,
   "metadata": {},
   "outputs": [],
   "source": [
    "#drop sex because we cant fill it with mean or anything else\n",
    "df = df.dropna(subset=[\"Sex\"])"
   ]
  },
  {
   "cell_type": "code",
   "execution_count": 54,
   "metadata": {},
   "outputs": [
    {
     "data": {
      "text/plain": [
       "CreditScore               0\n",
       "Geography                 0\n",
       "Sex                       0\n",
       "Age                       6\n",
       "CurrentWorkingStatus      0\n",
       "Tenure                    0\n",
       "Balance                   0\n",
       "NumOfProducts           104\n",
       "ComplaintsLodged          0\n",
       "HasCrCard                 0\n",
       "IsActiveMember            0\n",
       "EstimatedSalary          67\n",
       "Exited                    0\n",
       "dtype: int64"
      ]
     },
     "execution_count": 54,
     "metadata": {},
     "output_type": "execute_result"
    }
   ],
   "source": [
    "df.isnull().sum()"
   ]
  },
  {
   "cell_type": "code",
   "execution_count": 55,
   "metadata": {},
   "outputs": [
    {
     "data": {
      "text/plain": [
       "0"
      ]
     },
     "execution_count": 55,
     "metadata": {},
     "output_type": "execute_result"
    }
   ],
   "source": [
    "#check age\n",
    "mask = df['Age'] < 1\n",
    "df.loc[mask, 'Age'] = np.nan\n",
    "df.loc[mask, 'Age'].count()"
   ]
  },
  {
   "cell_type": "code",
   "execution_count": 57,
   "metadata": {},
   "outputs": [
    {
     "data": {
      "text/plain": [
       "6"
      ]
     },
     "execution_count": 57,
     "metadata": {},
     "output_type": "execute_result"
    }
   ],
   "source": [
    "df['Age'].isnull().sum()\n",
    "#use mean to fill age"
   ]
  },
  {
   "cell_type": "code",
   "execution_count": 58,
   "metadata": {},
   "outputs": [],
   "source": [
    "df['Age'].fillna(df['Age'].mean(), inplace=True)"
   ]
  },
  {
   "cell_type": "code",
   "execution_count": 59,
   "metadata": {},
   "outputs": [
    {
     "data": {
      "text/plain": [
       "CreditScore               0\n",
       "Geography                 0\n",
       "Sex                       0\n",
       "Age                       0\n",
       "CurrentWorkingStatus      0\n",
       "Tenure                    0\n",
       "Balance                   0\n",
       "NumOfProducts           104\n",
       "ComplaintsLodged          0\n",
       "HasCrCard                 0\n",
       "IsActiveMember            0\n",
       "EstimatedSalary          67\n",
       "Exited                    0\n",
       "dtype: int64"
      ]
     },
     "execution_count": 59,
     "metadata": {},
     "output_type": "execute_result"
    }
   ],
   "source": [
    "#check again\n",
    "df.isnull().sum()"
   ]
  },
  {
   "cell_type": "code",
   "execution_count": 61,
   "metadata": {},
   "outputs": [
    {
     "data": {
      "text/plain": [
       "array([1., 0.])"
      ]
     },
     "execution_count": 61,
     "metadata": {},
     "output_type": "execute_result"
    }
   ],
   "source": [
    "#check currentworking\n",
    "df['CurrentWorkingStatus'].unique()\n",
    "#looks good"
   ]
  },
  {
   "cell_type": "code",
   "execution_count": 72,
   "metadata": {},
   "outputs": [
    {
     "data": {
      "text/plain": [
       "0    2.0\n",
       "1    1.0\n",
       "2    8.0\n",
       "3    1.0\n",
       "4    2.0\n",
       "5    8.0\n",
       "6    7.0\n",
       "7    4.0\n",
       "8    4.0\n",
       "9    2.0\n",
       "Name: Tenure, dtype: float64"
      ]
     },
     "execution_count": 72,
     "metadata": {},
     "output_type": "execute_result"
    }
   ],
   "source": [
    "#check Tenure\n",
    "df['Tenure'].head(10)\n",
    "#Tenure looks good"
   ]
  },
  {
   "cell_type": "code",
   "execution_count": 76,
   "metadata": {},
   "outputs": [
    {
     "data": {
      "text/plain": [
       "0         0.00\n",
       "1     83807.86\n",
       "2    159660.80\n",
       "3         0.00\n",
       "4    125510.82\n",
       "5    113755.78\n",
       "6         0.00\n",
       "7    115046.74\n",
       "8    142051.07\n",
       "9    134603.88\n",
       "Name: Balance, dtype: float64"
      ]
     },
     "execution_count": 76,
     "metadata": {},
     "output_type": "execute_result"
    }
   ],
   "source": [
    "#check Balance\n",
    "df['Balance'].head(10)\n",
    "#Need to ask shu"
   ]
  },
  {
   "cell_type": "code",
   "execution_count": 77,
   "metadata": {},
   "outputs": [
    {
     "data": {
      "text/plain": [
       "array([ 1.,  3.,  2.,  4., nan])"
      ]
     },
     "execution_count": 77,
     "metadata": {},
     "output_type": "execute_result"
    }
   ],
   "source": [
    "df['NumOfProducts'].unique()"
   ]
  },
  {
   "cell_type": "code",
   "execution_count": 78,
   "metadata": {},
   "outputs": [
    {
     "data": {
      "text/plain": [
       "CreditScore               0\n",
       "Geography                 0\n",
       "Sex                       0\n",
       "Age                       0\n",
       "CurrentWorkingStatus      0\n",
       "Tenure                    0\n",
       "Balance                   0\n",
       "NumOfProducts           104\n",
       "ComplaintsLodged          0\n",
       "HasCrCard                 0\n",
       "IsActiveMember            0\n",
       "EstimatedSalary          67\n",
       "Exited                    0\n",
       "dtype: int64"
      ]
     },
     "execution_count": 78,
     "metadata": {},
     "output_type": "execute_result"
    }
   ],
   "source": [
    "df.isnull().sum()"
   ]
  },
  {
   "cell_type": "code",
   "execution_count": 79,
   "metadata": {},
   "outputs": [],
   "source": [
    "#fill number of product with mean\n",
    "df['NumOfProducts'].fillna(df['NumOfProducts'].mean(), inplace=True)"
   ]
  },
  {
   "cell_type": "code",
   "execution_count": 80,
   "metadata": {},
   "outputs": [
    {
     "data": {
      "text/plain": [
       "array([1.        , 3.        , 2.        , 4.        , 1.53190393])"
      ]
     },
     "execution_count": 80,
     "metadata": {},
     "output_type": "execute_result"
    }
   ],
   "source": [
    "df['NumOfProducts'].unique()"
   ]
  },
  {
   "cell_type": "code",
   "execution_count": 84,
   "metadata": {},
   "outputs": [
    {
     "name": "stdout",
     "output_type": "stream",
     "text": [
      "0    1.0\n",
      "1    1.0\n",
      "2    3.0\n",
      "3    2.0\n",
      "4    1.0\n",
      "5    2.0\n",
      "6    2.0\n",
      "7    4.0\n",
      "8    2.0\n",
      "9    1.0\n",
      "Name: NumOfProducts, dtype: float64\n"
     ]
    }
   ],
   "source": [
    "df['NumOfProducts'] = np.round(df['NumOfProducts'], decimals=0)\n",
    "print(df['NumOfProducts'].head(10))"
   ]
  },
  {
   "cell_type": "code",
   "execution_count": 86,
   "metadata": {},
   "outputs": [
    {
     "data": {
      "text/plain": [
       "array([1., 3., 2., 4.])"
      ]
     },
     "execution_count": 86,
     "metadata": {},
     "output_type": "execute_result"
    }
   ],
   "source": [
    "df['NumOfProducts'].unique()"
   ]
  },
  {
   "cell_type": "code",
   "execution_count": 88,
   "metadata": {},
   "outputs": [
    {
     "data": {
      "text/plain": [
       "CreditScore              0\n",
       "Geography                0\n",
       "Sex                      0\n",
       "Age                      0\n",
       "CurrentWorkingStatus     0\n",
       "Tenure                   0\n",
       "Balance                  0\n",
       "NumOfProducts            0\n",
       "ComplaintsLodged         0\n",
       "HasCrCard                0\n",
       "IsActiveMember           0\n",
       "EstimatedSalary         67\n",
       "Exited                   0\n",
       "dtype: int64"
      ]
     },
     "execution_count": 88,
     "metadata": {},
     "output_type": "execute_result"
    }
   ],
   "source": [
    "df.isnull().sum()"
   ]
  },
  {
   "cell_type": "code",
   "execution_count": 89,
   "metadata": {},
   "outputs": [
    {
     "data": {
      "text/plain": [
       "array([1., 0.])"
      ]
     },
     "execution_count": 89,
     "metadata": {},
     "output_type": "execute_result"
    }
   ],
   "source": [
    "#check complaintslodged\n",
    "df[\"ComplaintsLodged\"].unique()\n",
    "#looks good"
   ]
  },
  {
   "cell_type": "code",
   "execution_count": 90,
   "metadata": {},
   "outputs": [
    {
     "data": {
      "text/plain": [
       "CreditScore              0\n",
       "Geography                0\n",
       "Sex                      0\n",
       "Age                      0\n",
       "CurrentWorkingStatus     0\n",
       "Tenure                   0\n",
       "Balance                  0\n",
       "NumOfProducts            0\n",
       "ComplaintsLodged         0\n",
       "HasCrCard                0\n",
       "IsActiveMember           0\n",
       "EstimatedSalary         67\n",
       "Exited                   0\n",
       "dtype: int64"
      ]
     },
     "execution_count": 90,
     "metadata": {},
     "output_type": "execute_result"
    }
   ],
   "source": [
    "df.isnull().sum()"
   ]
  },
  {
   "cell_type": "code",
   "execution_count": 93,
   "metadata": {},
   "outputs": [
    {
     "data": {
      "text/plain": [
       "array([1., 0.])"
      ]
     },
     "execution_count": 93,
     "metadata": {},
     "output_type": "execute_result"
    }
   ],
   "source": [
    "#check hasCrCard\n",
    "df['HasCrCard'].unique()\n",
    "#Looks good"
   ]
  },
  {
   "cell_type": "code",
   "execution_count": 95,
   "metadata": {},
   "outputs": [
    {
     "data": {
      "text/plain": [
       "array([1., 0.])"
      ]
     },
     "execution_count": 95,
     "metadata": {},
     "output_type": "execute_result"
    }
   ],
   "source": [
    "#checkIsActivemember\n",
    "df['IsActiveMember'].unique()\n",
    "#Looks good"
   ]
  },
  {
   "cell_type": "code",
   "execution_count": 96,
   "metadata": {},
   "outputs": [
    {
     "data": {
      "text/plain": [
       "CreditScore              0\n",
       "Geography                0\n",
       "Sex                      0\n",
       "Age                      0\n",
       "CurrentWorkingStatus     0\n",
       "Tenure                   0\n",
       "Balance                  0\n",
       "NumOfProducts            0\n",
       "ComplaintsLodged         0\n",
       "HasCrCard                0\n",
       "IsActiveMember           0\n",
       "EstimatedSalary         67\n",
       "Exited                   0\n",
       "dtype: int64"
      ]
     },
     "execution_count": 96,
     "metadata": {},
     "output_type": "execute_result"
    }
   ],
   "source": [
    "df.isnull().sum()"
   ]
  },
  {
   "cell_type": "code",
   "execution_count": 102,
   "metadata": {},
   "outputs": [
    {
     "name": "stdout",
     "output_type": "stream",
     "text": [
      "<class 'pandas.core.frame.DataFrame'>\n",
      "Int64Index: 9805 entries, 0 to 9999\n",
      "Data columns (total 13 columns):\n",
      " #   Column                Non-Null Count  Dtype  \n",
      "---  ------                --------------  -----  \n",
      " 0   CreditScore           9805 non-null   float64\n",
      " 1   Geography             9805 non-null   int64  \n",
      " 2   Sex                   9805 non-null   float64\n",
      " 3   Age                   9805 non-null   float64\n",
      " 4   CurrentWorkingStatus  9805 non-null   float64\n",
      " 5   Tenure                9805 non-null   float64\n",
      " 6   Balance               9805 non-null   float64\n",
      " 7   NumOfProducts         9805 non-null   float64\n",
      " 8   ComplaintsLodged      9805 non-null   float64\n",
      " 9   HasCrCard             9805 non-null   float64\n",
      " 10  IsActiveMember        9805 non-null   float64\n",
      " 11  EstimatedSalary       9738 non-null   object \n",
      " 12  Exited                9805 non-null   object \n",
      "dtypes: float64(10), int64(1), object(2)\n",
      "memory usage: 1.0+ MB\n"
     ]
    }
   ],
   "source": [
    "#check EstimatedSalary\n",
    "df['EstimatedSalary'].head()\n",
    "df['EstimatedSalary'].isnull().sum()\n",
    "df.info()"
   ]
  },
  {
   "cell_type": "code",
   "execution_count": 105,
   "metadata": {},
   "outputs": [],
   "source": [
    "#change ? to null\n",
    "df['EstimatedSalary'].apply(lambda x: np.nan if x == '?' else x) \n",
    "df['EstimatedSalary'] = df['EstimatedSalary'].apply(lambda x: np.nan if x == '?' else x)"
   ]
  },
  {
   "cell_type": "code",
   "execution_count": 106,
   "metadata": {},
   "outputs": [
    {
     "data": {
      "text/plain": [
       "CreditScore               0\n",
       "Geography                 0\n",
       "Sex                       0\n",
       "Age                       0\n",
       "CurrentWorkingStatus      0\n",
       "Tenure                    0\n",
       "Balance                   0\n",
       "NumOfProducts             0\n",
       "ComplaintsLodged          0\n",
       "HasCrCard                 0\n",
       "IsActiveMember            0\n",
       "EstimatedSalary         131\n",
       "Exited                    0\n",
       "dtype: int64"
      ]
     },
     "execution_count": 106,
     "metadata": {},
     "output_type": "execute_result"
    }
   ],
   "source": [
    "df.isnull().sum()"
   ]
  },
  {
   "cell_type": "code",
   "execution_count": 107,
   "metadata": {},
   "outputs": [
    {
     "name": "stdout",
     "output_type": "stream",
     "text": [
      "<class 'pandas.core.frame.DataFrame'>\n",
      "Int64Index: 9805 entries, 0 to 9999\n",
      "Data columns (total 13 columns):\n",
      " #   Column                Non-Null Count  Dtype  \n",
      "---  ------                --------------  -----  \n",
      " 0   CreditScore           9805 non-null   float64\n",
      " 1   Geography             9805 non-null   int64  \n",
      " 2   Sex                   9805 non-null   float64\n",
      " 3   Age                   9805 non-null   float64\n",
      " 4   CurrentWorkingStatus  9805 non-null   float64\n",
      " 5   Tenure                9805 non-null   float64\n",
      " 6   Balance               9805 non-null   float64\n",
      " 7   NumOfProducts         9805 non-null   float64\n",
      " 8   ComplaintsLodged      9805 non-null   float64\n",
      " 9   HasCrCard             9805 non-null   float64\n",
      " 10  IsActiveMember        9805 non-null   float64\n",
      " 11  EstimatedSalary       9674 non-null   object \n",
      " 12  Exited                9805 non-null   object \n",
      "dtypes: float64(10), int64(1), object(2)\n",
      "memory usage: 1.0+ MB\n"
     ]
    }
   ],
   "source": [
    "df.info()"
   ]
  },
  {
   "cell_type": "code",
   "execution_count": 108,
   "metadata": {},
   "outputs": [],
   "source": [
    "#change to float\n",
    "df['EstimatedSalary'] = df['EstimatedSalary'].astype(float)"
   ]
  },
  {
   "cell_type": "code",
   "execution_count": 109,
   "metadata": {},
   "outputs": [
    {
     "data": {
      "text/plain": [
       "CreditScore               0\n",
       "Geography                 0\n",
       "Sex                       0\n",
       "Age                       0\n",
       "CurrentWorkingStatus      0\n",
       "Tenure                    0\n",
       "Balance                   0\n",
       "NumOfProducts             0\n",
       "ComplaintsLodged          0\n",
       "HasCrCard                 0\n",
       "IsActiveMember            0\n",
       "EstimatedSalary         131\n",
       "Exited                    0\n",
       "dtype: int64"
      ]
     },
     "execution_count": 109,
     "metadata": {},
     "output_type": "execute_result"
    }
   ],
   "source": [
    "df.isnull().sum()"
   ]
  },
  {
   "cell_type": "code",
   "execution_count": 110,
   "metadata": {},
   "outputs": [],
   "source": [
    "df['EstimatedSalary'].fillna(df['EstimatedSalary'].mean(), inplace=True)"
   ]
  },
  {
   "cell_type": "code",
   "execution_count": 111,
   "metadata": {},
   "outputs": [
    {
     "data": {
      "text/plain": [
       "CreditScore             0\n",
       "Geography               0\n",
       "Sex                     0\n",
       "Age                     0\n",
       "CurrentWorkingStatus    0\n",
       "Tenure                  0\n",
       "Balance                 0\n",
       "NumOfProducts           0\n",
       "ComplaintsLodged        0\n",
       "HasCrCard               0\n",
       "IsActiveMember          0\n",
       "EstimatedSalary         0\n",
       "Exited                  0\n",
       "dtype: int64"
      ]
     },
     "execution_count": 111,
     "metadata": {},
     "output_type": "execute_result"
    }
   ],
   "source": [
    "df.isnull().sum()"
   ]
  },
  {
   "cell_type": "code",
   "execution_count": 112,
   "metadata": {},
   "outputs": [
    {
     "name": "stdout",
     "output_type": "stream",
     "text": [
      "<class 'pandas.core.frame.DataFrame'>\n",
      "Int64Index: 9805 entries, 0 to 9999\n",
      "Data columns (total 13 columns):\n",
      " #   Column                Non-Null Count  Dtype  \n",
      "---  ------                --------------  -----  \n",
      " 0   CreditScore           9805 non-null   float64\n",
      " 1   Geography             9805 non-null   int64  \n",
      " 2   Sex                   9805 non-null   float64\n",
      " 3   Age                   9805 non-null   float64\n",
      " 4   CurrentWorkingStatus  9805 non-null   float64\n",
      " 5   Tenure                9805 non-null   float64\n",
      " 6   Balance               9805 non-null   float64\n",
      " 7   NumOfProducts         9805 non-null   float64\n",
      " 8   ComplaintsLodged      9805 non-null   float64\n",
      " 9   HasCrCard             9805 non-null   float64\n",
      " 10  IsActiveMember        9805 non-null   float64\n",
      " 11  EstimatedSalary       9805 non-null   float64\n",
      " 12  Exited                9805 non-null   object \n",
      "dtypes: float64(11), int64(1), object(1)\n",
      "memory usage: 1.0+ MB\n"
     ]
    }
   ],
   "source": [
    "df.info()"
   ]
  },
  {
   "cell_type": "code",
   "execution_count": 113,
   "metadata": {},
   "outputs": [],
   "source": [
    "#last is Exited, the type is wrong and change from yes to 0 no to 1\n",
    "exited_map = {'Yes':0, 'No': 1}\n",
    "df['Exited'] = df['Exited'].map(exited_map)"
   ]
  },
  {
   "cell_type": "code",
   "execution_count": 114,
   "metadata": {},
   "outputs": [
    {
     "name": "stdout",
     "output_type": "stream",
     "text": [
      "<class 'pandas.core.frame.DataFrame'>\n",
      "Int64Index: 9805 entries, 0 to 9999\n",
      "Data columns (total 13 columns):\n",
      " #   Column                Non-Null Count  Dtype  \n",
      "---  ------                --------------  -----  \n",
      " 0   CreditScore           9805 non-null   float64\n",
      " 1   Geography             9805 non-null   int64  \n",
      " 2   Sex                   9805 non-null   float64\n",
      " 3   Age                   9805 non-null   float64\n",
      " 4   CurrentWorkingStatus  9805 non-null   float64\n",
      " 5   Tenure                9805 non-null   float64\n",
      " 6   Balance               9805 non-null   float64\n",
      " 7   NumOfProducts         9805 non-null   float64\n",
      " 8   ComplaintsLodged      9805 non-null   float64\n",
      " 9   HasCrCard             9805 non-null   float64\n",
      " 10  IsActiveMember        9805 non-null   float64\n",
      " 11  EstimatedSalary       9805 non-null   float64\n",
      " 12  Exited                9805 non-null   int64  \n",
      "dtypes: float64(11), int64(2)\n",
      "memory usage: 1.0 MB\n"
     ]
    }
   ],
   "source": [
    "df.info()"
   ]
  },
  {
   "cell_type": "code",
   "execution_count": 116,
   "metadata": {},
   "outputs": [
    {
     "data": {
      "text/plain": [
       "array([0, 1], dtype=int64)"
      ]
     },
     "execution_count": 116,
     "metadata": {},
     "output_type": "execute_result"
    }
   ],
   "source": [
    "df['Exited'].unique()"
   ]
  },
  {
   "cell_type": "markdown",
   "metadata": {},
   "source": [
    "Move on to Task 2, which is D tree\n",
    "\n"
   ]
  },
  {
   "cell_type": "code",
   "execution_count": 119,
   "metadata": {},
   "outputs": [],
   "source": [
    "rs = 10\n",
    "X = df.drop(['Exited'], axis=1)\n",
    "y = df['Exited']\n",
    "X_mat = X.values\n",
    "X_train, X_test, y_train, y_test = train_test_split(X_mat, y,test_size=0.3, stratify=y,\n",
    " random_state=rs)\n"
   ]
  },
  {
   "cell_type": "code",
   "execution_count": 122,
   "metadata": {},
   "outputs": [
    {
     "data": {
      "text/plain": [
       "DecisionTreeClassifier(random_state=10)"
      ]
     },
     "execution_count": 122,
     "metadata": {},
     "output_type": "execute_result"
    }
   ],
   "source": [
    "#Default model\n",
    "model = DecisionTreeClassifier(random_state=rs)\n",
    "model.fit(X_train, y_train)"
   ]
  },
  {
   "cell_type": "code",
   "execution_count": 123,
   "metadata": {},
   "outputs": [
    {
     "name": "stdout",
     "output_type": "stream",
     "text": [
      "1.0\n",
      "0.9524133242692047\n"
     ]
    }
   ],
   "source": [
    "print(model.score(X_train, y_train))\n",
    "print(model.score(X_test, y_test))\n"
   ]
  },
  {
   "cell_type": "code",
   "execution_count": 125,
   "metadata": {},
   "outputs": [
    {
     "name": "stdout",
     "output_type": "stream",
     "text": [
      "ComplaintsLodged : 0.8235176171910765\n",
      "EstimatedSalary : 0.03902892952558776\n",
      "Balance : 0.03614032056634888\n",
      "CreditScore : 0.02951966629898504\n",
      "Age : 0.02936161355913492\n",
      "Tenure : 0.014151245033944068\n",
      "Geography : 0.009031730900968201\n",
      "NumOfProducts : 0.007364269378974969\n",
      "HasCrCard : 0.00531397025563901\n",
      "IsActiveMember : 0.003685839224740062\n",
      "Sex : 0.0028847980646004652\n",
      "CurrentWorkingStatus : 0.0\n"
     ]
    }
   ],
   "source": [
    "# grab feature importances from the model and feature name from the original X\n",
    "importances = model.feature_importances_\n",
    "feature_names = X.columns\n",
    "# sort them out in descending order\n",
    "indices = np.argsort(importances)\n",
    "indices = np.flip(indices, axis=0)\n",
    "# limit to 20 features, you can leave this out to print out everything\n",
    "indices = indices[:20]\n",
    "for i in indices:\n",
    " print(feature_names[i], ':', importances[i])"
   ]
  },
  {
   "cell_type": "code",
   "execution_count": null,
   "metadata": {},
   "outputs": [],
   "source": []
  }
 ],
 "metadata": {
  "kernelspec": {
   "display_name": "Python 3",
   "language": "python",
   "name": "python3"
  },
  "language_info": {
   "codemirror_mode": {
    "name": "ipython",
    "version": 3
   },
   "file_extension": ".py",
   "mimetype": "text/x-python",
   "name": "python",
   "nbconvert_exporter": "python",
   "pygments_lexer": "ipython3",
   "version": "3.8.5"
  }
 },
 "nbformat": 4,
 "nbformat_minor": 4
}
