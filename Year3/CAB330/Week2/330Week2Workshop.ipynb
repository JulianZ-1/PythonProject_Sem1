{
 "cells": [
  {
   "cell_type": "code",
   "execution_count": 1,
   "metadata": {},
   "outputs": [],
   "source": [
    "import pandas as pd\n",
    "import matplotlib.pyplot as plt\n",
    "import seaborn as sns"
   ]
  },
  {
   "cell_type": "code",
   "execution_count": 2,
   "metadata": {},
   "outputs": [
    {
     "name": "stdout",
     "output_type": "stream",
     "text": [
      "<class 'pandas.core.frame.DataFrame'>\n",
      "RangeIndex: 9686 entries, 0 to 9685\n",
      "Data columns (total 28 columns):\n",
      " #   Column            Non-Null Count  Dtype  \n",
      "---  ------            --------------  -----  \n",
      " 0   TargetB           9686 non-null   int64  \n",
      " 1   ID                9686 non-null   int64  \n",
      " 2   TargetD           4843 non-null   float64\n",
      " 3   GiftCnt36         9686 non-null   int64  \n",
      " 4   GiftCntAll        9686 non-null   int64  \n",
      " 5   GiftCntCard36     9686 non-null   int64  \n",
      " 6   GiftCntCardAll    9686 non-null   int64  \n",
      " 7   GiftAvgLast       9686 non-null   float64\n",
      " 8   GiftAvg36         9686 non-null   float64\n",
      " 9   GiftAvgAll        9686 non-null   float64\n",
      " 10  GiftAvgCard36     7906 non-null   float64\n",
      " 11  GiftTimeLast      9686 non-null   int64  \n",
      " 12  GiftTimeFirst     9686 non-null   int64  \n",
      " 13  PromCnt12         9686 non-null   int64  \n",
      " 14  PromCnt36         9686 non-null   int64  \n",
      " 15  PromCntAll        9686 non-null   int64  \n",
      " 16  PromCntCard12     9686 non-null   int64  \n",
      " 17  PromCntCard36     9686 non-null   int64  \n",
      " 18  PromCntCardAll    9686 non-null   int64  \n",
      " 19  StatusCat96NK     9686 non-null   object \n",
      " 20  StatusCatStarAll  9686 non-null   int64  \n",
      " 21  DemCluster        9686 non-null   int64  \n",
      " 22  DemAge            7279 non-null   float64\n",
      " 23  DemGender         9686 non-null   object \n",
      " 24  DemHomeOwner      9686 non-null   object \n",
      " 25  DemMedHomeValue   9686 non-null   int64  \n",
      " 26  DemPctVeterans    9686 non-null   int64  \n",
      " 27  DemMedIncome      9686 non-null   int64  \n",
      "dtypes: float64(6), int64(19), object(3)\n",
      "memory usage: 2.1+ MB\n",
      "None\n"
     ]
    }
   ],
   "source": [
    "df = pd.read_csv('veteran(5).csv')\n",
    "print(df.info())"
   ]
  },
  {
   "cell_type": "code",
   "execution_count": 3,
   "metadata": {},
   "outputs": [
    {
     "name": "stdout",
     "output_type": "stream",
     "text": [
      "count    7279.000000\n",
      "mean       59.150845\n",
      "std        16.516400\n",
      "min         0.000000\n",
      "25%        47.000000\n",
      "50%        60.000000\n",
      "75%        73.000000\n",
      "max        87.000000\n",
      "Name: DemAge, dtype: float64\n"
     ]
    }
   ],
   "source": [
    "#describe key statistics from DemAge column\n",
    "print(df['DemAge'].describe())"
   ]
  },
  {
   "cell_type": "code",
   "execution_count": 4,
   "metadata": {},
   "outputs": [
    {
     "name": "stdout",
     "output_type": "stream",
     "text": [
      "[nan 67. 53. 47. 58. 39. 50. 45. 80. 61. 76. 41. 75. 59. 51. 31. 54. 70.\n",
      " 42. 65. 81. 38. 56. 69. 52. 33. 73. 71. 29. 60. 83. 43. 35. 77. 44. 72.\n",
      " 64. 34. 55. 37. 57. 46. 49. 32. 66. 87. 40. 79. 25. 63. 62. 48. 68. 86.\n",
      " 23. 27. 74. 78. 85. 26.  7. 36. 82. 24. 17. 30. 84. 21. 28. 22. 19. 16.\n",
      " 14.  6.  0.  2. 20. 18. 15.  4.]\n"
     ]
    }
   ],
   "source": [
    "#unique values in DemAge\n",
    "print(df['DemAge'].unique())"
   ]
  },
  {
   "cell_type": "code",
   "execution_count": 5,
   "metadata": {},
   "outputs": [
    {
     "name": "stdout",
     "output_type": "stream",
     "text": [
      "73.0    216\n",
      "67.0    215\n",
      "75.0    203\n",
      "49.0    201\n",
      "57.0    187\n",
      "       ... \n",
      "2.0       1\n",
      "20.0      1\n",
      "4.0       1\n",
      "18.0      1\n",
      "15.0      1\n",
      "Name: DemAge, Length: 79, dtype: int64\n"
     ]
    }
   ],
   "source": [
    "#print number of occurences for each unique values in DemAge\n",
    "print(df['DemAge'].value_counts())"
   ]
  },
  {
   "cell_type": "code",
   "execution_count": 6,
   "metadata": {},
   "outputs": [
    {
     "name": "stdout",
     "output_type": "stream",
     "text": [
      "(69.6, 78.3]     1437\n",
      "(60.9, 69.6]     1250\n",
      "(43.5, 52.2]     1223\n",
      "(52.2, 60.9]     1043\n",
      "(78.3, 87.0]      932\n",
      "(34.8, 43.5]      889\n",
      "(26.1, 34.8]      342\n",
      "(17.4, 26.1]       72\n",
      "(8.7, 17.4]        53\n",
      "(-0.088, 8.7]      38\n",
      "Name: DemAge, dtype: int64\n"
     ]
    }
   ],
   "source": [
    "#Similar with above, but binned into 10 range bins for easier interpretation\n",
    "print(df['DemAge'].value_counts(bins=10))"
   ]
  },
  {
   "cell_type": "code",
   "execution_count": 7,
   "metadata": {},
   "outputs": [
    {
     "name": "stdout",
     "output_type": "stream",
     "text": [
      "TargetB\n",
      "0    58.304444\n",
      "1    59.979070\n",
      "Name: DemAge, dtype: float64\n"
     ]
    }
   ],
   "source": [
    "#get the average age of donors, goruped by their lapsing information\n",
    "print(df.groupby(['TargetB'])['DemAge'].mean())"
   ]
  },
  {
   "cell_type": "code",
   "execution_count": 8,
   "metadata": {},
   "outputs": [
    {
     "name": "stdout",
     "output_type": "stream",
     "text": [
      "Raw count of genders of lapsing and non-lapsing donors\n",
      "TargetB  DemGender\n",
      "0        F            2614\n",
      "         M            1963\n",
      "         U             266\n",
      "1        F            2609\n",
      "         M            1962\n",
      "         U             272\n",
      "Name: DemGender, dtype: int64\n",
      "---------------------------------------------------------\n",
      "Normalised count (percenteage) of genders of lapsing and non-lapsing donors\n",
      "TargetB  DemGender\n",
      "0        F            0.539748\n",
      "         M            0.405327\n",
      "         U            0.054925\n",
      "1        F            0.538716\n",
      "         M            0.405121\n",
      "         U            0.056164\n",
      "Name: DemGender, dtype: float64\n"
     ]
    }
   ],
   "source": [
    "#get the value count of each gender\n",
    "print(\"Raw count of genders of lapsing and non-lapsing donors\")\n",
    "print(df.groupby(['TargetB'])['DemGender'].value_counts())\n",
    "\n",
    "print(\"---------------------------------------------------------\")\n",
    "#add normalisation to get the relative frequency\n",
    "print(\"Normalised count (percenteage) of genders of lapsing and non-lapsing donors\")\n",
    "print(df.groupby(['TargetB'])['DemGender'].value_counts(normalize=True))"
   ]
  },
  {
   "cell_type": "code",
   "execution_count": 9,
   "metadata": {},
   "outputs": [
    {
     "data": {
      "image/png": "[encoded data removed]",
      "text/plain": [
       "<Figure size 360x360 with 1 Axes>"
      ]
     },
     "metadata": {
      "needs_background": "light"
     },
     "output_type": "display_data"
    }
   ],
   "source": [
    "#To igonre any future warinings\n",
    "import warnings\n",
    "warnings.filterwarnings(\"ignore\")\n",
    "\n",
    "#dropna is used beacuse 'DemAge' as ,ossomg va;ies\n",
    "dg = sns.displot(df['DemAge'].dropna())\n",
    "plt.show()"
   ]
  },
  {
   "cell_type": "code",
   "execution_count": 10,
   "metadata": {},
   "outputs": [
    {
     "data": {
      "image/png": "[encoded data removed]",
      "text/plain": [
       "<Figure size 432x288 with 1 Axes>"
      ]
     },
     "metadata": {
      "needs_background": "light"
     },
     "output_type": "display_data"
    }
   ],
   "source": [
    "dg = sns.countplot(data=df, x= 'DemGender')\n",
    "plt.show()"
   ]
  },
  {
   "cell_type": "code",
   "execution_count": 11,
   "metadata": {},
   "outputs": [
    {
     "data": {
      "image/png": "[encoded data removed]",
      "text/plain": [
       "<Figure size 432x288 with 1 Axes>"
      ]
     },
     "metadata": {
      "needs_background": "light"
     },
     "output_type": "display_data"
    }
   ],
   "source": [
    "ax = sns.boxplot(x=\"TargetB\", y=\"DemMedHomeValue\", data = df)\n",
    "plt.show()"
   ]
  },
  {
   "cell_type": "code",
   "execution_count": 12,
   "metadata": {},
   "outputs": [],
   "source": [
    "#Change DemCluster form interval/interger to nominal/str\n",
    "df['DemCluster'] = df['DemCluster'].astype(str)"
   ]
  },
  {
   "cell_type": "code",
   "execution_count": 13,
   "metadata": {},
   "outputs": [],
   "source": [
    "#to check if it work or not\n",
    "#print(df['DemCluster'].describe())"
   ]
  },
  {
   "cell_type": "code",
   "execution_count": 14,
   "metadata": {},
   "outputs": [
    {
     "data": {
      "text/plain": [
       "H    5377\n",
       "U    4309\n",
       "Name: DemHomeOwner, dtype: int64"
      ]
     },
     "execution_count": 14,
     "metadata": {},
     "output_type": "execute_result"
    }
   ],
   "source": [
    "df['DemHomeOwner'].value_counts()"
   ]
  },
  {
   "cell_type": "code",
   "execution_count": 15,
   "metadata": {},
   "outputs": [],
   "source": [
    "#Change DemHomeOnwer into binary 0/1 varibale\n",
    "dem_home_onwer_map = {'U':0, 'H':1}\n",
    "df['DemHomeOnwer'] = df['DemHomeOwner'].map(dem_home_onwer_map)\n",
    "#to check if it work or not\n",
    "#print(df['DemHomeOwner'].describe())"
   ]
  },
  {
   "cell_type": "code",
   "execution_count": 16,
   "metadata": {},
   "outputs": [
    {
     "data": {
      "text/plain": [
       "0        2357\n",
       "43100      10\n",
       "46250       8\n",
       "72339       8\n",
       "48772       8\n",
       "         ... \n",
       "40080       1\n",
       "29464       1\n",
       "51999       1\n",
       "72485       1\n",
       "41000       1\n",
       "Name: DemMedIncome, Length: 4463, dtype: int64"
      ]
     },
     "execution_count": 16,
     "metadata": {},
     "output_type": "execute_result"
    }
   ],
   "source": [
    "df['DemMedIncome'].value_counts()"
   ]
  },
  {
   "cell_type": "code",
   "execution_count": 17,
   "metadata": {},
   "outputs": [],
   "source": [
    "#denote errorneous values in DemMidIncome\n",
    "mask = df['DemMedIncome'] <1"
   ]
  },
  {
   "cell_type": "code",
   "execution_count": 18,
   "metadata": {},
   "outputs": [],
   "source": [
    "import numpy as np \n",
    "df.loc[mask, 'DemMedIncome'] = np.nan"
   ]
  },
  {
   "cell_type": "code",
   "execution_count": 19,
   "metadata": {},
   "outputs": [],
   "source": [
    "#input missing values in DemAge with tis mean\n",
    "df['DemAge'].fillna(df['DemAge'].mean(), inplace = True)"
   ]
  },
  {
   "cell_type": "code",
   "execution_count": 20,
   "metadata": {},
   "outputs": [],
   "source": [
    "#input med income using mean\n",
    "df['DemMedIncome'].fillna(df['DemMedIncome'].mean(), inplace = True)"
   ]
  },
  {
   "cell_type": "code",
   "execution_count": 21,
   "metadata": {},
   "outputs": [],
   "source": [
    "#input gift avg card 36 using mean\n",
    "df['GiftAvgCard36'].fillna(df['GiftAvgCard36'].mean(), inplace = True)"
   ]
  },
  {
   "cell_type": "code",
   "execution_count": 22,
   "metadata": {},
   "outputs": [],
   "source": [
    "df.drop(['ID','TargetD'], axis =1, inplace = True)"
   ]
  },
  {
   "cell_type": "code",
   "execution_count": 23,
   "metadata": {},
   "outputs": [
    {
     "name": "stdout",
     "output_type": "stream",
     "text": [
      "0    F\n",
      "1    F\n",
      "2    M\n",
      "3    M\n",
      "4    M\n",
      "Name: DemGender, dtype: object\n"
     ]
    }
   ],
   "source": [
    "#for gender, before one hot encoding.. head() is used to display first 5 records.\n",
    "print(df['DemGender'].head(5))"
   ]
  },
  {
   "cell_type": "code",
   "execution_count": 24,
   "metadata": {},
   "outputs": [
    {
     "data": {
      "text/html": [
       "<div>\n",
       "<style scoped>\n",
       "    .dataframe tbody tr th:only-of-type {\n",
       "        vertical-align: middle;\n",
       "    }\n",
       "\n",
       "    .dataframe tbody tr th {\n",
       "        vertical-align: top;\n",
       "    }\n",
       "\n",
       "    .dataframe thead th {\n",
       "        text-align: right;\n",
       "    }\n",
       "</style>\n",
       "<table border=\"1\" class=\"dataframe\">\n",
       "  <thead>\n",
       "    <tr style=\"text-align: right;\">\n",
       "      <th></th>\n",
       "      <th>F</th>\n",
       "      <th>M</th>\n",
       "      <th>U</th>\n",
       "    </tr>\n",
       "  </thead>\n",
       "  <tbody>\n",
       "    <tr>\n",
       "      <th>0</th>\n",
       "      <td>1</td>\n",
       "      <td>0</td>\n",
       "      <td>0</td>\n",
       "    </tr>\n",
       "    <tr>\n",
       "      <th>1</th>\n",
       "      <td>1</td>\n",
       "      <td>0</td>\n",
       "      <td>0</td>\n",
       "    </tr>\n",
       "    <tr>\n",
       "      <th>2</th>\n",
       "      <td>0</td>\n",
       "      <td>1</td>\n",
       "      <td>0</td>\n",
       "    </tr>\n",
       "    <tr>\n",
       "      <th>3</th>\n",
       "      <td>0</td>\n",
       "      <td>1</td>\n",
       "      <td>0</td>\n",
       "    </tr>\n",
       "    <tr>\n",
       "      <th>4</th>\n",
       "      <td>0</td>\n",
       "      <td>1</td>\n",
       "      <td>0</td>\n",
       "    </tr>\n",
       "  </tbody>\n",
       "</table>\n",
       "</div>"
      ],
      "text/plain": [
       "   F  M  U\n",
       "0  1  0  0\n",
       "1  1  0  0\n",
       "2  0  1  0\n",
       "3  0  1  0\n",
       "4  0  1  0"
      ]
     },
     "execution_count": 24,
     "metadata": {},
     "output_type": "execute_result"
    }
   ],
   "source": [
    "#after one hot encoding\n",
    "demo_df = pd.get_dummies(df['DemGender'])\n",
    "demo_df.head(5)"
   ]
  },
  {
   "cell_type": "code",
   "execution_count": 25,
   "metadata": {},
   "outputs": [
    {
     "name": "stdout",
     "output_type": "stream",
     "text": [
      "Before: 27\n",
      "After: 88\n"
     ]
    }
   ],
   "source": [
    "#one hoe encoding all categorical varibles\n",
    "#all numerical varibales are automatically excluded\n",
    "#number of clumns after the conversion should increase singificantly\n",
    "print(\"Before:\", len(df.columns))\n",
    "\n",
    "#one hot encoding\n",
    "df = pd.get_dummies(df)\n",
    "\n",
    "print(\"After:\", len(df.columns))"
   ]
  },
  {
   "cell_type": "code",
   "execution_count": 27,
   "metadata": {},
   "outputs": [
    {
     "name": "stdout",
     "output_type": "stream",
     "text": [
      "<class 'pandas.core.frame.DataFrame'>\n",
      "RangeIndex: 9686 entries, 0 to 9685\n",
      "Data columns (total 88 columns):\n",
      " #   Column            Non-Null Count  Dtype  \n",
      "---  ------            --------------  -----  \n",
      " 0   TargetB           9686 non-null   int64  \n",
      " 1   GiftCnt36         9686 non-null   int64  \n",
      " 2   GiftCntAll        9686 non-null   int64  \n",
      " 3   GiftCntCard36     9686 non-null   int64  \n",
      " 4   GiftCntCardAll    9686 non-null   int64  \n",
      " 5   GiftAvgLast       9686 non-null   float64\n",
      " 6   GiftAvg36         9686 non-null   float64\n",
      " 7   GiftAvgAll        9686 non-null   float64\n",
      " 8   GiftAvgCard36     9686 non-null   float64\n",
      " 9   GiftTimeLast      9686 non-null   int64  \n",
      " 10  GiftTimeFirst     9686 non-null   int64  \n",
      " 11  PromCnt12         9686 non-null   int64  \n",
      " 12  PromCnt36         9686 non-null   int64  \n",
      " 13  PromCntAll        9686 non-null   int64  \n",
      " 14  PromCntCard12     9686 non-null   int64  \n",
      " 15  PromCntCard36     9686 non-null   int64  \n",
      " 16  PromCntCardAll    9686 non-null   int64  \n",
      " 17  StatusCatStarAll  9686 non-null   int64  \n",
      " 18  DemAge            9686 non-null   float64\n",
      " 19  DemMedHomeValue   9686 non-null   int64  \n",
      " 20  DemPctVeterans    9686 non-null   int64  \n",
      " 21  DemMedIncome      9686 non-null   float64\n",
      " 22  DemHomeOnwer      9686 non-null   int64  \n",
      " 23  StatusCat96NK_A   9686 non-null   uint8  \n",
      " 24  StatusCat96NK_E   9686 non-null   uint8  \n",
      " 25  StatusCat96NK_F   9686 non-null   uint8  \n",
      " 26  StatusCat96NK_L   9686 non-null   uint8  \n",
      " 27  StatusCat96NK_N   9686 non-null   uint8  \n",
      " 28  StatusCat96NK_S   9686 non-null   uint8  \n",
      " 29  DemCluster_0      9686 non-null   uint8  \n",
      " 30  DemCluster_1      9686 non-null   uint8  \n",
      " 31  DemCluster_10     9686 non-null   uint8  \n",
      " 32  DemCluster_11     9686 non-null   uint8  \n",
      " 33  DemCluster_12     9686 non-null   uint8  \n",
      " 34  DemCluster_13     9686 non-null   uint8  \n",
      " 35  DemCluster_14     9686 non-null   uint8  \n",
      " 36  DemCluster_15     9686 non-null   uint8  \n",
      " 37  DemCluster_16     9686 non-null   uint8  \n",
      " 38  DemCluster_17     9686 non-null   uint8  \n",
      " 39  DemCluster_18     9686 non-null   uint8  \n",
      " 40  DemCluster_19     9686 non-null   uint8  \n",
      " 41  DemCluster_2      9686 non-null   uint8  \n",
      " 42  DemCluster_20     9686 non-null   uint8  \n",
      " 43  DemCluster_21     9686 non-null   uint8  \n",
      " 44  DemCluster_22     9686 non-null   uint8  \n",
      " 45  DemCluster_23     9686 non-null   uint8  \n",
      " 46  DemCluster_24     9686 non-null   uint8  \n",
      " 47  DemCluster_25     9686 non-null   uint8  \n",
      " 48  DemCluster_26     9686 non-null   uint8  \n",
      " 49  DemCluster_27     9686 non-null   uint8  \n",
      " 50  DemCluster_28     9686 non-null   uint8  \n",
      " 51  DemCluster_29     9686 non-null   uint8  \n",
      " 52  DemCluster_3      9686 non-null   uint8  \n",
      " 53  DemCluster_30     9686 non-null   uint8  \n",
      " 54  DemCluster_31     9686 non-null   uint8  \n",
      " 55  DemCluster_32     9686 non-null   uint8  \n",
      " 56  DemCluster_33     9686 non-null   uint8  \n",
      " 57  DemCluster_34     9686 non-null   uint8  \n",
      " 58  DemCluster_35     9686 non-null   uint8  \n",
      " 59  DemCluster_36     9686 non-null   uint8  \n",
      " 60  DemCluster_37     9686 non-null   uint8  \n",
      " 61  DemCluster_38     9686 non-null   uint8  \n",
      " 62  DemCluster_39     9686 non-null   uint8  \n",
      " 63  DemCluster_4      9686 non-null   uint8  \n",
      " 64  DemCluster_40     9686 non-null   uint8  \n",
      " 65  DemCluster_41     9686 non-null   uint8  \n",
      " 66  DemCluster_42     9686 non-null   uint8  \n",
      " 67  DemCluster_43     9686 non-null   uint8  \n",
      " 68  DemCluster_44     9686 non-null   uint8  \n",
      " 69  DemCluster_45     9686 non-null   uint8  \n",
      " 70  DemCluster_46     9686 non-null   uint8  \n",
      " 71  DemCluster_47     9686 non-null   uint8  \n",
      " 72  DemCluster_48     9686 non-null   uint8  \n",
      " 73  DemCluster_49     9686 non-null   uint8  \n",
      " 74  DemCluster_5      9686 non-null   uint8  \n",
      " 75  DemCluster_50     9686 non-null   uint8  \n",
      " 76  DemCluster_51     9686 non-null   uint8  \n",
      " 77  DemCluster_52     9686 non-null   uint8  \n",
      " 78  DemCluster_53     9686 non-null   uint8  \n",
      " 79  DemCluster_6      9686 non-null   uint8  \n",
      " 80  DemCluster_7      9686 non-null   uint8  \n",
      " 81  DemCluster_8      9686 non-null   uint8  \n",
      " 82  DemCluster_9      9686 non-null   uint8  \n",
      " 83  DemGender_F       9686 non-null   uint8  \n",
      " 84  DemGender_M       9686 non-null   uint8  \n",
      " 85  DemGender_U       9686 non-null   uint8  \n",
      " 86  DemHomeOwner_H    9686 non-null   uint8  \n",
      " 87  DemHomeOwner_U    9686 non-null   uint8  \n",
      "dtypes: float64(6), int64(17), uint8(65)\n",
      "memory usage: 2.3 MB\n",
      "None\n"
     ]
    }
   ],
   "source": [
    "print(df.info())"
   ]
  },
  {
   "cell_type": "code",
   "execution_count": null,
   "metadata": {},
   "outputs": [],
   "source": [
    "#dm_tools.py\n",
    "import numpy as np\n",
    "import pandas as pd\n",
    "\n",
    "def data_prep():\n",
    "    #read the veteran dataset\n",
    "    df = pd.read_csv('veteran.csv')\n",
    "    \n",
    "    #change DemCluster from interval/integer to nominal/str\n",
    "    df['DemCluster'] = df['DemCluster'].astype(str)\n",
    "    \n",
    "    #change DemHomeOnwer into binary 0/1 varibale\n",
    "    dem_home_onwer_map = {'U':0, 'H':1}\n",
    "    df['DemHomeOnwer'] = df['DemHomeOnwer'].map(dem_home_onwer_map)\n",
    "    \n",
    "    #denote errorneous values in DemMidIncome\n",
    "    mask = df['DemMedIncome'] <1\n",
    "    df.loc[mask, 'DemMedIncome'] = np.nan\n",
    "    \n",
    "    #imput missing values in DemAge with its mean\n",
    "    df['DemAge'].fillna(df['DemAge'].mean(), inplace=True)\n",
    "    \n",
    "    #input med income using mean\n",
    "    df['DemMedIncome'].fillna(df['DemMendIncome'].mean(), inplace = True)\n",
    "    \n",
    "    #input gift avg card 36 using mean\n",
    "    df['GiftAvgCard36'].fillna(df['GiftAvgCard36'].mean(), inplace = True)\n",
    "    \n",
    "    #drop ID and the unsused target varibles\n",
    "    df.drop(['ID','TargetD'], axis =1, inplace = True)\n",
    "    \n",
    "    df = pd.get_dummies(df)\n",
    "    \n",
    "    return df"
   ]
  },
  {
   "cell_type": "code",
   "execution_count": null,
   "metadata": {},
   "outputs": [],
   "source": [
    "#below is the questions form week2"
   ]
  },
  {
   "cell_type": "code",
   "execution_count": null,
   "metadata": {},
   "outputs": [],
   "source": [
    "import numpy as np \n",
    "df = pd.read_csv('melbourne_house_price(1).csv',index_col=0)\n",
    "print(df.info())"
   ]
  },
  {
   "cell_type": "code",
   "execution_count": null,
   "metadata": {},
   "outputs": [],
   "source": [
    "print(df['Rooms'].describe())\n",
    "#mean is 2.98\n",
    "#median is 3"
   ]
  },
  {
   "cell_type": "code",
   "execution_count": null,
   "metadata": {},
   "outputs": [],
   "source": [
    "print(df['Distance'].value_counts(bins=10))\n",
    "#How many houses are in each bin"
   ]
  },
  {
   "cell_type": "code",
   "execution_count": null,
   "metadata": {},
   "outputs": [],
   "source": [
    "print(df['Method'].unique())\n",
    "#5"
   ]
  },
  {
   "cell_type": "code",
   "execution_count": null,
   "metadata": {},
   "outputs": [],
   "source": [
    "#4. Corrlat ion between property type and priceabove median\n",
    "df.groupby(['Type'])['Price_above_median'].value_counts()"
   ]
  },
  {
   "cell_type": "code",
   "execution_count": null,
   "metadata": {},
   "outputs": [],
   "source": [
    "dg = sns.displot(df['Distance'].dropna())\n",
    "plt.show()"
   ]
  },
  {
   "cell_type": "code",
   "execution_count": null,
   "metadata": {},
   "outputs": [],
   "source": [
    "#distribution plot for the catgorical column of \"Type\"\n",
    "dg1 = sns.countplot(data = df, x='Type')\n",
    "plt.show()"
   ]
  },
  {
   "cell_type": "code",
   "execution_count": null,
   "metadata": {},
   "outputs": [],
   "source": [
    "#distribution plot of rooms, goruped by property type\n",
    "dg2 = sns.boxplot(x='Type',y='Rooms', data = df)\n",
    "plt.show()"
   ]
  },
  {
   "cell_type": "markdown",
   "metadata": {},
   "source": [
    "Correctring errors in data\n",
    "By performing data exploration, grouping and plotting, what problems have you revealed with the dataset?\n",
    "\n"
   ]
  }
 ],
 "metadata": {
  "kernelspec": {
   "display_name": "Python 3",
   "language": "python",
   "name": "python3"
  },
  "language_info": {
   "codemirror_mode": {
    "name": "ipython",
    "version": 3
   },
   "file_extension": ".py",
   "mimetype": "text/x-python",
   "name": "python",
   "nbconvert_exporter": "python",
   "pygments_lexer": "ipython3",
   "version": "3.8.5"
  }
 },
 "nbformat": 4,
 "nbformat_minor": 4
}
